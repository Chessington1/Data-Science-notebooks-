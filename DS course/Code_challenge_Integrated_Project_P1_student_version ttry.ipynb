{
 "cells": [
  {
   "cell_type": "markdown",
   "metadata": {},
   "source": [
    "<div align=\"center\" style=\" font-size: 80%; text-align: center; margin: 0 auto\">\n",
    "<img src=\"https://raw.githubusercontent.com/Explore-AI/Pictures/master/Python-Notebook-Banners/Code_challenge.png\"  style=\"display: block; margin-left: auto; margin-right: auto;\";/>\n",
    "</div>"
   ]
  },
  {
   "cell_type": "markdown",
   "id": "f662d169",
   "metadata": {},
   "source": [
    "## Integrated Project: Understanding Maji Ndogo's agriculture\n",
    "© ExploreAI Academy"
   ]
  },
  {
   "cell_type": "markdown",
   "id": "26af890c",
   "metadata": {},
   "source": [
    "In this coding challenge, we will apply all of the skills we learned in Pandas."
   ]
  },
  {
   "cell_type": "markdown",
   "id": "2d230d14",
   "metadata": {
    "tags": []
   },
   "source": [
    "⚠️ **Note that this code challenge is graded and will contribute to your overall marks for this module. Submit this notebook for grading. Note that the names of the functions are different in this notebook. Transfer the code in your notebook to this submission notebook**\n",
    "\n",
    "### Instructions\n",
    "\n",
    "- **Do not add or remove cells in this notebook. Do not edit or remove the `### START FUNCTION` or `### END FUNCTION` comments. Do not add any code outside of the functions you are required to edit. Doing any of this will lead to a mark of 0%!**\n",
    "\n",
    "- Answer the questions according to the specifications provided.\n",
    "\n",
    "- Use the given cell in each question to see if your function matches the expected outputs.\n",
    "\n",
    "- Do not hard-code answers to the questions.\n",
    "\n",
    "- The use of StackOverflow, Google, and other online tools is permitted. However, copying a fellow student's code is not permissible and is considered a breach of the Honour code. Doing this will result in a mark of 0%."
   ]
  },
  {
   "cell_type": "markdown",
   "id": "8944ccbc",
   "metadata": {},
   "source": [
    "# Introduction"
   ]
  },
  {
   "cell_type": "markdown",
   "id": "cf2e633f",
   "metadata": {},
   "source": [
    "Hey there, I'm glad you're on board for the Maji Ndogo project AGAIN! Let me walk you through what we're up against and how we'll tackle it.\n",
    "\n",
    "As you know, we're in an ambitious project aimed at automating farming in Maji Ndogo, a place with diverse and challenging agricultural landscapes. Before we dive into the 'how' of farming, we need to figure out the 'where' and 'what'. It's not just about deploying technology; it's about making informed decisions on where to plant specific crops, considering factors like rainfall, soil type, climate, and many others.\n",
    "\n",
    "Our analysis is the groundwork for this entire automation project. We have an array of variables like soil fertility, climate conditions, and geographical data. By understanding these elements, we can recommend the best locations for different crops. It's a bit like solving a complex puzzle – each piece of data is crucial to seeing the bigger picture.\n",
    "\n",
    "We'll start by importing our dataset into a DataFrame. It is currently in an SQLite database, and split into tables. Unlike Power BI or SQL, data analysis in Python happens in a single table. So we will have to brush off those dusty SQL skills to get the data imported. Expect a bit of a mess in the data – it's part of the challenge. We need to clean it up and maybe reshape it to make sense of it. It's like sorting out the tools and materials we need and getting rid of what we don't.\n",
    "\n",
    "Here's where the real fun begins. We'll dive deep into the data, looking for patterns, and correlations. Each clue in the data leads us closer to understanding the best farming practices for Maji Ndogo. I'll be relying on your skills and insights. We'll be working through these steps together, discussing our findings and strategies.\n",
    "\n",
    "Let's gear up and get ready to make a real difference in Maji Ndogo. Ready to get started? Let's dive into our data and see what stories it has to tell us.\n",
    "\n",
    "Sanaa."
   ]
  },
  {
   "cell_type": "markdown",
   "id": "147be850",
   "metadata": {},
   "source": [
    "# Data dictionary"
   ]
  },
  {
   "cell_type": "markdown",
   "id": "bfe8e55e",
   "metadata": {},
   "source": [
    "**1. Geographic features**\n",
    "\n",
    "- **Field_ID:** A unique identifier for each field (BigInt).\n",
    " \n",
    "- **Elevation:** The elevation of the field above sea level in metres (Float).\n",
    "\n",
    "- **Latitude:** Geographical latitude of the field in degrees (Float).\n",
    "\n",
    "- **Longitude:** Geographical longitude of the field in degrees (Float).\n",
    "\n",
    "- **Location:** Province the field is in (Text).\n",
    "\n",
    "- **Slope:** The slope of the land in the field (Float).\n",
    "\n",
    "**2. Weather features**\n",
    "\n",
    "- **Field_ID:** Corresponding field identifier (BigInt).\n",
    "\n",
    "- **Rainfall:** Amount of rainfall in the area in mm (Float).\n",
    "\n",
    "- **Min_temperature_C:** Average minimum temperature recorded in Celsius (Float).\n",
    "\n",
    "- **Max_temperature_C:** Average maximum temperature recorded in Celsius (Float).\n",
    "\n",
    "- **Ave_temps:** Average temperature in Celcius (Float).\n",
    "\n",
    "**3. Soil and crop features**\n",
    "\n",
    "- **Field_ID:** Corresponding field identifier (BigInt).\n",
    "\n",
    "- **Soil_fertility:** A measure of soil fertility where 0 is infertile soil, and 1 is very fertile soil (Float).\n",
    "\n",
    "- **Soil_type:** Type of soil present in the field (Text).\n",
    "\n",
    "- **pH:** pH level of the soil, which is a measure of how acidic/basic the soil is (Float).\n",
    "\n",
    "**4. Farm management features**\n",
    "\n",
    "- **Field_ID:** Corresponding field identifier (BigInt).\n",
    "\n",
    "- **Pollution_level:** Level of pollution in the area where 0 is unpolluted and 1 is very polluted (Float).\n",
    "\n",
    "- **Plot_size:** Size of the plot in the field (Ha) (Float).\n",
    "\n",
    "- **Chosen_crop:** Type of crop chosen for cultivation (Text).\n",
    "\n",
    "- **Annual_yield:** Annual yield from the field (Float). This is the total output of the field. The field size and type of crop will affect the Annual Yield\n",
    "\n",
    "- **Standard_yield:** Standardised yield expected from the field, normalised per crop (Float). This is independent of field size, or crop type. Multiplying this number by the field size, and average crop yield will give the Annual_Yield."
   ]
  },
  {
   "cell_type": "markdown",
   "id": "936f0f12",
   "metadata": {},
   "source": [
    "**Average yield (tons/Ha) per crop type:**\n",
    "- **Coffee:** 1.5 \n",
    "\n",
    "- **Wheat:** 3\n",
    "\n",
    "- **Rice:** 4.5\n",
    "\n",
    "- **Maize:** 5.5\n",
    "\n",
    "- **Tea:** 1.2\n",
    "\n",
    "- **Potato:** 20\n",
    "\n",
    "- **Banana:** 30\n",
    "\n",
    "- **Cassava:** 13\n",
    "\n"
   ]
  },
  {
   "cell_type": "markdown",
   "id": "03b39b1a",
   "metadata": {},
   "source": [
    "Alright, let's walk through the process of importing our SQL data from multiple tables into a single DataFrame. This is a crucial step as it sets the foundation for all our subsequent analyses.\n",
    "\n",
    "We're dealing with an SQLite database, `Maji_Ndogo_farm_survey.db`, which contains multiple tables. We'll need to join these tables on a common key to create a comprehensive dataset for our analysis. The common key in our case is `Field_ID`.\n",
    "\n",
    "Here’s how we can do it:"
   ]
  },
  {
   "cell_type": "code",
   "execution_count": 2,
   "id": "254af026",
   "metadata": {},
   "outputs": [
    {
     "name": "stdout",
     "output_type": "stream",
     "text": [
      "Collecting sqlalchemy\n",
      "  Using cached sqlalchemy-2.0.44-cp313-cp313-win_amd64.whl.metadata (9.8 kB)\n",
      "Collecting greenlet>=1 (from sqlalchemy)\n",
      "  Using cached greenlet-3.2.4-cp313-cp313-win_amd64.whl.metadata (4.2 kB)\n",
      "Requirement already satisfied: typing-extensions>=4.6.0 in c:\\users\\lenovo\\anaconda3\\envs\\python_env\\lib\\site-packages (from sqlalchemy) (4.15.0)\n",
      "Using cached sqlalchemy-2.0.44-cp313-cp313-win_amd64.whl (2.1 MB)\n",
      "Using cached greenlet-3.2.4-cp313-cp313-win_amd64.whl (299 kB)\n",
      "Installing collected packages: greenlet, sqlalchemy\n",
      "\n",
      "   ---------------------------------------- 0/2 [greenlet]\n",
      "   ---------------------------------------- 0/2 [greenlet]\n",
      "   ---------------------------------------- 0/2 [greenlet]\n",
      "   ---------------------------------------- 0/2 [greenlet]\n",
      "   ---------------------------------------- 0/2 [greenlet]\n",
      "   ---------------------------------------- 0/2 [greenlet]\n",
      "   -------------------- ------------------- 1/2 [sqlalchemy]\n",
      "   -------------------- ------------------- 1/2 [sqlalchemy]\n",
      "   -------------------- ------------------- 1/2 [sqlalchemy]\n",
      "   -------------------- ------------------- 1/2 [sqlalchemy]\n",
      "   -------------------- ------------------- 1/2 [sqlalchemy]\n",
      "   -------------------- ------------------- 1/2 [sqlalchemy]\n",
      "   -------------------- ------------------- 1/2 [sqlalchemy]\n",
      "   -------------------- ------------------- 1/2 [sqlalchemy]\n",
      "   -------------------- ------------------- 1/2 [sqlalchemy]\n",
      "   -------------------- ------------------- 1/2 [sqlalchemy]\n",
      "   -------------------- ------------------- 1/2 [sqlalchemy]\n",
      "   -------------------- ------------------- 1/2 [sqlalchemy]\n",
      "   -------------------- ------------------- 1/2 [sqlalchemy]\n",
      "   -------------------- ------------------- 1/2 [sqlalchemy]\n",
      "   -------------------- ------------------- 1/2 [sqlalchemy]\n",
      "   -------------------- ------------------- 1/2 [sqlalchemy]\n",
      "   -------------------- ------------------- 1/2 [sqlalchemy]\n",
      "   -------------------- ------------------- 1/2 [sqlalchemy]\n",
      "   -------------------- ------------------- 1/2 [sqlalchemy]\n",
      "   -------------------- ------------------- 1/2 [sqlalchemy]\n",
      "   -------------------- ------------------- 1/2 [sqlalchemy]\n",
      "   -------------------- ------------------- 1/2 [sqlalchemy]\n",
      "   -------------------- ------------------- 1/2 [sqlalchemy]\n",
      "   -------------------- ------------------- 1/2 [sqlalchemy]\n",
      "   -------------------- ------------------- 1/2 [sqlalchemy]\n",
      "   -------------------- ------------------- 1/2 [sqlalchemy]\n",
      "   -------------------- ------------------- 1/2 [sqlalchemy]\n",
      "   -------------------- ------------------- 1/2 [sqlalchemy]\n",
      "   -------------------- ------------------- 1/2 [sqlalchemy]\n",
      "   -------------------- ------------------- 1/2 [sqlalchemy]\n",
      "   -------------------- ------------------- 1/2 [sqlalchemy]\n",
      "   -------------------- ------------------- 1/2 [sqlalchemy]\n",
      "   -------------------- ------------------- 1/2 [sqlalchemy]\n",
      "   -------------------- ------------------- 1/2 [sqlalchemy]\n",
      "   -------------------- ------------------- 1/2 [sqlalchemy]\n",
      "   -------------------- ------------------- 1/2 [sqlalchemy]\n",
      "   -------------------- ------------------- 1/2 [sqlalchemy]\n",
      "   -------------------- ------------------- 1/2 [sqlalchemy]\n",
      "   -------------------- ------------------- 1/2 [sqlalchemy]\n",
      "   -------------------- ------------------- 1/2 [sqlalchemy]\n",
      "   -------------------- ------------------- 1/2 [sqlalchemy]\n",
      "   -------------------- ------------------- 1/2 [sqlalchemy]\n",
      "   -------------------- ------------------- 1/2 [sqlalchemy]\n",
      "   -------------------- ------------------- 1/2 [sqlalchemy]\n",
      "   -------------------- ------------------- 1/2 [sqlalchemy]\n",
      "   -------------------- ------------------- 1/2 [sqlalchemy]\n",
      "   -------------------- ------------------- 1/2 [sqlalchemy]\n",
      "   -------------------- ------------------- 1/2 [sqlalchemy]\n",
      "   -------------------- ------------------- 1/2 [sqlalchemy]\n",
      "   -------------------- ------------------- 1/2 [sqlalchemy]\n",
      "   -------------------- ------------------- 1/2 [sqlalchemy]\n",
      "   -------------------- ------------------- 1/2 [sqlalchemy]\n",
      "   -------------------- ------------------- 1/2 [sqlalchemy]\n",
      "   -------------------- ------------------- 1/2 [sqlalchemy]\n",
      "   -------------------- ------------------- 1/2 [sqlalchemy]\n",
      "   -------------------- ------------------- 1/2 [sqlalchemy]\n",
      "   -------------------- ------------------- 1/2 [sqlalchemy]\n",
      "   -------------------- ------------------- 1/2 [sqlalchemy]\n",
      "   -------------------- ------------------- 1/2 [sqlalchemy]\n",
      "   -------------------- ------------------- 1/2 [sqlalchemy]\n",
      "   -------------------- ------------------- 1/2 [sqlalchemy]\n",
      "   -------------------- ------------------- 1/2 [sqlalchemy]\n",
      "   -------------------- ------------------- 1/2 [sqlalchemy]\n",
      "   -------------------- ------------------- 1/2 [sqlalchemy]\n",
      "   -------------------- ------------------- 1/2 [sqlalchemy]\n",
      "   -------------------- ------------------- 1/2 [sqlalchemy]\n",
      "   -------------------- ------------------- 1/2 [sqlalchemy]\n",
      "   -------------------- ------------------- 1/2 [sqlalchemy]\n",
      "   -------------------- ------------------- 1/2 [sqlalchemy]\n",
      "   -------------------- ------------------- 1/2 [sqlalchemy]\n",
      "   -------------------- ------------------- 1/2 [sqlalchemy]\n",
      "   -------------------- ------------------- 1/2 [sqlalchemy]\n",
      "   -------------------- ------------------- 1/2 [sqlalchemy]\n",
      "   -------------------- ------------------- 1/2 [sqlalchemy]\n",
      "   ---------------------------------------- 2/2 [sqlalchemy]\n",
      "\n",
      "Successfully installed greenlet-3.2.4 sqlalchemy-2.0.44\n",
      "Note: you may need to restart the kernel to use updated packages.\n"
     ]
    }
   ],
   "source": [
    "%pip install sqlalchemy"
   ]
  },
  {
   "cell_type": "code",
   "execution_count": 2,
   "id": "aedfcf44",
   "metadata": {},
   "outputs": [],
   "source": [
    "import pandas as pd # importing the Pandas package with an alias, pd\n",
    "from sqlalchemy import create_engine, text # Importing the SQL interface. If this fails, run !pip install sqlalchemy in another cell.\n",
    "\n",
    "# Create an engine for the database\n",
    "engine = create_engine('sqlite:///Maji_Ndogo_farm_survey_small.db') #Make sure to have the .db file in the same directory as this notebook, and the file name matches."
   ]
  },
  {
   "cell_type": "markdown",
   "id": "50b71f19",
   "metadata": {},
   "source": [
    "Next up, we test if the connection works by printing out all of the table names in the database."
   ]
  },
  {
   "cell_type": "code",
   "execution_count": 3,
   "id": "40ee695d",
   "metadata": {},
   "outputs": [
    {
     "name": "stdout",
     "output_type": "stream",
     "text": [
      "('geographic_features',)\n",
      "('weather_features',)\n",
      "('soil_and_crop_features',)\n",
      "('farm_management_features',)\n"
     ]
    }
   ],
   "source": [
    "with engine.connect() as connection:\n",
    "    result = connection.execute(text(\"SELECT name FROM sqlite_master WHERE type='table';\"))\n",
    "    for row in result:\n",
    "        print(row)"
   ]
  },
  {
   "cell_type": "code",
   "execution_count": 4,
   "id": "97103cf3",
   "metadata": {},
   "outputs": [
    {
     "name": "stdout",
     "output_type": "stream",
     "text": [
      "Field_ID\n",
      "Pollution_level\n",
      "Plot_size\n",
      "Crop_type\n",
      "Annual_yield\n",
      "Standard_yield\n"
     ]
    }
   ],
   "source": [
    "with engine.connect() as connection:\n",
    "    result = connection.execute(text(\"PRAGMA table_info(farm_management_features);\"))\n",
    "    for row in result:\n",
    "        print(row[1])\n"
   ]
  },
  {
   "cell_type": "markdown",
   "id": "e5838b83",
   "metadata": {},
   "source": [
    "**Expected output:**\n",
    "\n",
    "`('geographic_features',)`\n",
    "\n",
    "`('weather_features',)`\n",
    "\n",
    "`('soil_and_crop_features',)`\n",
    "\n",
    "`('farm_management_features',)`"
   ]
  },
  {
   "cell_type": "markdown",
   "id": "6ce2023f",
   "metadata": {},
   "source": [
    "At this point, we have two choices:\n",
    "\n",
    "1. Either we import each table into a DataFrame, for example, `df_geographic`, then merge them together.\n",
    "\n",
    "2. Use one SQL query and read it into a single DataFrame.\n",
    "\n",
    "While both are equally viable, let's try to use a single SQL query to keep things simple."
   ]
  },
  {
   "cell_type": "markdown",
   "id": "aa9cd3cf",
   "metadata": {},
   "source": [
    "Next, we'll write an SQL query to join our tables. Combine all of the tables into a single query, using `Field_ID`."
   ]
  },
  {
   "cell_type": "code",
   "execution_count": 5,
   "id": "0c6a0d9f",
   "metadata": {},
   "outputs": [],
   "source": [
    "sql_query = \"\"\"\n",
    "SELECT \n",
    "    g.Field_ID,\n",
    "    g.Elevation,\n",
    "    g.Latitude,\n",
    "    g.Longitude,\n",
    "    g.Location,\n",
    "    g.Slope,\n",
    "    w.Rainfall,\n",
    "    w.Min_temperature_C,\n",
    "    w.Max_temperature_C,\n",
    "    w.Ave_temps,\n",
    "    s.Soil_fertility,\n",
    "    s.Soil_type,\n",
    "    s.pH,\n",
    "    f.Pollution_level,\n",
    "    f.Plot_size,\n",
    "    f.Crop_type,\n",
    "    f.Annual_yield,\n",
    "    f.Standard_yield\n",
    "FROM geographic_features AS g\n",
    "JOIN weather_features AS w \n",
    "    ON g.Field_ID = w.Field_ID\n",
    "JOIN soil_and_crop_features AS s \n",
    "    ON g.Field_ID = s.Field_ID\n",
    "JOIN farm_management_features AS f \n",
    "    ON g.Field_ID = f.Field_ID;\n",
    "\"\"\""
   ]
  },
  {
   "cell_type": "markdown",
   "id": "c476ff1c",
   "metadata": {},
   "source": [
    "With our engine and query ready, we'll use `Pandas` to execute the query. The `pd.read_sql_query` function fetches the data and loads it into a DataFrame – essentially transferring our data from the database into a familiar `Pandas` structure. If you use one query, you will import it all into `MD_agric_df`. "
   ]
  },
  {
   "cell_type": "code",
   "execution_count": 6,
   "id": "fd4653b4",
   "metadata": {},
   "outputs": [],
   "source": [
    "# Create a connection object\n",
    "with engine.connect() as connection:\n",
    "    \n",
    "    # Use Pandas to execute the query and store the result in a DataFrame\n",
    "    MD_agric_df = pd.read_sql_query(text(sql_query), connection)"
   ]
  },
  {
   "cell_type": "markdown",
   "id": "6171c658",
   "metadata": {},
   "source": [
    "Check the DataFrame to see if it loaded correctly."
   ]
  },
  {
   "cell_type": "code",
   "execution_count": 7,
   "id": "3e370c4c",
   "metadata": {},
   "outputs": [
    {
     "data": {
      "application/vnd.microsoft.datawrangler.viewer.v0+json": {
       "columns": [
        {
         "name": "index",
         "rawType": "int64",
         "type": "integer"
        },
        {
         "name": "Field_ID",
         "rawType": "int64",
         "type": "integer"
        },
        {
         "name": "Elevation",
         "rawType": "float64",
         "type": "float"
        },
        {
         "name": "Latitude",
         "rawType": "float64",
         "type": "float"
        },
        {
         "name": "Longitude",
         "rawType": "float64",
         "type": "float"
        },
        {
         "name": "Location",
         "rawType": "object",
         "type": "string"
        },
        {
         "name": "Slope",
         "rawType": "float64",
         "type": "float"
        },
        {
         "name": "Rainfall",
         "rawType": "float64",
         "type": "float"
        },
        {
         "name": "Min_temperature_C",
         "rawType": "float64",
         "type": "float"
        },
        {
         "name": "Max_temperature_C",
         "rawType": "float64",
         "type": "float"
        },
        {
         "name": "Ave_temps",
         "rawType": "float64",
         "type": "float"
        },
        {
         "name": "Soil_fertility",
         "rawType": "float64",
         "type": "float"
        },
        {
         "name": "Soil_type",
         "rawType": "object",
         "type": "string"
        },
        {
         "name": "pH",
         "rawType": "float64",
         "type": "float"
        },
        {
         "name": "Pollution_level",
         "rawType": "float64",
         "type": "float"
        },
        {
         "name": "Plot_size",
         "rawType": "float64",
         "type": "float"
        },
        {
         "name": "Crop_type",
         "rawType": "float64",
         "type": "float"
        },
        {
         "name": "Annual_yield",
         "rawType": "object",
         "type": "string"
        },
        {
         "name": "Standard_yield",
         "rawType": "float64",
         "type": "float"
        }
       ],
       "ref": "fae7cae6-5708-4ccd-80dd-9d72e7016bb5",
       "rows": [
        [
         "0",
         "40734",
         "786.0558",
         "-7.389911080195735",
         "-7.556202472076428",
         "Rural_Akatsi",
         "14.795113",
         "1125.2",
         "-3.1",
         "33.1",
         "15.0",
         "0.62",
         "Sandy",
         "6.1693930384643805",
         "0.0852668430903311",
         "1.3",
         "0.7513536727525394",
         "cassava",
         "0.5779643636557995"
        ],
        [
         "1",
         "30629",
         "674.3341",
         "-7.736849459237079",
         "-1.051539153607483",
         "Rural_Sokoto",
         "11.374611",
         "1450.7",
         "-3.9",
         "30.6",
         "13.35",
         "0.64",
         "Volcanic",
         "5.676647602455388",
         "0.3996837617098369",
         "2.2",
         "1.0698648105284714",
         "cassava",
         "0.4863021866038506"
        ],
        [
         "2",
         "39924",
         "826.5339",
         "-9.926616371108418",
         "0.1151559983893706",
         "Rural_Sokoto",
         "11.339692",
         "2208.9",
         "-1.8000000000000007",
         "28.4",
         "13.3",
         "0.69",
         "Volcanic",
         "5.331992990569844",
         "0.3580285530417731",
         "3.4",
         "2.2088010770590665",
         "tea",
         "0.6496473756056078"
        ],
        [
         "3",
         "5754",
         "574.94617",
         "-2.4201314427593417",
         "-6.592214971970919",
         "Rural_Kilimani",
         "7.109855",
         "328.8",
         "-5.8",
         "32.2",
         "13.2",
         "0.54",
         "Loamy",
         "5.328149652613495",
         "0.2866871285527406",
         "2.4",
         "1.2776351356377693",
         "cassava",
         "0.5323479731824039"
        ],
        [
         "4",
         "14146",
         "886.353",
         "-3.055434188796088",
         "-7.952608546886169",
         "Rural_Kilimani",
         "55.007656",
         "785.2",
         "-2.5",
         "31.0",
         "14.25",
         "0.72",
         "Sandy",
         "5.721233805709933",
         "0.0431902746025795",
         "1.5",
         "0.8326139707528435",
         "wheat",
         "0.5550759805018957"
        ],
        [
         "5",
         "5304",
         "850.56647",
         "-2.050664597546483",
         "-7.132768710347839",
         "Rural_Kilimani",
         "50.45125",
         "649.4",
         "-3.0",
         "29.5",
         "13.25",
         "0.7",
         "Sandy",
         "5.484350233870995",
         "0.1275280259328365",
         "1.7",
         "1.1126109435585654",
         "potato",
         "0.6544770256226855"
        ],
        [
         "6",
         "429",
         "331.35538",
         "-13.409517241224766",
         "-6.722848792078675",
         "Rural_Hawassa",
         "5.907423",
         "1586.0",
         "-6.8",
         "31.8",
         "12.5",
         "0.63",
         "Silt",
         "7.061316546900067",
         "4.315457451400656e-07",
         "2.9",
         "0.9943251211595724",
         "banana",
         "0.34287073143433533"
        ],
        [
         "7",
         "672",
         "790.73846",
         "-3.785356492753202",
         "-1.4704683008495965",
         "Rural_Kilimani",
         "15.380596",
         "1188.3",
         "-3.0",
         "31.0",
         "14.0",
         "0.63",
         "Sandy",
         "4.577042710453545",
         "0.6131073815302063",
         "1.4",
         "0.5588991667187745",
         "tea",
         "0.3992136905134104"
        ],
        [
         "8",
         "26124",
         "742.7218",
         "-10.237509204275336",
         "-0.7362161395542792",
         "Rural_Sokoto",
         "3.4318435",
         "2143.3",
         "-2.6",
         "28.2",
         "12.8",
         "0.66",
         "Volcanic",
         "5.447320501794685",
         "0.278479232333261",
         "13.9",
         "8.53266459580238",
         "coffee",
         "0.6138607622879411"
        ],
        [
         "9",
         "44050",
         "747.3803",
         "-3.767333719815989",
         "-3.1056433594397808",
         "Rural_Kilimani",
         "8.239554",
         "796.6",
         "-3.8",
         "32.7",
         "14.45",
         "0.58",
         "Sandy",
         "4.897414401815874",
         "0.3103862353298307",
         "4.6",
         "2.214679129460039",
         "cassava",
         "0.48145198466522593"
        ],
        [
         "10",
         "22734",
         "756.9202",
         "-7.538598956927739",
         "-0.5785546325276771",
         "Rural_Sokoto",
         "9.371509",
         "1544.7",
         "-3.1",
         "30.5",
         "13.7",
         "0.64",
         "Volcanic",
         "5.831128627497049",
         "0.4451286628448371",
         "3.2",
         "1.5162813258555872",
         "coffee",
         "0.473837914329871"
        ],
        [
         "11",
         "16655",
         "393.8345",
         "-12.855316973405476",
         "-8.159820813263988",
         "Rural_Akatsi",
         "36.34067",
         "1753.3",
         "-6.3",
         "31.8",
         "12.75",
         "0.74",
         "Silt",
         "6.254509163012349",
         "0.0039918202247622",
         "1.9",
         "0.9368052485008556",
         "banana",
         "0.4930553939478187"
        ],
        [
         "12",
         "32297",
         "660.6827",
         "-2.6409104112401973",
         "-3.839895520735098",
         "Rural_Kilimani",
         "8.705346",
         "612.7",
         "-4.7",
         "29.8",
         "12.55",
         "0.57",
         "Sandy",
         "5.491848254369653",
         "0.1890157424991756",
         "4.2",
         "2.606619085416844",
         "potato",
         "0.6206235917659152"
        ],
        [
         "13",
         "24164",
         "790.90894",
         "-8.822721528704143",
         "-7.421064037482197",
         "Rural_Akatsi",
         "17.159893",
         "1575.0",
         "-2.8",
         "31.6",
         "14.4",
         "0.66",
         "Volcanic",
         "5.555430182144888",
         "0.0516251161209078",
         "1.1",
         "0.7931933781680391",
         "tea",
         "0.7210848892436719"
        ],
        [
         "14",
         "26011",
         "618.16815",
         "-8.813710142235536",
         "-0.9389237914456244",
         "Rural_Sokoto",
         "23.239878",
         "1673.9",
         "-4.2",
         "30.9",
         "13.35",
         "0.69",
         "Silt",
         "5.580685568665929",
         "0.0911649094274563",
         "1.3",
         "0.5822603224427979",
         "cassava",
         "0.4478925557252291"
        ],
        [
         "15",
         "42538",
         "639.52563",
         "-5.916549392578599",
         "-2.1146281724154266",
         "Rural_Hawassa",
         "0.8549503",
         "913.0",
         "-4.7",
         "32.4",
         "13.85",
         "0.56",
         "Sandy",
         "5.688561120864322",
         "0.7038841917356988",
         "13.1",
         "4.45176785156669",
         "wheat",
         "0.3398296069898237"
        ],
        [
         "16",
         "4813",
         "808.43085",
         "-8.56139132111456",
         "-1.974985123334722",
         "Rural_Sokoto",
         "16.707561",
         "1693.4",
         "-2.4000000000000004",
         "30.0",
         "13.8",
         "0.67",
         "Volcanic",
         "3.768237808360417",
         "0.1008553379000064",
         "1.2",
         "0.7679065918365245",
         "tea",
         "0.6399221598637704"
        ],
        [
         "17",
         "37912",
         "454.19534",
         "-10.377185694538737",
         "-7.353494820185081",
         "Rural_Akatsi",
         "9.985941",
         "1700.5",
         "-5.6",
         "31.3",
         "12.85",
         "0.65",
         "Silt",
         "7.196078807735186",
         "0.0303820353660652",
         "2.5",
         "0.9603215186479883",
         "banana",
         "0.3841286074591953"
        ],
        [
         "18",
         "36614",
         "768.06274",
         "-8.074776451809816",
         "0.480029771793792",
         "Rural_Sokoto",
         "10.411442",
         "1756.8",
         "-2.7",
         "32.4",
         "14.85",
         "0.66",
         "Volcanic",
         "4.4349048854115685",
         "0.1709666478355019",
         "2.5",
         "1.9524923690238536",
         "tea",
         "0.7809969476095414"
        ],
        [
         "19",
         "34153",
         "610.994",
         "-6.948353143234025",
         "-2.9660003103590764",
         "Rural_Hawassa",
         "16.369598",
         "902.8",
         "-4.9",
         "28.4",
         "11.75",
         "0.61",
         "Loamy",
         "4.698948976337432",
         "0.3034866535972001",
         "1.5",
         "0.7911142455410773",
         "wheat",
         "0.5274094970273849"
        ],
        [
         "20",
         "15118",
         "195.87325",
         "-12.711134789907774",
         "-6.380498091106625",
         "Rural_Hawassa",
         "10.056667",
         "1575.0",
         "-8.1",
         "33.9",
         "12.9",
         "0.64",
         "Silt",
         "6.927999150824922",
         "1.0170403712160064e-05",
         "4.8",
         "2.3050180810563066",
         "rice",
         "0.4802121002200639"
        ],
        [
         "21",
         "41199",
         "654.80963",
         "-6.637460310067107",
         "-2.339858896739144",
         "Rural_Hawassa",
         "13.94029",
         "1000.2",
         "-4.4",
         "33.6",
         "14.6",
         "0.61",
         "Sandy",
         "6.022460296607642",
         "0.5807124621785628",
         "2.0",
         "1.0651509809821873",
         "cassava",
         "0.5325754904910937"
        ],
        [
         "22",
         "43441",
         "504.42505",
         "-2.379580203650613",
         "-7.601248616941171",
         "Rural_Kilimani",
         "3.906222",
         "335.3",
         "-6.4",
         "32.6",
         "13.1",
         "0.53",
         "Loamy",
         "5.429211595035307",
         "0.057291111421635",
         "7.1",
         "4.256354046578342",
         "wheat",
         "0.5994864854335693"
        ],
        [
         "23",
         "19788",
         "775.58325",
         "-4.920791187797599",
         "-5.245335240515091",
         "Rural_Kilimani",
         "21.290752",
         "532.0",
         "-3.8",
         "27.9",
         "12.05",
         "0.6",
         "Sandy",
         "5.57051720658467",
         "0.29888030875511",
         "1.6",
         "0.9809457154570048",
         "potato",
         "0.613091072160628"
        ],
        [
         "24",
         "18871",
         "843.27203",
         "-7.164626418480577",
         "-7.794947039859568",
         "Rural_Akatsi",
         "11.813544",
         "1151.4",
         "-2.6",
         "31.0",
         "14.2",
         "0.62",
         "Sandy",
         "5.47845099313304",
         "0.106180852275285",
         "1.6",
         "0.9524514845467206",
         "cassava",
         "0.5952821778417003"
        ],
        [
         "25",
         "41012",
         "690.64",
         "-8.40819775114825",
         "-4.195760065166571",
         "Rural_Hawassa",
         "4.2353106",
         "1276.0",
         "-3.9",
         "29.3",
         "12.7",
         "0.6",
         "Volcanic",
         "4.615958553064251",
         "0.0288949318635394",
         "4.2",
         "3.048356316771347",
         "tea",
         "0.7257991230407969"
        ],
        [
         "26",
         "1603",
         "525.38104",
         "-2.465188375102373",
         "-5.186775252190925",
         "Rural_Kilimani",
         "6.8092437",
         "298.6",
         "-6.3",
         "33.8",
         "13.749999999999998",
         "0.54",
         "Loamy",
         "6.45310470389543",
         "0.1925625238013928",
         "4.8",
         "2.6031429133159256",
         "potato",
         "0.5423214402741512"
        ],
        [
         "27",
         "33183",
         "792.5747",
         "-3.276213157276944",
         "-7.335476362239185",
         "Rural_Kilimani",
         "27.644611",
         "613.9",
         "-3.5",
         "32.2",
         "14.35",
         "0.62",
         "Sandy",
         "5.842696857274482",
         "0.1053246405317907",
         "1.6",
         "1.0182114465508085",
         "potato",
         "0.6363821540942554"
        ],
        [
         "28",
         "314",
         "751.3648",
         "-2.9563089376414187",
         "-0.9434284059320988",
         "Rural_Kilimani",
         "3.2867026",
         "1298.6",
         "-3.3",
         "29.8",
         "13.25",
         "0.6",
         "Volcanic",
         "4.048841634381799",
         "0.3127831326137988",
         "11.7",
         "6.7966072177857475",
         "tea",
         "0.5809065998107477"
        ],
        [
         "29",
         "32300",
         "445.4456",
         "-9.30483070477458",
         "-6.930061058456494",
         "Rural_Akatsi",
         "5.848148",
         "1350.4",
         "-6.0",
         "33.4",
         "13.7",
         "0.61",
         "Peaty",
         "4.70362872997462",
         "0.0381556700012184",
         "4.1",
         "1.6747938071138964",
         "cassava",
         "0.40848629441802353"
        ],
        [
         "30",
         "11444",
         "741.3757",
         "-4.65044959373941",
         "-6.168781210242331",
         "Rural_Kilimani",
         "7.026868",
         "484.6",
         "-4.1",
         "28.9",
         "12.4",
         "0.55",
         "Sandy",
         "6.082514706919965",
         "0.2923536827499024",
         "2.2",
         "1.2017315931748915",
         "wheat",
         "0.5462416332613143"
        ],
        [
         "31",
         "43912",
         "521.39185",
         "-9.277796545368762",
         "-5.407501362028168",
         "Rural_Hawassa",
         "5.194681",
         "1367.4",
         "-5.3",
         "31.9",
         "13.3",
         "0.61",
         "Peaty",
         "5.472009097039224",
         "0.0487464424977198",
         "4.6",
         "2.31597739165009",
         "cassava",
         "0.5034733460108891"
        ],
        [
         "32",
         "40248",
         "680.9076",
         "-6.164362520465273",
         "-7.511156327211684",
         "Rural_Amanzi",
         "8.412227",
         "706.5",
         "-4.5",
         "31.0",
         "13.25",
         "0.57",
         "Sandy",
         "6.13494184648618",
         "0.4689934224817029",
         "3.6",
         "1.7829305213266784",
         "wheat",
         "0.49525847814629953"
        ],
        [
         "33",
         "35014",
         "717.9738",
         "-4.416153545555645",
         "-2.303821980847349",
         "Rural_Kilimani",
         "4.5158725",
         "909.5",
         "-3.9",
         "29.9",
         "13.0",
         "0.57",
         "Sandy",
         "5.959237557338291",
         "0.4491094339024725",
         "2.4",
         "1.1031131354391335",
         "wheat",
         "0.45963047309963895"
        ],
        [
         "34",
         "2593",
         "713.8158",
         "-2.3390289645418854",
         "-7.421064037482197",
         "Rural_Kilimani",
         "17.381775",
         "534.8",
         "-4.3",
         "30.5",
         "13.1",
         "0.59",
         "Sandy",
         "5.282325164776294",
         "0.0821317250552345",
         "1.8",
         "1.131427505803172",
         "potato",
         "0.6285708365573177"
        ],
        [
         "35",
         "26750",
         "891.7427",
         "-1.338765066526582",
         "-1.7857913149027995",
         "Rural_Kilimani",
         "4.546448",
         "1414.4",
         "-1.9000000000000004",
         "29.0",
         "13.55",
         "0.61",
         "Volcanic",
         "4.186967881002033",
         "0.0509331463027407",
         "2.0",
         "1.1895910854077432",
         "tea",
         "0.5947955427038716"
        ],
        [
         "36",
         "21090",
         "700.91864",
         "-3.316764396385672",
         "-4.646221513814004",
         "Rural_Kilimani",
         "11.447326",
         "511.2",
         "-4.5",
         "27.4",
         "11.45",
         "0.57",
         "Sandy",
         "5.2017577883056365",
         "0.1676238872554245",
         "2.8",
         "1.308275189075573",
         "wheat",
         "0.46724113895556185"
        ],
        [
         "37",
         "18533",
         "572.3282",
         "-9.435495808569373",
         "-2.560585006576386",
         "Rural_Hawassa",
         "4.282469",
         "1632.1",
         "-4.6",
         "33.8",
         "14.599999999999998",
         "0.63",
         "Silt",
         "6.767187005321462",
         "0.0404663132393637",
         "2.4",
         "1.066300304726029",
         "banana",
         "0.4442917936358455"
        ],
        [
         "38",
         "17418",
         "550.40393",
         "-7.024949928217179",
         "-1.2182098896070337",
         "Rural_Sokoto",
         "21.226728",
         "1144.1",
         "-5.3",
         "30.9",
         "12.8",
         "0.64",
         "Loamy",
         "4.68058962336393",
         "0.7127589134155362",
         "1.4",
         "0.526134902289328",
         "wheat",
         "0.37581064449237717"
        ],
        [
         "39",
         "19062",
         "659.6165",
         "-8.471277456428496",
         "-4.686763044192274",
         "Rural_Hawassa",
         "0.80738175",
         "1237.5",
         "-4.2",
         "31.8",
         "13.8",
         "0.59",
         "Volcanic",
         "5.992704326729788",
         "0.1140972485431574",
         "13.5",
         "7.374862840688013",
         "wheat",
         "0.5462861363472602"
        ],
        [
         "40",
         "22460",
         "386.93896",
         "-12.057809270933816",
         "-8.997679107748214",
         "Rural_Akatsi",
         "4.1579146",
         "1885.8",
         "-5.9",
         "33.3",
         "13.7",
         "0.65",
         "Silt",
         "7.028415322707853",
         "0.0415583410577925",
         "4.7",
         "2.074734899939949",
         "banana",
         "0.44143295743403166"
        ],
        [
         "41",
         "37828",
         "751.4212",
         "-7.615195741910893",
         "-7.763414738454247",
         "Rural_Akatsi",
         "8.986146",
         "1183.5",
         "-3.4000000000000004",
         "30.8",
         "13.7",
         "0.61",
         "Sandy",
         "6.134573074742628",
         "0.0591743280322812",
         "3.0",
         "1.7110402715066932",
         "cassava",
         "0.5703467571688977"
        ],
        [
         "42",
         "15949",
         "638.4356",
         "-8.15137323679297",
         "-5.988596630783357",
         "Rural_Hawassa",
         "2.4603343",
         "1093.8",
         "-4.5",
         "29.8",
         "12.65",
         "0.58",
         "Sandy",
         "4.911920667760945",
         "0.306816464301071",
         "10.4",
         "3.7502652217896686",
         "wheat",
         "0.3606024251720835"
        ],
        [
         "43",
         "9036",
         "255.68433",
         "-11.701859505423863",
         "-6.164276595755856",
         "Rural_Hawassa",
         "22.052572",
         "1667.3",
         "-7.5",
         "33.1",
         "12.8",
         "0.69",
         "Silt",
         "6.471624731127146",
         "0.0069746063404251",
         "1.8",
         "1.0063485858507804",
         "rice",
         "0.559082547694878"
        ],
        [
         "44",
         "23951",
         "562.1472",
         "-7.953122734483631",
         "-2.2227389200908103",
         "Rural_Sokoto",
         "24.619905",
         "1200.3",
         "-5.3",
         "31.8",
         "13.25",
         "0.66",
         "Loamy",
         "4.649273584598177",
         "0.262476573210417",
         "1.4",
         "0.9484067741024448",
         "tea",
         "0.6774334100731749"
        ],
        [
         "45",
         "25239",
         "779.9252",
         "-10.22849781780673",
         "0.3764236386048822",
         "Rural_Sokoto",
         "3.3992305",
         "2219.5",
         "-2.2",
         "30.6",
         "14.2",
         "0.67",
         "Volcanic",
         "4.41686239209466",
         "0.3353835992412022",
         "8.3",
         "5.440520355967024",
         "tea",
         "0.6554843802369908"
        ],
        [
         "46",
         "43917",
         "805.97516",
         "-4.335051067338188",
         "-0.8848684176079324",
         "Rural_Kilimani",
         "4.799029",
         "1284.1",
         "-2.8",
         "29.2",
         "13.2",
         "0.6",
         "Volcanic",
         "5.829746889672065",
         "0.8005345089911302",
         "2.3",
         "0.7406976541469475",
         "coffee",
         "0.3220424583247598"
        ],
        [
         "47",
         "9806",
         "673.3514",
         "-9.81847973348514",
         "-1.5425421326331856",
         "Rural_Sokoto",
         "8.904864",
         "1927.1",
         "-3.4000000000000004",
         "30.3",
         "13.45",
         "0.67",
         "Volcanic",
         "4.85711097685568",
         "0.1418049757610968",
         "3.2",
         "2.757766696896831",
         "tea",
         "0.8618020927802597"
        ],
        [
         "48",
         "44636",
         "493.53882",
         "-0.3159727023397636",
         "-3.1056433594397808",
         "Rural_Kilimani",
         "8.672898",
         "690.4",
         "-6.2",
         "34.1",
         "13.95",
         "0.57",
         "Loamy",
         "6.766205917784029",
         "0.0048716138507293",
         "2.2",
         "1.5872457310703936",
         "wheat",
         "0.7214753323047243"
        ],
        [
         "49",
         "19341",
         "538.19745",
         "-7.326831374915491",
         "-1.254246805498828",
         "Rural_Sokoto",
         "12.456426",
         "1187.9",
         "-5.3",
         "32.0",
         "13.35",
         "0.62",
         "Loamy",
         "6.045768938148034",
         "0.6066086270989894",
         "1.8",
         "0.928374343847798",
         "wheat",
         "0.5157635243598878"
        ]
       ],
       "shape": {
        "columns": 18,
        "rows": 5654
       }
      },
      "text/html": [
       "<div>\n",
       "<style scoped>\n",
       "    .dataframe tbody tr th:only-of-type {\n",
       "        vertical-align: middle;\n",
       "    }\n",
       "\n",
       "    .dataframe tbody tr th {\n",
       "        vertical-align: top;\n",
       "    }\n",
       "\n",
       "    .dataframe thead th {\n",
       "        text-align: right;\n",
       "    }\n",
       "</style>\n",
       "<table border=\"1\" class=\"dataframe\">\n",
       "  <thead>\n",
       "    <tr style=\"text-align: right;\">\n",
       "      <th></th>\n",
       "      <th>Field_ID</th>\n",
       "      <th>Elevation</th>\n",
       "      <th>Latitude</th>\n",
       "      <th>Longitude</th>\n",
       "      <th>Location</th>\n",
       "      <th>Slope</th>\n",
       "      <th>Rainfall</th>\n",
       "      <th>Min_temperature_C</th>\n",
       "      <th>Max_temperature_C</th>\n",
       "      <th>Ave_temps</th>\n",
       "      <th>Soil_fertility</th>\n",
       "      <th>Soil_type</th>\n",
       "      <th>pH</th>\n",
       "      <th>Pollution_level</th>\n",
       "      <th>Plot_size</th>\n",
       "      <th>Crop_type</th>\n",
       "      <th>Annual_yield</th>\n",
       "      <th>Standard_yield</th>\n",
       "    </tr>\n",
       "  </thead>\n",
       "  <tbody>\n",
       "    <tr>\n",
       "      <th>0</th>\n",
       "      <td>40734</td>\n",
       "      <td>786.05580</td>\n",
       "      <td>-7.389911</td>\n",
       "      <td>-7.556202</td>\n",
       "      <td>Rural_Akatsi</td>\n",
       "      <td>14.795113</td>\n",
       "      <td>1125.2</td>\n",
       "      <td>-3.1</td>\n",
       "      <td>33.1</td>\n",
       "      <td>15.00</td>\n",
       "      <td>0.62</td>\n",
       "      <td>Sandy</td>\n",
       "      <td>6.169393</td>\n",
       "      <td>8.526684e-02</td>\n",
       "      <td>1.3</td>\n",
       "      <td>0.751354</td>\n",
       "      <td>cassava</td>\n",
       "      <td>0.577964</td>\n",
       "    </tr>\n",
       "    <tr>\n",
       "      <th>1</th>\n",
       "      <td>30629</td>\n",
       "      <td>674.33410</td>\n",
       "      <td>-7.736849</td>\n",
       "      <td>-1.051539</td>\n",
       "      <td>Rural_Sokoto</td>\n",
       "      <td>11.374611</td>\n",
       "      <td>1450.7</td>\n",
       "      <td>-3.9</td>\n",
       "      <td>30.6</td>\n",
       "      <td>13.35</td>\n",
       "      <td>0.64</td>\n",
       "      <td>Volcanic</td>\n",
       "      <td>5.676648</td>\n",
       "      <td>3.996838e-01</td>\n",
       "      <td>2.2</td>\n",
       "      <td>1.069865</td>\n",
       "      <td>cassava</td>\n",
       "      <td>0.486302</td>\n",
       "    </tr>\n",
       "    <tr>\n",
       "      <th>2</th>\n",
       "      <td>39924</td>\n",
       "      <td>826.53390</td>\n",
       "      <td>-9.926616</td>\n",
       "      <td>0.115156</td>\n",
       "      <td>Rural_Sokoto</td>\n",
       "      <td>11.339692</td>\n",
       "      <td>2208.9</td>\n",
       "      <td>-1.8</td>\n",
       "      <td>28.4</td>\n",
       "      <td>13.30</td>\n",
       "      <td>0.69</td>\n",
       "      <td>Volcanic</td>\n",
       "      <td>5.331993</td>\n",
       "      <td>3.580286e-01</td>\n",
       "      <td>3.4</td>\n",
       "      <td>2.208801</td>\n",
       "      <td>tea</td>\n",
       "      <td>0.649647</td>\n",
       "    </tr>\n",
       "    <tr>\n",
       "      <th>3</th>\n",
       "      <td>5754</td>\n",
       "      <td>574.94617</td>\n",
       "      <td>-2.420131</td>\n",
       "      <td>-6.592215</td>\n",
       "      <td>Rural_Kilimani</td>\n",
       "      <td>7.109855</td>\n",
       "      <td>328.8</td>\n",
       "      <td>-5.8</td>\n",
       "      <td>32.2</td>\n",
       "      <td>13.20</td>\n",
       "      <td>0.54</td>\n",
       "      <td>Loamy</td>\n",
       "      <td>5.328150</td>\n",
       "      <td>2.866871e-01</td>\n",
       "      <td>2.4</td>\n",
       "      <td>1.277635</td>\n",
       "      <td>cassava</td>\n",
       "      <td>0.532348</td>\n",
       "    </tr>\n",
       "    <tr>\n",
       "      <th>4</th>\n",
       "      <td>14146</td>\n",
       "      <td>886.35300</td>\n",
       "      <td>-3.055434</td>\n",
       "      <td>-7.952609</td>\n",
       "      <td>Rural_Kilimani</td>\n",
       "      <td>55.007656</td>\n",
       "      <td>785.2</td>\n",
       "      <td>-2.5</td>\n",
       "      <td>31.0</td>\n",
       "      <td>14.25</td>\n",
       "      <td>0.72</td>\n",
       "      <td>Sandy</td>\n",
       "      <td>5.721234</td>\n",
       "      <td>4.319027e-02</td>\n",
       "      <td>1.5</td>\n",
       "      <td>0.832614</td>\n",
       "      <td>wheat</td>\n",
       "      <td>0.555076</td>\n",
       "    </tr>\n",
       "    <tr>\n",
       "      <th>...</th>\n",
       "      <td>...</td>\n",
       "      <td>...</td>\n",
       "      <td>...</td>\n",
       "      <td>...</td>\n",
       "      <td>...</td>\n",
       "      <td>...</td>\n",
       "      <td>...</td>\n",
       "      <td>...</td>\n",
       "      <td>...</td>\n",
       "      <td>...</td>\n",
       "      <td>...</td>\n",
       "      <td>...</td>\n",
       "      <td>...</td>\n",
       "      <td>...</td>\n",
       "      <td>...</td>\n",
       "      <td>...</td>\n",
       "      <td>...</td>\n",
       "      <td>...</td>\n",
       "    </tr>\n",
       "    <tr>\n",
       "      <th>5649</th>\n",
       "      <td>11472</td>\n",
       "      <td>681.36145</td>\n",
       "      <td>-7.358371</td>\n",
       "      <td>-6.254369</td>\n",
       "      <td>Rural_Akatsi</td>\n",
       "      <td>16.213196</td>\n",
       "      <td>885.7</td>\n",
       "      <td>-4.3</td>\n",
       "      <td>33.4</td>\n",
       "      <td>14.55</td>\n",
       "      <td>0.61</td>\n",
       "      <td>Sandy</td>\n",
       "      <td>5.741063</td>\n",
       "      <td>3.286828e-01</td>\n",
       "      <td>1.1</td>\n",
       "      <td>0.609930</td>\n",
       "      <td>potato</td>\n",
       "      <td>0.554482</td>\n",
       "    </tr>\n",
       "    <tr>\n",
       "      <th>5650</th>\n",
       "      <td>19660</td>\n",
       "      <td>667.02120</td>\n",
       "      <td>-3.154559</td>\n",
       "      <td>-4.475046</td>\n",
       "      <td>Rural_Kilimani</td>\n",
       "      <td>2.397553</td>\n",
       "      <td>501.1</td>\n",
       "      <td>-4.8</td>\n",
       "      <td>32.1</td>\n",
       "      <td>13.65</td>\n",
       "      <td>0.54</td>\n",
       "      <td>Sandy</td>\n",
       "      <td>5.445833</td>\n",
       "      <td>1.602583e-01</td>\n",
       "      <td>8.7</td>\n",
       "      <td>3.812289</td>\n",
       "      <td>maize</td>\n",
       "      <td>0.438194</td>\n",
       "    </tr>\n",
       "    <tr>\n",
       "      <th>5651</th>\n",
       "      <td>41296</td>\n",
       "      <td>670.77900</td>\n",
       "      <td>-14.472861</td>\n",
       "      <td>-6.110221</td>\n",
       "      <td>Rural_Hawassa</td>\n",
       "      <td>7.636470</td>\n",
       "      <td>1586.6</td>\n",
       "      <td>-3.8</td>\n",
       "      <td>33.4</td>\n",
       "      <td>14.80</td>\n",
       "      <td>0.64</td>\n",
       "      <td>Volcanic</td>\n",
       "      <td>5.385873</td>\n",
       "      <td>8.221326e-09</td>\n",
       "      <td>2.1</td>\n",
       "      <td>1.681629</td>\n",
       "      <td>tea</td>\n",
       "      <td>0.800776</td>\n",
       "    </tr>\n",
       "    <tr>\n",
       "      <th>5652</th>\n",
       "      <td>33090</td>\n",
       "      <td>429.48840</td>\n",
       "      <td>-14.653089</td>\n",
       "      <td>-6.984116</td>\n",
       "      <td>Rural_Hawassa</td>\n",
       "      <td>13.944720</td>\n",
       "      <td>1272.2</td>\n",
       "      <td>-6.2</td>\n",
       "      <td>34.6</td>\n",
       "      <td>14.20</td>\n",
       "      <td>0.63</td>\n",
       "      <td>Silt</td>\n",
       "      <td>5.562508</td>\n",
       "      <td>6.917245e-10</td>\n",
       "      <td>1.3</td>\n",
       "      <td>0.659874</td>\n",
       "      <td>cassava</td>\n",
       "      <td>0.507595</td>\n",
       "    </tr>\n",
       "    <tr>\n",
       "      <th>5653</th>\n",
       "      <td>8375</td>\n",
       "      <td>763.09030</td>\n",
       "      <td>-4.317028</td>\n",
       "      <td>-6.344461</td>\n",
       "      <td>Rural_Kilimani</td>\n",
       "      <td>35.189430</td>\n",
       "      <td>516.4</td>\n",
       "      <td>-3.8</td>\n",
       "      <td>29.6</td>\n",
       "      <td>12.90</td>\n",
       "      <td>0.64</td>\n",
       "      <td>Sandy</td>\n",
       "      <td>5.087792</td>\n",
       "      <td>2.612715e-01</td>\n",
       "      <td>0.5</td>\n",
       "      <td>0.226532</td>\n",
       "      <td>wheat</td>\n",
       "      <td>0.453064</td>\n",
       "    </tr>\n",
       "  </tbody>\n",
       "</table>\n",
       "<p>5654 rows × 18 columns</p>\n",
       "</div>"
      ],
      "text/plain": [
       "      Field_ID  Elevation   Latitude  Longitude        Location      Slope  \\\n",
       "0        40734  786.05580  -7.389911  -7.556202    Rural_Akatsi  14.795113   \n",
       "1        30629  674.33410  -7.736849  -1.051539    Rural_Sokoto  11.374611   \n",
       "2        39924  826.53390  -9.926616   0.115156    Rural_Sokoto  11.339692   \n",
       "3         5754  574.94617  -2.420131  -6.592215  Rural_Kilimani   7.109855   \n",
       "4        14146  886.35300  -3.055434  -7.952609  Rural_Kilimani  55.007656   \n",
       "...        ...        ...        ...        ...             ...        ...   \n",
       "5649     11472  681.36145  -7.358371  -6.254369    Rural_Akatsi  16.213196   \n",
       "5650     19660  667.02120  -3.154559  -4.475046  Rural_Kilimani   2.397553   \n",
       "5651     41296  670.77900 -14.472861  -6.110221   Rural_Hawassa   7.636470   \n",
       "5652     33090  429.48840 -14.653089  -6.984116   Rural_Hawassa  13.944720   \n",
       "5653      8375  763.09030  -4.317028  -6.344461  Rural_Kilimani  35.189430   \n",
       "\n",
       "      Rainfall  Min_temperature_C  Max_temperature_C  Ave_temps  \\\n",
       "0       1125.2               -3.1               33.1      15.00   \n",
       "1       1450.7               -3.9               30.6      13.35   \n",
       "2       2208.9               -1.8               28.4      13.30   \n",
       "3        328.8               -5.8               32.2      13.20   \n",
       "4        785.2               -2.5               31.0      14.25   \n",
       "...        ...                ...                ...        ...   \n",
       "5649     885.7               -4.3               33.4      14.55   \n",
       "5650     501.1               -4.8               32.1      13.65   \n",
       "5651    1586.6               -3.8               33.4      14.80   \n",
       "5652    1272.2               -6.2               34.6      14.20   \n",
       "5653     516.4               -3.8               29.6      12.90   \n",
       "\n",
       "      Soil_fertility Soil_type        pH  Pollution_level  Plot_size  \\\n",
       "0               0.62     Sandy  6.169393     8.526684e-02        1.3   \n",
       "1               0.64  Volcanic  5.676648     3.996838e-01        2.2   \n",
       "2               0.69  Volcanic  5.331993     3.580286e-01        3.4   \n",
       "3               0.54     Loamy  5.328150     2.866871e-01        2.4   \n",
       "4               0.72     Sandy  5.721234     4.319027e-02        1.5   \n",
       "...              ...       ...       ...              ...        ...   \n",
       "5649            0.61     Sandy  5.741063     3.286828e-01        1.1   \n",
       "5650            0.54     Sandy  5.445833     1.602583e-01        8.7   \n",
       "5651            0.64  Volcanic  5.385873     8.221326e-09        2.1   \n",
       "5652            0.63      Silt  5.562508     6.917245e-10        1.3   \n",
       "5653            0.64     Sandy  5.087792     2.612715e-01        0.5   \n",
       "\n",
       "      Crop_type Annual_yield  Standard_yield  \n",
       "0      0.751354      cassava        0.577964  \n",
       "1      1.069865      cassava        0.486302  \n",
       "2      2.208801          tea        0.649647  \n",
       "3      1.277635      cassava        0.532348  \n",
       "4      0.832614        wheat        0.555076  \n",
       "...         ...          ...             ...  \n",
       "5649   0.609930       potato        0.554482  \n",
       "5650   3.812289        maize        0.438194  \n",
       "5651   1.681629          tea        0.800776  \n",
       "5652   0.659874      cassava        0.507595  \n",
       "5653   0.226532        wheat        0.453064  \n",
       "\n",
       "[5654 rows x 18 columns]"
      ]
     },
     "execution_count": 7,
     "metadata": {},
     "output_type": "execute_result"
    }
   ],
   "source": [
    "MD_agric_df"
   ]
  },
  {
   "cell_type": "markdown",
   "id": "0b0cc230",
   "metadata": {},
   "source": [
    "Note that there are a couple of `Field_ID` columns in our DataFrame that we need to remove since we're not interested in particular farms for now."
   ]
  },
  {
   "cell_type": "code",
   "execution_count": 8,
   "id": "d8e8d24c",
   "metadata": {},
   "outputs": [],
   "source": [
    "# Now, drop all columns named 'Field_ID'.\n",
    "MD_agric_df.drop(columns = 'Field_ID', inplace = True)"
   ]
  },
  {
   "cell_type": "code",
   "execution_count": 9,
   "id": "9216ccea",
   "metadata": {},
   "outputs": [
    {
     "data": {
      "text/plain": [
       "(5654, 17)"
      ]
     },
     "execution_count": 9,
     "metadata": {},
     "output_type": "execute_result"
    }
   ],
   "source": [
    "MD_agric_df.shape\n"
   ]
  },
  {
   "cell_type": "code",
   "execution_count": 10,
   "id": "cbfa30d5",
   "metadata": {},
   "outputs": [
    {
     "data": {
      "application/vnd.microsoft.datawrangler.viewer.v0+json": {
       "columns": [
        {
         "name": "index",
         "rawType": "object",
         "type": "string"
        },
        {
         "name": "0",
         "rawType": "int64",
         "type": "integer"
        }
       ],
       "ref": "a804de48-3ffd-4914-8dde-6acf0b6e5734",
       "rows": [
        [
         "Elevation",
         "0"
        ],
        [
         "Latitude",
         "0"
        ],
        [
         "Longitude",
         "0"
        ],
        [
         "Location",
         "0"
        ],
        [
         "Slope",
         "0"
        ],
        [
         "Rainfall",
         "0"
        ],
        [
         "Min_temperature_C",
         "0"
        ],
        [
         "Max_temperature_C",
         "0"
        ],
        [
         "Ave_temps",
         "0"
        ],
        [
         "Soil_fertility",
         "0"
        ],
        [
         "Soil_type",
         "0"
        ],
        [
         "pH",
         "0"
        ],
        [
         "Pollution_level",
         "0"
        ],
        [
         "Plot_size",
         "0"
        ],
        [
         "Crop_type",
         "0"
        ],
        [
         "Annual_yield",
         "0"
        ],
        [
         "Standard_yield",
         "0"
        ]
       ],
       "shape": {
        "columns": 1,
        "rows": 17
       }
      },
      "text/plain": [
       "Elevation            0\n",
       "Latitude             0\n",
       "Longitude            0\n",
       "Location             0\n",
       "Slope                0\n",
       "Rainfall             0\n",
       "Min_temperature_C    0\n",
       "Max_temperature_C    0\n",
       "Ave_temps            0\n",
       "Soil_fertility       0\n",
       "Soil_type            0\n",
       "pH                   0\n",
       "Pollution_level      0\n",
       "Plot_size            0\n",
       "Crop_type            0\n",
       "Annual_yield         0\n",
       "Standard_yield       0\n",
       "dtype: int64"
      ]
     },
     "execution_count": 10,
     "metadata": {},
     "output_type": "execute_result"
    }
   ],
   "source": [
    "MD_agric_df.isna().sum()\n"
   ]
  },
  {
   "cell_type": "code",
   "execution_count": 11,
   "id": "3a66cd55",
   "metadata": {},
   "outputs": [
    {
     "data": {
      "text/plain": [
       "np.int64(0)"
      ]
     },
     "execution_count": 11,
     "metadata": {},
     "output_type": "execute_result"
    }
   ],
   "source": [
    "MD_agric_df.duplicated().sum()\n"
   ]
  },
  {
   "cell_type": "markdown",
   "id": "0837de59",
   "metadata": {},
   "source": [
    "# Data cleanup"
   ]
  },
  {
   "cell_type": "code",
   "execution_count": 12,
   "id": "55979114",
   "metadata": {},
   "outputs": [
    {
     "data": {
      "text/plain": [
       "['Elevation',\n",
       " 'Latitude',\n",
       " 'Longitude',\n",
       " 'Location',\n",
       " 'Slope',\n",
       " 'Rainfall',\n",
       " 'Min_temperature_C',\n",
       " 'Max_temperature_C',\n",
       " 'Ave_temps',\n",
       " 'Soil_fertility',\n",
       " 'Soil_type',\n",
       " 'pH',\n",
       " 'Pollution_level',\n",
       " 'Plot_size',\n",
       " 'Crop_type',\n",
       " 'Annual_yield',\n",
       " 'Standard_yield']"
      ]
     },
     "execution_count": 12,
     "metadata": {},
     "output_type": "execute_result"
    }
   ],
   "source": [
    "MD_agric_df.columns.tolist()\n"
   ]
  },
  {
   "cell_type": "markdown",
   "id": "8da2b362",
   "metadata": {},
   "source": [
    "I noticed some errors in the data. Here's what I picked up:\n",
    "\n",
    "1. There are some swapped column names. Please ensure to use the correct name. \n",
    "\n",
    "2. Some of the crop types contain spelling errors.\n",
    "\n",
    "3.  The `Elevation` column contains some negative values, which are not plausible, so change these to positive values.\n",
    "\n",
    "Use your Pandas skills to clean up the data."
   ]
  },
  {
   "cell_type": "code",
   "execution_count": 26,
   "id": "26b22740",
   "metadata": {},
   "outputs": [
    {
     "name": "stdout",
     "output_type": "stream",
     "text": [
      "   Elevation Crop_type\n",
      "0  786.05580   cassava\n",
      "1  674.33410   cassava\n",
      "2  826.53390       tea\n",
      "3  574.94617   cassava\n",
      "4  886.35300     wheat\n",
      "['cassava' 'tea' 'wheat' 'potato' 'banana' 'coffee' 'rice' 'maize']\n",
      "0 negative elevations remaining\n"
     ]
    }
   ],
   "source": [
    "# Insert code here\n",
    "\n",
    "# Step 1: Swap contents properly (restore correct data to each column)\n",
    "MD_agric_df[\"Annual_yield\"], MD_agric_df[\"Crop_type\"] = (\n",
    "    MD_agric_df[\"Crop_type\"].copy(),\n",
    "    MD_agric_df[\"Annual_yield\"].copy()\n",
    ")\n",
    "\n",
    "# Step 2: Clean crop names\n",
    "MD_agric_df[\"Crop_type\"] = MD_agric_df[\"Crop_type\"].astype(str).str.strip().str.lower()\n",
    "MD_agric_df[\"Crop_type\"] = MD_agric_df[\"Crop_type\"].replace({\n",
    "    \"cassaval\": \"cassava\",\n",
    "    \"teaa\": \"tea\",\n",
    "    \"wheatn\": \"wheat\"\n",
    "})\n",
    "\n",
    "# Step 3: Convert negative elevation values to positive\n",
    "MD_agric_df[\"Elevation\"] = MD_agric_df[\"Elevation\"].abs()\n",
    "\n",
    "# Step 4: Verify\n",
    "print(MD_agric_df[['Elevation', 'Crop_type']].head())\n",
    "print(MD_agric_df['Crop_type'].unique())\n",
    "print((MD_agric_df['Elevation'] < 0).sum(), \"negative elevations remaining\")\n",
    "\n"
   ]
  },
  {
   "cell_type": "markdown",
   "id": "b5c0fed1",
   "metadata": {},
   "source": [
    "## Final data checkup"
   ]
  },
  {
   "cell_type": "markdown",
   "id": "321fdc11",
   "metadata": {},
   "source": [
    "Compare your answers to the expected output to make sure your data is corrected."
   ]
  },
  {
   "cell_type": "code",
   "execution_count": 28,
   "id": "2ff881ab",
   "metadata": {},
   "outputs": [
    {
     "data": {
      "application/vnd.microsoft.datawrangler.viewer.v0+json": {
       "columns": [
        {
         "name": "index",
         "rawType": "int64",
         "type": "integer"
        },
        {
         "name": "Elevation",
         "rawType": "float64",
         "type": "float"
        },
        {
         "name": "Latitude",
         "rawType": "float64",
         "type": "float"
        },
        {
         "name": "Longitude",
         "rawType": "float64",
         "type": "float"
        },
        {
         "name": "Location",
         "rawType": "object",
         "type": "string"
        },
        {
         "name": "Slope",
         "rawType": "float64",
         "type": "float"
        },
        {
         "name": "Rainfall",
         "rawType": "float64",
         "type": "float"
        },
        {
         "name": "Min_temperature_C",
         "rawType": "float64",
         "type": "float"
        },
        {
         "name": "Max_temperature_C",
         "rawType": "float64",
         "type": "float"
        },
        {
         "name": "Ave_temps",
         "rawType": "float64",
         "type": "float"
        },
        {
         "name": "Soil_fertility",
         "rawType": "float64",
         "type": "float"
        },
        {
         "name": "Soil_type",
         "rawType": "object",
         "type": "string"
        },
        {
         "name": "pH",
         "rawType": "float64",
         "type": "float"
        },
        {
         "name": "Pollution_level",
         "rawType": "float64",
         "type": "float"
        },
        {
         "name": "Plot_size",
         "rawType": "float64",
         "type": "float"
        },
        {
         "name": "Crop_type",
         "rawType": "object",
         "type": "string"
        },
        {
         "name": "Annual_yield",
         "rawType": "object",
         "type": "string"
        },
        {
         "name": "Standard_yield",
         "rawType": "float64",
         "type": "float"
        }
       ],
       "ref": "a7a7d08c-447c-41ec-94ec-5bdb4d7fd7f0",
       "rows": [
        [
         "0",
         "786.0558",
         "-7.389911080195735",
         "-7.556202472076428",
         "Rural_Akatsi",
         "14.795113",
         "1125.2",
         "-3.1",
         "33.1",
         "15.0",
         "0.62",
         "Sandy",
         "6.1693930384643805",
         "0.0852668430903311",
         "1.3",
         "cassava",
         "0.7513536727525394",
         "0.5779643636557995"
        ],
        [
         "1",
         "674.3341",
         "-7.736849459237079",
         "-1.051539153607483",
         "Rural_Sokoto",
         "11.374611",
         "1450.7",
         "-3.9",
         "30.6",
         "13.35",
         "0.64",
         "Volcanic",
         "5.676647602455388",
         "0.3996837617098369",
         "2.2",
         "cassava",
         "1.0698648105284714",
         "0.4863021866038506"
        ],
        [
         "2",
         "826.5339",
         "-9.926616371108418",
         "0.1151559983893706",
         "Rural_Sokoto",
         "11.339692",
         "2208.9",
         "-1.8000000000000007",
         "28.4",
         "13.3",
         "0.69",
         "Volcanic",
         "5.331992990569844",
         "0.3580285530417731",
         "3.4",
         "tea",
         "2.2088010770590665",
         "0.6496473756056078"
        ],
        [
         "3",
         "574.94617",
         "-2.4201314427593417",
         "-6.592214971970919",
         "Rural_Kilimani",
         "7.109855",
         "328.8",
         "-5.8",
         "32.2",
         "13.2",
         "0.54",
         "Loamy",
         "5.328149652613495",
         "0.2866871285527406",
         "2.4",
         "cassava",
         "1.2776351356377693",
         "0.5323479731824039"
        ],
        [
         "4",
         "886.353",
         "-3.055434188796088",
         "-7.952608546886169",
         "Rural_Kilimani",
         "55.007656",
         "785.2",
         "-2.5",
         "31.0",
         "14.25",
         "0.72",
         "Sandy",
         "5.721233805709933",
         "0.0431902746025795",
         "1.5",
         "wheat",
         "0.8326139707528435",
         "0.5550759805018957"
        ],
        [
         "5",
         "850.56647",
         "-2.050664597546483",
         "-7.132768710347839",
         "Rural_Kilimani",
         "50.45125",
         "649.4",
         "-3.0",
         "29.5",
         "13.25",
         "0.7",
         "Sandy",
         "5.484350233870995",
         "0.1275280259328365",
         "1.7",
         "potato",
         "1.1126109435585654",
         "0.6544770256226855"
        ],
        [
         "6",
         "331.35538",
         "-13.409517241224766",
         "-6.722848792078675",
         "Rural_Hawassa",
         "5.907423",
         "1586.0",
         "-6.8",
         "31.8",
         "12.5",
         "0.63",
         "Silt",
         "7.061316546900067",
         "4.315457451400656e-07",
         "2.9",
         "banana",
         "0.9943251211595724",
         "0.34287073143433533"
        ],
        [
         "7",
         "790.73846",
         "-3.785356492753202",
         "-1.4704683008495965",
         "Rural_Kilimani",
         "15.380596",
         "1188.3",
         "-3.0",
         "31.0",
         "14.0",
         "0.63",
         "Sandy",
         "4.577042710453545",
         "0.6131073815302063",
         "1.4",
         "tea",
         "0.5588991667187745",
         "0.3992136905134104"
        ],
        [
         "8",
         "742.7218",
         "-10.237509204275336",
         "-0.7362161395542792",
         "Rural_Sokoto",
         "3.4318435",
         "2143.3",
         "-2.6",
         "28.2",
         "12.8",
         "0.66",
         "Volcanic",
         "5.447320501794685",
         "0.278479232333261",
         "13.9",
         "coffee",
         "8.53266459580238",
         "0.6138607622879411"
        ],
        [
         "9",
         "747.3803",
         "-3.767333719815989",
         "-3.1056433594397808",
         "Rural_Kilimani",
         "8.239554",
         "796.6",
         "-3.8",
         "32.7",
         "14.45",
         "0.58",
         "Sandy",
         "4.897414401815874",
         "0.3103862353298307",
         "4.6",
         "cassava",
         "2.214679129460039",
         "0.48145198466522593"
        ],
        [
         "10",
         "756.9202",
         "-7.538598956927739",
         "-0.5785546325276771",
         "Rural_Sokoto",
         "9.371509",
         "1544.7",
         "-3.1",
         "30.5",
         "13.7",
         "0.64",
         "Volcanic",
         "5.831128627497049",
         "0.4451286628448371",
         "3.2",
         "coffee",
         "1.5162813258555872",
         "0.473837914329871"
        ],
        [
         "11",
         "393.8345",
         "-12.855316973405476",
         "-8.159820813263988",
         "Rural_Akatsi",
         "36.34067",
         "1753.3",
         "-6.3",
         "31.8",
         "12.75",
         "0.74",
         "Silt",
         "6.254509163012349",
         "0.0039918202247622",
         "1.9",
         "banana",
         "0.9368052485008556",
         "0.4930553939478187"
        ],
        [
         "12",
         "660.6827",
         "-2.6409104112401973",
         "-3.839895520735098",
         "Rural_Kilimani",
         "8.705346",
         "612.7",
         "-4.7",
         "29.8",
         "12.55",
         "0.57",
         "Sandy",
         "5.491848254369653",
         "0.1890157424991756",
         "4.2",
         "potato",
         "2.606619085416844",
         "0.6206235917659152"
        ],
        [
         "13",
         "790.90894",
         "-8.822721528704143",
         "-7.421064037482197",
         "Rural_Akatsi",
         "17.159893",
         "1575.0",
         "-2.8",
         "31.6",
         "14.4",
         "0.66",
         "Volcanic",
         "5.555430182144888",
         "0.0516251161209078",
         "1.1",
         "tea",
         "0.7931933781680391",
         "0.7210848892436719"
        ],
        [
         "14",
         "618.16815",
         "-8.813710142235536",
         "-0.9389237914456244",
         "Rural_Sokoto",
         "23.239878",
         "1673.9",
         "-4.2",
         "30.9",
         "13.35",
         "0.69",
         "Silt",
         "5.580685568665929",
         "0.0911649094274563",
         "1.3",
         "cassava",
         "0.5822603224427979",
         "0.4478925557252291"
        ],
        [
         "15",
         "639.52563",
         "-5.916549392578599",
         "-2.1146281724154266",
         "Rural_Hawassa",
         "0.8549503",
         "913.0",
         "-4.7",
         "32.4",
         "13.85",
         "0.56",
         "Sandy",
         "5.688561120864322",
         "0.7038841917356988",
         "13.1",
         "wheat",
         "4.45176785156669",
         "0.3398296069898237"
        ],
        [
         "16",
         "808.43085",
         "-8.56139132111456",
         "-1.974985123334722",
         "Rural_Sokoto",
         "16.707561",
         "1693.4",
         "-2.4000000000000004",
         "30.0",
         "13.8",
         "0.67",
         "Volcanic",
         "3.768237808360417",
         "0.1008553379000064",
         "1.2",
         "tea",
         "0.7679065918365245",
         "0.6399221598637704"
        ],
        [
         "17",
         "454.19534",
         "-10.377185694538737",
         "-7.353494820185081",
         "Rural_Akatsi",
         "9.985941",
         "1700.5",
         "-5.6",
         "31.3",
         "12.85",
         "0.65",
         "Silt",
         "7.196078807735186",
         "0.0303820353660652",
         "2.5",
         "banana",
         "0.9603215186479883",
         "0.3841286074591953"
        ],
        [
         "18",
         "768.06274",
         "-8.074776451809816",
         "0.480029771793792",
         "Rural_Sokoto",
         "10.411442",
         "1756.8",
         "-2.7",
         "32.4",
         "14.85",
         "0.66",
         "Volcanic",
         "4.4349048854115685",
         "0.1709666478355019",
         "2.5",
         "tea",
         "1.9524923690238536",
         "0.7809969476095414"
        ],
        [
         "19",
         "610.994",
         "-6.948353143234025",
         "-2.9660003103590764",
         "Rural_Hawassa",
         "16.369598",
         "902.8",
         "-4.9",
         "28.4",
         "11.75",
         "0.61",
         "Loamy",
         "4.698948976337432",
         "0.3034866535972001",
         "1.5",
         "wheat",
         "0.7911142455410773",
         "0.5274094970273849"
        ],
        [
         "20",
         "195.87325",
         "-12.711134789907774",
         "-6.380498091106625",
         "Rural_Hawassa",
         "10.056667",
         "1575.0",
         "-8.1",
         "33.9",
         "12.9",
         "0.64",
         "Silt",
         "6.927999150824922",
         "1.0170403712160064e-05",
         "4.8",
         "rice",
         "2.3050180810563066",
         "0.4802121002200639"
        ],
        [
         "21",
         "654.80963",
         "-6.637460310067107",
         "-2.339858896739144",
         "Rural_Hawassa",
         "13.94029",
         "1000.2",
         "-4.4",
         "33.6",
         "14.6",
         "0.61",
         "Sandy",
         "6.022460296607642",
         "0.5807124621785628",
         "2.0",
         "cassava",
         "1.0651509809821873",
         "0.5325754904910937"
        ],
        [
         "22",
         "504.42505",
         "-2.379580203650613",
         "-7.601248616941171",
         "Rural_Kilimani",
         "3.906222",
         "335.3",
         "-6.4",
         "32.6",
         "13.1",
         "0.53",
         "Loamy",
         "5.429211595035307",
         "0.057291111421635",
         "7.1",
         "wheat",
         "4.256354046578342",
         "0.5994864854335693"
        ],
        [
         "23",
         "775.58325",
         "-4.920791187797599",
         "-5.245335240515091",
         "Rural_Kilimani",
         "21.290752",
         "532.0",
         "-3.8",
         "27.9",
         "12.05",
         "0.6",
         "Sandy",
         "5.57051720658467",
         "0.29888030875511",
         "1.6",
         "potato",
         "0.9809457154570048",
         "0.613091072160628"
        ],
        [
         "24",
         "843.27203",
         "-7.164626418480577",
         "-7.794947039859568",
         "Rural_Akatsi",
         "11.813544",
         "1151.4",
         "-2.6",
         "31.0",
         "14.2",
         "0.62",
         "Sandy",
         "5.47845099313304",
         "0.106180852275285",
         "1.6",
         "cassava",
         "0.9524514845467206",
         "0.5952821778417003"
        ],
        [
         "25",
         "690.64",
         "-8.40819775114825",
         "-4.195760065166571",
         "Rural_Hawassa",
         "4.2353106",
         "1276.0",
         "-3.9",
         "29.3",
         "12.7",
         "0.6",
         "Volcanic",
         "4.615958553064251",
         "0.0288949318635394",
         "4.2",
         "tea",
         "3.048356316771347",
         "0.7257991230407969"
        ],
        [
         "26",
         "525.38104",
         "-2.465188375102373",
         "-5.186775252190925",
         "Rural_Kilimani",
         "6.8092437",
         "298.6",
         "-6.3",
         "33.8",
         "13.749999999999998",
         "0.54",
         "Loamy",
         "6.45310470389543",
         "0.1925625238013928",
         "4.8",
         "potato",
         "2.6031429133159256",
         "0.5423214402741512"
        ],
        [
         "27",
         "792.5747",
         "-3.276213157276944",
         "-7.335476362239185",
         "Rural_Kilimani",
         "27.644611",
         "613.9",
         "-3.5",
         "32.2",
         "14.35",
         "0.62",
         "Sandy",
         "5.842696857274482",
         "0.1053246405317907",
         "1.6",
         "potato",
         "1.0182114465508085",
         "0.6363821540942554"
        ],
        [
         "28",
         "751.3648",
         "-2.9563089376414187",
         "-0.9434284059320988",
         "Rural_Kilimani",
         "3.2867026",
         "1298.6",
         "-3.3",
         "29.8",
         "13.25",
         "0.6",
         "Volcanic",
         "4.048841634381799",
         "0.3127831326137988",
         "11.7",
         "tea",
         "6.7966072177857475",
         "0.5809065998107477"
        ],
        [
         "29",
         "445.4456",
         "-9.30483070477458",
         "-6.930061058456494",
         "Rural_Akatsi",
         "5.848148",
         "1350.4",
         "-6.0",
         "33.4",
         "13.7",
         "0.61",
         "Peaty",
         "4.70362872997462",
         "0.0381556700012184",
         "4.1",
         "cassava",
         "1.6747938071138964",
         "0.40848629441802353"
        ],
        [
         "30",
         "741.3757",
         "-4.65044959373941",
         "-6.168781210242331",
         "Rural_Kilimani",
         "7.026868",
         "484.6",
         "-4.1",
         "28.9",
         "12.4",
         "0.55",
         "Sandy",
         "6.082514706919965",
         "0.2923536827499024",
         "2.2",
         "wheat",
         "1.2017315931748915",
         "0.5462416332613143"
        ],
        [
         "31",
         "521.39185",
         "-9.277796545368762",
         "-5.407501362028168",
         "Rural_Hawassa",
         "5.194681",
         "1367.4",
         "-5.3",
         "31.9",
         "13.3",
         "0.61",
         "Peaty",
         "5.472009097039224",
         "0.0487464424977198",
         "4.6",
         "cassava",
         "2.31597739165009",
         "0.5034733460108891"
        ],
        [
         "32",
         "680.9076",
         "-6.164362520465273",
         "-7.511156327211684",
         "Rural_Amanzi",
         "8.412227",
         "706.5",
         "-4.5",
         "31.0",
         "13.25",
         "0.57",
         "Sandy",
         "6.13494184648618",
         "0.4689934224817029",
         "3.6",
         "wheat",
         "1.7829305213266784",
         "0.49525847814629953"
        ],
        [
         "33",
         "717.9738",
         "-4.416153545555645",
         "-2.303821980847349",
         "Rural_Kilimani",
         "4.5158725",
         "909.5",
         "-3.9",
         "29.9",
         "13.0",
         "0.57",
         "Sandy",
         "5.959237557338291",
         "0.4491094339024725",
         "2.4",
         "wheat",
         "1.1031131354391335",
         "0.45963047309963895"
        ],
        [
         "34",
         "713.8158",
         "-2.3390289645418854",
         "-7.421064037482197",
         "Rural_Kilimani",
         "17.381775",
         "534.8",
         "-4.3",
         "30.5",
         "13.1",
         "0.59",
         "Sandy",
         "5.282325164776294",
         "0.0821317250552345",
         "1.8",
         "potato",
         "1.131427505803172",
         "0.6285708365573177"
        ],
        [
         "35",
         "891.7427",
         "-1.338765066526582",
         "-1.7857913149027995",
         "Rural_Kilimani",
         "4.546448",
         "1414.4",
         "-1.9000000000000004",
         "29.0",
         "13.55",
         "0.61",
         "Volcanic",
         "4.186967881002033",
         "0.0509331463027407",
         "2.0",
         "tea",
         "1.1895910854077432",
         "0.5947955427038716"
        ],
        [
         "36",
         "700.91864",
         "-3.316764396385672",
         "-4.646221513814004",
         "Rural_Kilimani",
         "11.447326",
         "511.2",
         "-4.5",
         "27.4",
         "11.45",
         "0.57",
         "Sandy",
         "5.2017577883056365",
         "0.1676238872554245",
         "2.8",
         "wheat",
         "1.308275189075573",
         "0.46724113895556185"
        ],
        [
         "37",
         "572.3282",
         "-9.435495808569373",
         "-2.560585006576386",
         "Rural_Hawassa",
         "4.282469",
         "1632.1",
         "-4.6",
         "33.8",
         "14.599999999999998",
         "0.63",
         "Silt",
         "6.767187005321462",
         "0.0404663132393637",
         "2.4",
         "banana",
         "1.066300304726029",
         "0.4442917936358455"
        ],
        [
         "38",
         "550.40393",
         "-7.024949928217179",
         "-1.2182098896070337",
         "Rural_Sokoto",
         "21.226728",
         "1144.1",
         "-5.3",
         "30.9",
         "12.8",
         "0.64",
         "Loamy",
         "4.68058962336393",
         "0.7127589134155362",
         "1.4",
         "wheat",
         "0.526134902289328",
         "0.37581064449237717"
        ],
        [
         "39",
         "659.6165",
         "-8.471277456428496",
         "-4.686763044192274",
         "Rural_Hawassa",
         "0.80738175",
         "1237.5",
         "-4.2",
         "31.8",
         "13.8",
         "0.59",
         "Volcanic",
         "5.992704326729788",
         "0.1140972485431574",
         "13.5",
         "wheat",
         "7.374862840688013",
         "0.5462861363472602"
        ],
        [
         "40",
         "386.93896",
         "-12.057809270933816",
         "-8.997679107748214",
         "Rural_Akatsi",
         "4.1579146",
         "1885.8",
         "-5.9",
         "33.3",
         "13.7",
         "0.65",
         "Silt",
         "7.028415322707853",
         "0.0415583410577925",
         "4.7",
         "banana",
         "2.074734899939949",
         "0.44143295743403166"
        ],
        [
         "41",
         "751.4212",
         "-7.615195741910893",
         "-7.763414738454247",
         "Rural_Akatsi",
         "8.986146",
         "1183.5",
         "-3.4000000000000004",
         "30.8",
         "13.7",
         "0.61",
         "Sandy",
         "6.134573074742628",
         "0.0591743280322812",
         "3.0",
         "cassava",
         "1.7110402715066932",
         "0.5703467571688977"
        ],
        [
         "42",
         "638.4356",
         "-8.15137323679297",
         "-5.988596630783357",
         "Rural_Hawassa",
         "2.4603343",
         "1093.8",
         "-4.5",
         "29.8",
         "12.65",
         "0.58",
         "Sandy",
         "4.911920667760945",
         "0.306816464301071",
         "10.4",
         "wheat",
         "3.7502652217896686",
         "0.3606024251720835"
        ],
        [
         "43",
         "255.68433",
         "-11.701859505423863",
         "-6.164276595755856",
         "Rural_Hawassa",
         "22.052572",
         "1667.3",
         "-7.5",
         "33.1",
         "12.8",
         "0.69",
         "Silt",
         "6.471624731127146",
         "0.0069746063404251",
         "1.8",
         "rice",
         "1.0063485858507804",
         "0.559082547694878"
        ],
        [
         "44",
         "562.1472",
         "-7.953122734483631",
         "-2.2227389200908103",
         "Rural_Sokoto",
         "24.619905",
         "1200.3",
         "-5.3",
         "31.8",
         "13.25",
         "0.66",
         "Loamy",
         "4.649273584598177",
         "0.262476573210417",
         "1.4",
         "tea",
         "0.9484067741024448",
         "0.6774334100731749"
        ],
        [
         "45",
         "779.9252",
         "-10.22849781780673",
         "0.3764236386048822",
         "Rural_Sokoto",
         "3.3992305",
         "2219.5",
         "-2.2",
         "30.6",
         "14.2",
         "0.67",
         "Volcanic",
         "4.41686239209466",
         "0.3353835992412022",
         "8.3",
         "tea",
         "5.440520355967024",
         "0.6554843802369908"
        ],
        [
         "46",
         "805.97516",
         "-4.335051067338188",
         "-0.8848684176079324",
         "Rural_Kilimani",
         "4.799029",
         "1284.1",
         "-2.8",
         "29.2",
         "13.2",
         "0.6",
         "Volcanic",
         "5.829746889672065",
         "0.8005345089911302",
         "2.3",
         "coffee",
         "0.7406976541469475",
         "0.3220424583247598"
        ],
        [
         "47",
         "673.3514",
         "-9.81847973348514",
         "-1.5425421326331856",
         "Rural_Sokoto",
         "8.904864",
         "1927.1",
         "-3.4000000000000004",
         "30.3",
         "13.45",
         "0.67",
         "Volcanic",
         "4.85711097685568",
         "0.1418049757610968",
         "3.2",
         "tea",
         "2.757766696896831",
         "0.8618020927802597"
        ],
        [
         "48",
         "493.53882",
         "-0.3159727023397636",
         "-3.1056433594397808",
         "Rural_Kilimani",
         "8.672898",
         "690.4",
         "-6.2",
         "34.1",
         "13.95",
         "0.57",
         "Loamy",
         "6.766205917784029",
         "0.0048716138507293",
         "2.2",
         "wheat",
         "1.5872457310703936",
         "0.7214753323047243"
        ],
        [
         "49",
         "538.19745",
         "-7.326831374915491",
         "-1.254246805498828",
         "Rural_Sokoto",
         "12.456426",
         "1187.9",
         "-5.3",
         "32.0",
         "13.35",
         "0.62",
         "Loamy",
         "6.045768938148034",
         "0.6066086270989894",
         "1.8",
         "wheat",
         "0.928374343847798",
         "0.5157635243598878"
        ]
       ],
       "shape": {
        "columns": 17,
        "rows": 5654
       }
      },
      "text/html": [
       "<div>\n",
       "<style scoped>\n",
       "    .dataframe tbody tr th:only-of-type {\n",
       "        vertical-align: middle;\n",
       "    }\n",
       "\n",
       "    .dataframe tbody tr th {\n",
       "        vertical-align: top;\n",
       "    }\n",
       "\n",
       "    .dataframe thead th {\n",
       "        text-align: right;\n",
       "    }\n",
       "</style>\n",
       "<table border=\"1\" class=\"dataframe\">\n",
       "  <thead>\n",
       "    <tr style=\"text-align: right;\">\n",
       "      <th></th>\n",
       "      <th>Elevation</th>\n",
       "      <th>Latitude</th>\n",
       "      <th>Longitude</th>\n",
       "      <th>Location</th>\n",
       "      <th>Slope</th>\n",
       "      <th>Rainfall</th>\n",
       "      <th>Min_temperature_C</th>\n",
       "      <th>Max_temperature_C</th>\n",
       "      <th>Ave_temps</th>\n",
       "      <th>Soil_fertility</th>\n",
       "      <th>Soil_type</th>\n",
       "      <th>pH</th>\n",
       "      <th>Pollution_level</th>\n",
       "      <th>Plot_size</th>\n",
       "      <th>Crop_type</th>\n",
       "      <th>Annual_yield</th>\n",
       "      <th>Standard_yield</th>\n",
       "    </tr>\n",
       "  </thead>\n",
       "  <tbody>\n",
       "    <tr>\n",
       "      <th>0</th>\n",
       "      <td>786.05580</td>\n",
       "      <td>-7.389911</td>\n",
       "      <td>-7.556202</td>\n",
       "      <td>Rural_Akatsi</td>\n",
       "      <td>14.795113</td>\n",
       "      <td>1125.2</td>\n",
       "      <td>-3.1</td>\n",
       "      <td>33.1</td>\n",
       "      <td>15.00</td>\n",
       "      <td>0.62</td>\n",
       "      <td>Sandy</td>\n",
       "      <td>6.169393</td>\n",
       "      <td>8.526684e-02</td>\n",
       "      <td>1.3</td>\n",
       "      <td>cassava</td>\n",
       "      <td>0.7513536727525394</td>\n",
       "      <td>0.577964</td>\n",
       "    </tr>\n",
       "    <tr>\n",
       "      <th>1</th>\n",
       "      <td>674.33410</td>\n",
       "      <td>-7.736849</td>\n",
       "      <td>-1.051539</td>\n",
       "      <td>Rural_Sokoto</td>\n",
       "      <td>11.374611</td>\n",
       "      <td>1450.7</td>\n",
       "      <td>-3.9</td>\n",
       "      <td>30.6</td>\n",
       "      <td>13.35</td>\n",
       "      <td>0.64</td>\n",
       "      <td>Volcanic</td>\n",
       "      <td>5.676648</td>\n",
       "      <td>3.996838e-01</td>\n",
       "      <td>2.2</td>\n",
       "      <td>cassava</td>\n",
       "      <td>1.0698648105284714</td>\n",
       "      <td>0.486302</td>\n",
       "    </tr>\n",
       "    <tr>\n",
       "      <th>2</th>\n",
       "      <td>826.53390</td>\n",
       "      <td>-9.926616</td>\n",
       "      <td>0.115156</td>\n",
       "      <td>Rural_Sokoto</td>\n",
       "      <td>11.339692</td>\n",
       "      <td>2208.9</td>\n",
       "      <td>-1.8</td>\n",
       "      <td>28.4</td>\n",
       "      <td>13.30</td>\n",
       "      <td>0.69</td>\n",
       "      <td>Volcanic</td>\n",
       "      <td>5.331993</td>\n",
       "      <td>3.580286e-01</td>\n",
       "      <td>3.4</td>\n",
       "      <td>tea</td>\n",
       "      <td>2.2088010770590665</td>\n",
       "      <td>0.649647</td>\n",
       "    </tr>\n",
       "    <tr>\n",
       "      <th>3</th>\n",
       "      <td>574.94617</td>\n",
       "      <td>-2.420131</td>\n",
       "      <td>-6.592215</td>\n",
       "      <td>Rural_Kilimani</td>\n",
       "      <td>7.109855</td>\n",
       "      <td>328.8</td>\n",
       "      <td>-5.8</td>\n",
       "      <td>32.2</td>\n",
       "      <td>13.20</td>\n",
       "      <td>0.54</td>\n",
       "      <td>Loamy</td>\n",
       "      <td>5.328150</td>\n",
       "      <td>2.866871e-01</td>\n",
       "      <td>2.4</td>\n",
       "      <td>cassava</td>\n",
       "      <td>1.2776351356377693</td>\n",
       "      <td>0.532348</td>\n",
       "    </tr>\n",
       "    <tr>\n",
       "      <th>4</th>\n",
       "      <td>886.35300</td>\n",
       "      <td>-3.055434</td>\n",
       "      <td>-7.952609</td>\n",
       "      <td>Rural_Kilimani</td>\n",
       "      <td>55.007656</td>\n",
       "      <td>785.2</td>\n",
       "      <td>-2.5</td>\n",
       "      <td>31.0</td>\n",
       "      <td>14.25</td>\n",
       "      <td>0.72</td>\n",
       "      <td>Sandy</td>\n",
       "      <td>5.721234</td>\n",
       "      <td>4.319027e-02</td>\n",
       "      <td>1.5</td>\n",
       "      <td>wheat</td>\n",
       "      <td>0.8326139707528435</td>\n",
       "      <td>0.555076</td>\n",
       "    </tr>\n",
       "    <tr>\n",
       "      <th>...</th>\n",
       "      <td>...</td>\n",
       "      <td>...</td>\n",
       "      <td>...</td>\n",
       "      <td>...</td>\n",
       "      <td>...</td>\n",
       "      <td>...</td>\n",
       "      <td>...</td>\n",
       "      <td>...</td>\n",
       "      <td>...</td>\n",
       "      <td>...</td>\n",
       "      <td>...</td>\n",
       "      <td>...</td>\n",
       "      <td>...</td>\n",
       "      <td>...</td>\n",
       "      <td>...</td>\n",
       "      <td>...</td>\n",
       "      <td>...</td>\n",
       "    </tr>\n",
       "    <tr>\n",
       "      <th>5649</th>\n",
       "      <td>681.36145</td>\n",
       "      <td>-7.358371</td>\n",
       "      <td>-6.254369</td>\n",
       "      <td>Rural_Akatsi</td>\n",
       "      <td>16.213196</td>\n",
       "      <td>885.7</td>\n",
       "      <td>-4.3</td>\n",
       "      <td>33.4</td>\n",
       "      <td>14.55</td>\n",
       "      <td>0.61</td>\n",
       "      <td>Sandy</td>\n",
       "      <td>5.741063</td>\n",
       "      <td>3.286828e-01</td>\n",
       "      <td>1.1</td>\n",
       "      <td>potato</td>\n",
       "      <td>0.6099302707266007</td>\n",
       "      <td>0.554482</td>\n",
       "    </tr>\n",
       "    <tr>\n",
       "      <th>5650</th>\n",
       "      <td>667.02120</td>\n",
       "      <td>-3.154559</td>\n",
       "      <td>-4.475046</td>\n",
       "      <td>Rural_Kilimani</td>\n",
       "      <td>2.397553</td>\n",
       "      <td>501.1</td>\n",
       "      <td>-4.8</td>\n",
       "      <td>32.1</td>\n",
       "      <td>13.65</td>\n",
       "      <td>0.54</td>\n",
       "      <td>Sandy</td>\n",
       "      <td>5.445833</td>\n",
       "      <td>1.602583e-01</td>\n",
       "      <td>8.7</td>\n",
       "      <td>maize</td>\n",
       "      <td>3.8122888776279047</td>\n",
       "      <td>0.438194</td>\n",
       "    </tr>\n",
       "    <tr>\n",
       "      <th>5651</th>\n",
       "      <td>670.77900</td>\n",
       "      <td>-14.472861</td>\n",
       "      <td>-6.110221</td>\n",
       "      <td>Rural_Hawassa</td>\n",
       "      <td>7.636470</td>\n",
       "      <td>1586.6</td>\n",
       "      <td>-3.8</td>\n",
       "      <td>33.4</td>\n",
       "      <td>14.80</td>\n",
       "      <td>0.64</td>\n",
       "      <td>Volcanic</td>\n",
       "      <td>5.385873</td>\n",
       "      <td>8.221326e-09</td>\n",
       "      <td>2.1</td>\n",
       "      <td>tea</td>\n",
       "      <td>1.681628841752382</td>\n",
       "      <td>0.800776</td>\n",
       "    </tr>\n",
       "    <tr>\n",
       "      <th>5652</th>\n",
       "      <td>429.48840</td>\n",
       "      <td>-14.653089</td>\n",
       "      <td>-6.984116</td>\n",
       "      <td>Rural_Hawassa</td>\n",
       "      <td>13.944720</td>\n",
       "      <td>1272.2</td>\n",
       "      <td>-6.2</td>\n",
       "      <td>34.6</td>\n",
       "      <td>14.20</td>\n",
       "      <td>0.63</td>\n",
       "      <td>Silt</td>\n",
       "      <td>5.562508</td>\n",
       "      <td>6.917245e-10</td>\n",
       "      <td>1.3</td>\n",
       "      <td>cassava</td>\n",
       "      <td>0.6598740205225154</td>\n",
       "      <td>0.507595</td>\n",
       "    </tr>\n",
       "    <tr>\n",
       "      <th>5653</th>\n",
       "      <td>763.09030</td>\n",
       "      <td>-4.317028</td>\n",
       "      <td>-6.344461</td>\n",
       "      <td>Rural_Kilimani</td>\n",
       "      <td>35.189430</td>\n",
       "      <td>516.4</td>\n",
       "      <td>-3.8</td>\n",
       "      <td>29.6</td>\n",
       "      <td>12.90</td>\n",
       "      <td>0.64</td>\n",
       "      <td>Sandy</td>\n",
       "      <td>5.087792</td>\n",
       "      <td>2.612715e-01</td>\n",
       "      <td>0.5</td>\n",
       "      <td>wheat</td>\n",
       "      <td>0.22653194895338064</td>\n",
       "      <td>0.453064</td>\n",
       "    </tr>\n",
       "  </tbody>\n",
       "</table>\n",
       "<p>5654 rows × 17 columns</p>\n",
       "</div>"
      ],
      "text/plain": [
       "      Elevation   Latitude  Longitude        Location      Slope  Rainfall  \\\n",
       "0     786.05580  -7.389911  -7.556202    Rural_Akatsi  14.795113    1125.2   \n",
       "1     674.33410  -7.736849  -1.051539    Rural_Sokoto  11.374611    1450.7   \n",
       "2     826.53390  -9.926616   0.115156    Rural_Sokoto  11.339692    2208.9   \n",
       "3     574.94617  -2.420131  -6.592215  Rural_Kilimani   7.109855     328.8   \n",
       "4     886.35300  -3.055434  -7.952609  Rural_Kilimani  55.007656     785.2   \n",
       "...         ...        ...        ...             ...        ...       ...   \n",
       "5649  681.36145  -7.358371  -6.254369    Rural_Akatsi  16.213196     885.7   \n",
       "5650  667.02120  -3.154559  -4.475046  Rural_Kilimani   2.397553     501.1   \n",
       "5651  670.77900 -14.472861  -6.110221   Rural_Hawassa   7.636470    1586.6   \n",
       "5652  429.48840 -14.653089  -6.984116   Rural_Hawassa  13.944720    1272.2   \n",
       "5653  763.09030  -4.317028  -6.344461  Rural_Kilimani  35.189430     516.4   \n",
       "\n",
       "      Min_temperature_C  Max_temperature_C  Ave_temps  Soil_fertility  \\\n",
       "0                  -3.1               33.1      15.00            0.62   \n",
       "1                  -3.9               30.6      13.35            0.64   \n",
       "2                  -1.8               28.4      13.30            0.69   \n",
       "3                  -5.8               32.2      13.20            0.54   \n",
       "4                  -2.5               31.0      14.25            0.72   \n",
       "...                 ...                ...        ...             ...   \n",
       "5649               -4.3               33.4      14.55            0.61   \n",
       "5650               -4.8               32.1      13.65            0.54   \n",
       "5651               -3.8               33.4      14.80            0.64   \n",
       "5652               -6.2               34.6      14.20            0.63   \n",
       "5653               -3.8               29.6      12.90            0.64   \n",
       "\n",
       "     Soil_type        pH  Pollution_level  Plot_size Crop_type  \\\n",
       "0        Sandy  6.169393     8.526684e-02        1.3   cassava   \n",
       "1     Volcanic  5.676648     3.996838e-01        2.2   cassava   \n",
       "2     Volcanic  5.331993     3.580286e-01        3.4       tea   \n",
       "3        Loamy  5.328150     2.866871e-01        2.4   cassava   \n",
       "4        Sandy  5.721234     4.319027e-02        1.5     wheat   \n",
       "...        ...       ...              ...        ...       ...   \n",
       "5649     Sandy  5.741063     3.286828e-01        1.1    potato   \n",
       "5650     Sandy  5.445833     1.602583e-01        8.7     maize   \n",
       "5651  Volcanic  5.385873     8.221326e-09        2.1       tea   \n",
       "5652      Silt  5.562508     6.917245e-10        1.3   cassava   \n",
       "5653     Sandy  5.087792     2.612715e-01        0.5     wheat   \n",
       "\n",
       "             Annual_yield  Standard_yield  \n",
       "0      0.7513536727525394        0.577964  \n",
       "1      1.0698648105284714        0.486302  \n",
       "2      2.2088010770590665        0.649647  \n",
       "3      1.2776351356377693        0.532348  \n",
       "4      0.8326139707528435        0.555076  \n",
       "...                   ...             ...  \n",
       "5649   0.6099302707266007        0.554482  \n",
       "5650   3.8122888776279047        0.438194  \n",
       "5651    1.681628841752382        0.800776  \n",
       "5652   0.6598740205225154        0.507595  \n",
       "5653  0.22653194895338064        0.453064  \n",
       "\n",
       "[5654 rows x 17 columns]"
      ]
     },
     "execution_count": 28,
     "metadata": {},
     "output_type": "execute_result"
    }
   ],
   "source": [
    "MD_agric_df"
   ]
  },
  {
   "cell_type": "code",
   "execution_count": 29,
   "id": "3000a401",
   "metadata": {},
   "outputs": [
    {
     "data": {
      "text/plain": [
       "8"
      ]
     },
     "execution_count": 29,
     "metadata": {},
     "output_type": "execute_result"
    }
   ],
   "source": [
    "len(MD_agric_df['Crop_type'].unique())"
   ]
  },
  {
   "cell_type": "markdown",
   "id": "aa8309f1",
   "metadata": {},
   "source": [
    "Expected output: `8`"
   ]
  },
  {
   "cell_type": "code",
   "execution_count": null,
   "id": "e1371959",
   "metadata": {},
   "outputs": [],
   "source": [
    "MD_agric_df['Elevation'].min()"
   ]
  },
  {
   "cell_type": "markdown",
   "id": "1ffa4440",
   "metadata": {},
   "source": [
    "Expected output: `35.910797`"
   ]
  },
  {
   "cell_type": "code",
   "execution_count": null,
   "id": "87ba5369",
   "metadata": {},
   "outputs": [],
   "source": [
    "MD_agric_df['Annual_yield'].dtype"
   ]
  },
  {
   "cell_type": "markdown",
   "id": "0697d96b",
   "metadata": {},
   "source": [
    "Expected outcome: `dtype('float64')`"
   ]
  },
  {
   "cell_type": "markdown",
   "id": "0324a485",
   "metadata": {},
   "source": [
    "# Analysis"
   ]
  },
  {
   "cell_type": "markdown",
   "id": "9a1fddb1",
   "metadata": {},
   "source": [
    "## Challenge 1: Uncovering crop preferences"
   ]
  },
  {
   "cell_type": "markdown",
   "id": "55b8dc1b",
   "metadata": {},
   "source": [
    "Now that we have our data ready, let's delve into understanding where different crops are grown in Maji Ndogo. Our initial step is to focus on tea, a key crop in Maji Ndogo. We need to determine the optimal conditions for its growth. By analyzing data related to elevation, rainfall, and soil type specifically for tea plantations, we'll start to paint a picture of where our farming systems could thrive.\n",
    "\n",
    "**Task:**\n",
    "Create a function that includes only tea fields and returns a tuple with the mean `Rainfall` and the mean `Elevation`. The function should input the full DataFrame, a string value for the crop type to filter by, and output a tuple with rainfall and elevation.\n"
   ]
  },
  {
   "cell_type": "code",
   "execution_count": 30,
   "id": "86896dc5",
   "metadata": {},
   "outputs": [],
   "source": [
    "### START FUNCTION\n",
    "def explore_crop_distribution(df,crop_filter):\n",
    "    # Insert your code here\n",
    "    \"\"\"\n",
    "    Filters the DataFrame for the given crop type and \n",
    "    returns a tuple with (mean_rainfall, mean_elevation).\n",
    "    \"\"\"\n",
    "    # Filter for the selected crop\n",
    "    crop_df = df[df[\"Crop_type\"].str.lower() == crop_filter.lower()]\n",
    "    \n",
    "    # Calculate mean rainfall and elevation\n",
    "    mean_rainfall = crop_df[\"Rainfall\"].mean()\n",
    "    mean_elevation = crop_df[\"Elevation\"].mean()\n",
    "    \n",
    "    # Return as a tuple\n",
    "    return (mean_rainfall, mean_elevation)\n",
    "\n",
    "### END FUNCTION"
   ]
  },
  {
   "cell_type": "markdown",
   "id": "9be4474e",
   "metadata": {},
   "source": [
    "Input:"
   ]
  },
  {
   "cell_type": "code",
   "execution_count": 31,
   "id": "66ca9510",
   "metadata": {},
   "outputs": [
    {
     "data": {
      "text/plain": [
       "(np.float64(1534.5079956188388), np.float64(775.208667535597))"
      ]
     },
     "execution_count": 31,
     "metadata": {},
     "output_type": "execute_result"
    }
   ],
   "source": [
    "explore_crop_distribution(MD_agric_df, \"tea\")"
   ]
  },
  {
   "cell_type": "markdown",
   "id": "2ae64880",
   "metadata": {},
   "source": [
    "Expected output: `(1534.5079956188388, 775.208667535597)`"
   ]
  },
  {
   "cell_type": "code",
   "execution_count": null,
   "id": "56d76595",
   "metadata": {},
   "outputs": [],
   "source": [
    "explore_crop_distribution(MD_agric_df, \"wheat\")"
   ]
  },
  {
   "cell_type": "code",
   "execution_count": null,
   "id": "5a500340",
   "metadata": {},
   "outputs": [
    {
     "data": {
      "text/plain": [
       "(np.float64(1210.543005952381), np.float64(682.9030081845237))"
      ]
     },
     "execution_count": 42,
     "metadata": {},
     "output_type": "execute_result"
    }
   ],
   "source": [
    "explore_crop_distribution(MD_agric_df, \"cassava\")\n"
   ]
  },
  {
   "cell_type": "code",
   "execution_count": 43,
   "id": "c2282e81",
   "metadata": {},
   "outputs": [
    {
     "data": {
      "text/plain": [
       "(np.float64(1659.9056872037916), np.float64(487.9735717440758))"
      ]
     },
     "execution_count": 43,
     "metadata": {},
     "output_type": "execute_result"
    }
   ],
   "source": [
    "explore_crop_distribution(MD_agric_df, \"banana\")"
   ]
  },
  {
   "cell_type": "code",
   "execution_count": 44,
   "id": "9621577f",
   "metadata": {},
   "outputs": [
    {
     "data": {
      "text/plain": [
       "(np.float64(681.0102756892231), np.float64(680.596981904762))"
      ]
     },
     "execution_count": 44,
     "metadata": {},
     "output_type": "execute_result"
    }
   ],
   "source": [
    "explore_crop_distribution(MD_agric_df, \"maize\")"
   ]
  },
  {
   "cell_type": "code",
   "execution_count": 45,
   "id": "d07923bb",
   "metadata": {},
   "outputs": [
    {
     "data": {
      "text/plain": [
       "(np.float64(1632.382641509434), np.float64(352.858052664151))"
      ]
     },
     "execution_count": 45,
     "metadata": {},
     "output_type": "execute_result"
    }
   ],
   "source": [
    "explore_crop_distribution(MD_agric_df, \"rice\")"
   ]
  },
  {
   "cell_type": "code",
   "execution_count": 46,
   "id": "505b5744",
   "metadata": {},
   "outputs": [
    {
     "data": {
      "text/plain": [
       "(np.float64(660.2890643985418), np.float64(696.3139169258809))"
      ]
     },
     "execution_count": 46,
     "metadata": {},
     "output_type": "execute_result"
    }
   ],
   "source": [
    "explore_crop_distribution(MD_agric_df, \"potato\")"
   ]
  },
  {
   "cell_type": "code",
   "execution_count": 47,
   "id": "c25508a3",
   "metadata": {},
   "outputs": [
    {
     "data": {
      "text/plain": [
       "(np.float64(1527.2650741350908), np.float64(647.0477342668863))"
      ]
     },
     "execution_count": 47,
     "metadata": {},
     "output_type": "execute_result"
    }
   ],
   "source": [
    "explore_crop_distribution(MD_agric_df, \"coffee\")"
   ]
  },
  {
   "cell_type": "markdown",
   "id": "74cd8725",
   "metadata": {},
   "source": [
    "Expected output: `(1010.2859910581222, 595.8384148002981)`"
   ]
  },
  {
   "cell_type": "markdown",
   "id": "78795c87",
   "metadata": {},
   "source": [
    "Repeat this for a couple of crops to get a feeling for where crops are planted in Majio Ndogo."
   ]
  },
  {
   "cell_type": "markdown",
   "id": "2372ccb9",
   "metadata": {},
   "source": [
    "## Challenge 2: Finding fertile grounds\n"
   ]
  },
  {
   "cell_type": "markdown",
   "id": "628c4cc1",
   "metadata": {},
   "source": [
    "With insights into tea cultivation, let's broaden our horizons. Fertile soil is the bedrock of successful farming. By grouping our data by location and soil type, we'll pinpoint where the most fertile soils in Maji Ndogo are. These fertile zones could be prime candidates for diverse crop cultivation, maximising our yield.\n",
    "\n",
    "We’ll group our data by soil type to see where the most fertile grounds are. This information will be vital for deciding where to deploy our farming technology.\n",
    "\n",
    "**Task:** Create a function that groups the data by `Soil_type`, and returns the `Soil_fertility`."
   ]
  },
  {
   "cell_type": "code",
   "execution_count": null,
   "id": "064f3d6b",
   "metadata": {},
   "outputs": [],
   "source": [
    "### START FUNCTION\n",
    "def analyse_soil_fertility(df):\n",
    "    \"\"\"\n",
    "    Groups the DataFrame by Soil_type and returns the mean Soil_fertility\n",
    "    for each soil type as a Pandas DataFrame.\n",
    "    \"\"\"\n",
    "    grouped_df = df.groupby(\"Soil_type\", as_index=False)[\"Soil_fertility\"].mean().round(6)\n",
    "    return grouped_df\n",
    "    \n",
    "### END FUNCTION"
   ]
  },
  {
   "cell_type": "markdown",
   "id": "39424119",
   "metadata": {},
   "source": [
    "Input:"
   ]
  },
  {
   "cell_type": "code",
   "execution_count": 49,
   "id": "bc11f72f",
   "metadata": {},
   "outputs": [
    {
     "data": {
      "application/vnd.microsoft.datawrangler.viewer.v0+json": {
       "columns": [
        {
         "name": "index",
         "rawType": "int64",
         "type": "integer"
        },
        {
         "name": "Soil_type",
         "rawType": "object",
         "type": "string"
        },
        {
         "name": "Soil_fertility",
         "rawType": "float64",
         "type": "float"
        }
       ],
       "ref": "623f74df-e30b-4e6e-933d-af290cf21e1d",
       "rows": [
        [
         "0",
         "Loamy",
         "0.585868"
        ],
        [
         "1",
         "Peaty",
         "0.604882"
        ],
        [
         "2",
         "Rocky",
         "0.582368"
        ],
        [
         "3",
         "Sandy",
         "0.595669"
        ],
        [
         "4",
         "Silt",
         "0.652654"
        ],
        [
         "5",
         "Volcanic",
         "0.648894"
        ]
       ],
       "shape": {
        "columns": 2,
        "rows": 6
       }
      },
      "text/html": [
       "<div>\n",
       "<style scoped>\n",
       "    .dataframe tbody tr th:only-of-type {\n",
       "        vertical-align: middle;\n",
       "    }\n",
       "\n",
       "    .dataframe tbody tr th {\n",
       "        vertical-align: top;\n",
       "    }\n",
       "\n",
       "    .dataframe thead th {\n",
       "        text-align: right;\n",
       "    }\n",
       "</style>\n",
       "<table border=\"1\" class=\"dataframe\">\n",
       "  <thead>\n",
       "    <tr style=\"text-align: right;\">\n",
       "      <th></th>\n",
       "      <th>Soil_type</th>\n",
       "      <th>Soil_fertility</th>\n",
       "    </tr>\n",
       "  </thead>\n",
       "  <tbody>\n",
       "    <tr>\n",
       "      <th>0</th>\n",
       "      <td>Loamy</td>\n",
       "      <td>0.585868</td>\n",
       "    </tr>\n",
       "    <tr>\n",
       "      <th>1</th>\n",
       "      <td>Peaty</td>\n",
       "      <td>0.604882</td>\n",
       "    </tr>\n",
       "    <tr>\n",
       "      <th>2</th>\n",
       "      <td>Rocky</td>\n",
       "      <td>0.582368</td>\n",
       "    </tr>\n",
       "    <tr>\n",
       "      <th>3</th>\n",
       "      <td>Sandy</td>\n",
       "      <td>0.595669</td>\n",
       "    </tr>\n",
       "    <tr>\n",
       "      <th>4</th>\n",
       "      <td>Silt</td>\n",
       "      <td>0.652654</td>\n",
       "    </tr>\n",
       "    <tr>\n",
       "      <th>5</th>\n",
       "      <td>Volcanic</td>\n",
       "      <td>0.648894</td>\n",
       "    </tr>\n",
       "  </tbody>\n",
       "</table>\n",
       "</div>"
      ],
      "text/plain": [
       "  Soil_type  Soil_fertility\n",
       "0     Loamy        0.585868\n",
       "1     Peaty        0.604882\n",
       "2     Rocky        0.582368\n",
       "3     Sandy        0.595669\n",
       "4      Silt        0.652654\n",
       "5  Volcanic        0.648894"
      ]
     },
     "execution_count": 49,
     "metadata": {},
     "output_type": "execute_result"
    }
   ],
   "source": [
    "analyse_soil_fertility(MD_agric_df)"
   ]
  },
  {
   "cell_type": "markdown",
   "id": "788a7f56",
   "metadata": {},
   "source": [
    "Expected output:\n",
    "```python Soil_Type\n",
    "Loamy       0.585868\n",
    "Peaty       0.604882\n",
    "Rocky       0.582368\n",
    "Sandy       0.595669\n",
    "Silt        0.652654\n",
    "Volcanic    0.648894\n",
    "Name: Soil_Fertility, dtype: float64\n",
    "```"
   ]
  },
  {
   "cell_type": "markdown",
   "id": "e9b1845f",
   "metadata": {},
   "source": [
    "Try digging into the data a bit more by aggregating various data to identify some more patterns. "
   ]
  },
  {
   "cell_type": "markdown",
   "id": "8e2d8de9",
   "metadata": {},
   "source": [
    "## Challenge 3: Climate and geography analysis"
   ]
  },
  {
   "cell_type": "markdown",
   "id": "8cc62613",
   "metadata": {},
   "source": [
    "Now, let's delve into how climate and geography influence farming. By understanding the relationship between factors like elevation, temperature, and rainfall with crop yields, we can identify the most suitable areas for different crops. This analysis is key to ensuring our automated systems are deployed in locations that will maximise their effectiveness.\n",
    "\n",
    "**Task:** Create a function that takes in a DataFrame and the column name, and groups the data by that column, and aggregates the data by the means of `Elevation`, `Min_temperature_C`, `Max_temperature_C`, and `Rainfall`, and outputs a DataFrame. Please ensure that the order of the columns matches the output."
   ]
  },
  {
   "cell_type": "code",
   "execution_count": 40,
   "id": "29474e68",
   "metadata": {},
   "outputs": [],
   "source": [
    "### START FUNCTION\n",
    "def climate_geography_influence(df,column):\n",
    "    # Insert your code here\n",
    "\n",
    "    \"\"\"\n",
    "    Groups the data by the specified column and calculates the mean of\n",
    "    Elevation, Min_temperature_C, Max_temperature_C, and Rainfall.\n",
    "    Returns a DataFrame with the correct column order.\n",
    "    \"\"\"\n",
    "    return df.groupby(column)[\n",
    "        [\"Elevation\", \"Min_temperature_C\", \"Max_temperature_C\", \"Rainfall\"]\n",
    "    ].mean().round(6)\n",
    "\n",
    "\n",
    "### END FUNCTION"
   ]
  },
  {
   "cell_type": "markdown",
   "id": "6448a869",
   "metadata": {},
   "source": [
    "Input:"
   ]
  },
  {
   "cell_type": "code",
   "execution_count": 41,
   "id": "4c214f59",
   "metadata": {},
   "outputs": [
    {
     "data": {
      "application/vnd.microsoft.datawrangler.viewer.v0+json": {
       "columns": [
        {
         "name": "Crop_type",
         "rawType": "object",
         "type": "string"
        },
        {
         "name": "Elevation",
         "rawType": "float64",
         "type": "float"
        },
        {
         "name": "Min_temperature_C",
         "rawType": "float64",
         "type": "float"
        },
        {
         "name": "Max_temperature_C",
         "rawType": "float64",
         "type": "float"
        },
        {
         "name": "Rainfall",
         "rawType": "float64",
         "type": "float"
        }
       ],
       "ref": "0d83f7e1-8c10-4461-a9a3-86175d1997dd",
       "rows": [
        [
         "banana",
         "487.973572",
         "-5.354344",
         "31.988152",
         "1659.905687"
        ],
        [
         "cassava",
         "682.903008",
         "-3.992113",
         "30.902381",
         "1210.543006"
        ],
        [
         "coffee",
         "647.047734",
         "-4.028007",
         "30.855189",
         "1527.265074"
        ],
        [
         "maize",
         "680.596982",
         "-4.497995",
         "30.576692",
         "681.010276"
        ],
        [
         "potato",
         "696.313917",
         "-4.375334",
         "30.300608",
         "660.289064"
        ],
        [
         "rice",
         "352.858053",
         "-6.610566",
         "32.72717",
         "1632.382642"
        ],
        [
         "tea",
         "775.208668",
         "-2.862651",
         "29.950383",
         "1534.507996"
        ],
        [
         "wheat",
         "595.838415",
         "-4.968107",
         "30.973845",
         "1010.285991"
        ]
       ],
       "shape": {
        "columns": 4,
        "rows": 8
       }
      },
      "text/html": [
       "<div>\n",
       "<style scoped>\n",
       "    .dataframe tbody tr th:only-of-type {\n",
       "        vertical-align: middle;\n",
       "    }\n",
       "\n",
       "    .dataframe tbody tr th {\n",
       "        vertical-align: top;\n",
       "    }\n",
       "\n",
       "    .dataframe thead th {\n",
       "        text-align: right;\n",
       "    }\n",
       "</style>\n",
       "<table border=\"1\" class=\"dataframe\">\n",
       "  <thead>\n",
       "    <tr style=\"text-align: right;\">\n",
       "      <th></th>\n",
       "      <th>Elevation</th>\n",
       "      <th>Min_temperature_C</th>\n",
       "      <th>Max_temperature_C</th>\n",
       "      <th>Rainfall</th>\n",
       "    </tr>\n",
       "    <tr>\n",
       "      <th>Crop_type</th>\n",
       "      <th></th>\n",
       "      <th></th>\n",
       "      <th></th>\n",
       "      <th></th>\n",
       "    </tr>\n",
       "  </thead>\n",
       "  <tbody>\n",
       "    <tr>\n",
       "      <th>banana</th>\n",
       "      <td>487.973572</td>\n",
       "      <td>-5.354344</td>\n",
       "      <td>31.988152</td>\n",
       "      <td>1659.905687</td>\n",
       "    </tr>\n",
       "    <tr>\n",
       "      <th>cassava</th>\n",
       "      <td>682.903008</td>\n",
       "      <td>-3.992113</td>\n",
       "      <td>30.902381</td>\n",
       "      <td>1210.543006</td>\n",
       "    </tr>\n",
       "    <tr>\n",
       "      <th>coffee</th>\n",
       "      <td>647.047734</td>\n",
       "      <td>-4.028007</td>\n",
       "      <td>30.855189</td>\n",
       "      <td>1527.265074</td>\n",
       "    </tr>\n",
       "    <tr>\n",
       "      <th>maize</th>\n",
       "      <td>680.596982</td>\n",
       "      <td>-4.497995</td>\n",
       "      <td>30.576692</td>\n",
       "      <td>681.010276</td>\n",
       "    </tr>\n",
       "    <tr>\n",
       "      <th>potato</th>\n",
       "      <td>696.313917</td>\n",
       "      <td>-4.375334</td>\n",
       "      <td>30.300608</td>\n",
       "      <td>660.289064</td>\n",
       "    </tr>\n",
       "    <tr>\n",
       "      <th>rice</th>\n",
       "      <td>352.858053</td>\n",
       "      <td>-6.610566</td>\n",
       "      <td>32.727170</td>\n",
       "      <td>1632.382642</td>\n",
       "    </tr>\n",
       "    <tr>\n",
       "      <th>tea</th>\n",
       "      <td>775.208668</td>\n",
       "      <td>-2.862651</td>\n",
       "      <td>29.950383</td>\n",
       "      <td>1534.507996</td>\n",
       "    </tr>\n",
       "    <tr>\n",
       "      <th>wheat</th>\n",
       "      <td>595.838415</td>\n",
       "      <td>-4.968107</td>\n",
       "      <td>30.973845</td>\n",
       "      <td>1010.285991</td>\n",
       "    </tr>\n",
       "  </tbody>\n",
       "</table>\n",
       "</div>"
      ],
      "text/plain": [
       "            Elevation  Min_temperature_C  Max_temperature_C     Rainfall\n",
       "Crop_type                                                               \n",
       "banana     487.973572          -5.354344          31.988152  1659.905687\n",
       "cassava    682.903008          -3.992113          30.902381  1210.543006\n",
       "coffee     647.047734          -4.028007          30.855189  1527.265074\n",
       "maize      680.596982          -4.497995          30.576692   681.010276\n",
       "potato     696.313917          -4.375334          30.300608   660.289064\n",
       "rice       352.858053          -6.610566          32.727170  1632.382642\n",
       "tea        775.208668          -2.862651          29.950383  1534.507996\n",
       "wheat      595.838415          -4.968107          30.973845  1010.285991"
      ]
     },
     "execution_count": 41,
     "metadata": {},
     "output_type": "execute_result"
    }
   ],
   "source": [
    "climate_geography_influence(MD_agric_df, 'Crop_type')"
   ]
  },
  {
   "cell_type": "markdown",
   "id": "802ce1a4",
   "metadata": {},
   "source": [
    "Expected output:\n",
    "\n",
    "```sql\n",
    "Crop_type \tElevation\tMin_temperature_C\tMax_temperature_C\tRainfall\t\t\t\n",
    "banana\t\t487.973572\t-5.354344\t\t31.988152\t    1659.905687\n",
    "cassava\t\t682.903008\t-3.992113\t\t30.902381\t    1210.543006\n",
    "coffee\t\t647.047734\t-4.028007\t\t30.855189\t    1527.265074\n",
    "maize\t\t680.596982\t-4.497995\t\t30.576692\t    681.010276\n",
    "potato\t\t696.313917\t-4.375334\t\t30.300608\t    660.289064\n",
    "rice\t\t352.858053\t-6.610566\t\t32.727170\t    1632.382642\n",
    "tea\t\t775.208668\t-2.862651\t\t29.950383\t    1534.507996\n",
    "wheat\t\t595.838415\t-4.968107\t\t30.973845\t    1010.285991\n",
    "```"
   ]
  },
  {
   "cell_type": "markdown",
   "id": "977babed",
   "metadata": {},
   "source": [
    "## Challenge 4: Advanced sorting techniques"
   ]
  },
  {
   "cell_type": "markdown",
   "id": "ebf9f6f7",
   "metadata": {},
   "source": [
    "Quite often it is better to improve the things you're good at than improving the things you're bad at. So the question is, which crop is the top performer in Maji Ndogo, and under what conditions does it perform well? \n",
    "\n",
    "To answer this, we need to:\n",
    "1. Filter all the fields with an above-average `Standard_yield` (do you have flashbacks to SQL subqueries right now?).\n",
    "2. Then group by <?> crop type, using `count()`.\n",
    "3. Sort the values to get the top crop type on top.\n",
    "4. Retrieve the name of the top index. See the hint below on how to do this. \n",
    "\n",
    "**Task:** Create a function that takes a DataFrame as input, filters, groups and sorts, and outputs a string value of a crop type."
   ]
  },
  {
   "cell_type": "markdown",
   "id": "13b3d881",
   "metadata": {},
   "source": [
    "**Hint:** When you have grouped by a column, we can access the labels of that \"index column\" using `.index`. For example: "
   ]
  },
  {
   "cell_type": "code",
   "execution_count": null,
   "id": "c0deef7c",
   "metadata": {},
   "outputs": [],
   "source": [
    "grouped_df = MD_agric_df.groupby(\"Soil_type\").mean(numeric_only = True).sort_values(by=\"Elevation\",ascending=False)\n",
    "print(grouped_df.index[0])\n",
    "grouped_df"
   ]
  },
  {
   "cell_type": "code",
   "execution_count": null,
   "id": "4a4791a6",
   "metadata": {},
   "outputs": [],
   "source": [
    "### START FUNCTION\n",
    "def find_ideal_fields(df):\n",
    "    # Insert your code here\n",
    "### END FUNCTION"
   ]
  },
  {
   "cell_type": "markdown",
   "id": "7efcc079",
   "metadata": {},
   "source": [
    "Input:"
   ]
  },
  {
   "cell_type": "code",
   "execution_count": null,
   "id": "01448eb0",
   "metadata": {},
   "outputs": [],
   "source": [
    "type(find_ideal_fields(MD_agric_df))"
   ]
  },
  {
   "cell_type": "markdown",
   "id": "8fd44b50",
   "metadata": {},
   "source": [
    "Expected output: `str`"
   ]
  },
  {
   "cell_type": "markdown",
   "id": "ad7289df",
   "metadata": {},
   "source": [
    "# Challenge 5: Advanced filtering techniques"
   ]
  },
  {
   "cell_type": "markdown",
   "id": "7956f3ab",
   "metadata": {},
   "source": [
    "Now we know that <?> is our most successful crop, we can look at what makes it successful.\n",
    "\n",
    "Create a function that takes a DataFrame as input, and the type of crop, and filters the DataFrame using the following conditions:\n",
    "1. Filter by crop type.\n",
    "\n",
    "2. Select only rows that have above average `Standard_yield`.\n",
    "\n",
    "3. Select only rows that have `Ave_temps` >= 12 but =< 15.\n",
    "\n",
    "4. Have a `Pollution_level` lower than 0.0001."
   ]
  },
  {
   "cell_type": "code",
   "execution_count": null,
   "id": "b99d9e12",
   "metadata": {},
   "outputs": [],
   "source": [
    "### START FUNCTION\n",
    "def find_good_conditions(df, crop_type):\n",
    "    # Insert your code here\n",
    "### END FUNCTION"
   ]
  },
  {
   "cell_type": "markdown",
   "id": "c5bc44d2",
   "metadata": {},
   "source": [
    "Input:"
   ]
  },
  {
   "cell_type": "code",
   "execution_count": null,
   "id": "209203d1",
   "metadata": {},
   "outputs": [],
   "source": [
    "find_good_conditions(MD_agric_df, \"tea\").shape"
   ]
  },
  {
   "cell_type": "markdown",
   "id": "a522fb89",
   "metadata": {},
   "source": [
    "Expected output: `(14, 17)`"
   ]
  },
  {
   "cell_type": "markdown",
   "id": "463b4aa3",
   "metadata": {},
   "source": [
    "# Extra Pandas \"nuggets\""
   ]
  },
  {
   "cell_type": "markdown",
   "id": "c2ffa827",
   "metadata": {},
   "source": [
    "We have not even scratched the surface of Pandas or our dataset. If you remember back to your days with Chidi, it took a while before we could unlock the secrets the survey data had. So, scratch around a bit.\n",
    "\n",
    "On the Pandas front, it's the same. Pandas is a very powerful data analysis tool that takes a while to master. Many of the more advanced methods like window functions, dynamically retrieving or changing data, vectorisation, or processing big data with Pandas are all more advanced topics we encounter in the workplace.\n",
    "\n",
    "But here are two tiny 'nuggets' to upskill in Pandas."
   ]
  },
  {
   "cell_type": "markdown",
   "id": "184dc608",
   "metadata": {},
   "source": [
    "## df.query()"
   ]
  },
  {
   "cell_type": "markdown",
   "id": "026086fc",
   "metadata": {},
   "source": [
    "Oh, you're going to love this one... `df.query()` was designed to filter data, but using SQL-like syntax. For example:"
   ]
  },
  {
   "cell_type": "code",
   "execution_count": null,
   "id": "a3d22c0b",
   "metadata": {},
   "outputs": [],
   "source": [
    "MD_agric_df.query('Standard_yield > 0.5 and Soil_type == \"Loamy\"')"
   ]
  },
  {
   "cell_type": "markdown",
   "id": "afdb4b96",
   "metadata": {},
   "source": [
    "Isn't that much easier to read and understand than the one below?"
   ]
  },
  {
   "cell_type": "code",
   "execution_count": null,
   "id": "b0cb4b7b",
   "metadata": {},
   "outputs": [],
   "source": [
    "MD_agric_df[(MD_agric_df['Standard_yield'] > 0.5) & (MD_agric_df['Soil_type'] == 'Loamy')]"
   ]
  },
  {
   "cell_type": "markdown",
   "id": "ae060c3f",
   "metadata": {},
   "source": [
    "The nice thing is, we can use `in []`, `not in []` to filter with, and also pass in variables using `@variable_name`."
   ]
  },
  {
   "cell_type": "code",
   "execution_count": null,
   "id": "91cde683",
   "metadata": {},
   "outputs": [],
   "source": [
    "soil_types = ['Loamy', 'Sandy', 'Silt']\n",
    "\n",
    "MD_agric_df.query('Soil_type in @soil_types')"
   ]
  },
  {
   "cell_type": "markdown",
   "id": "f5b3f939",
   "metadata": {},
   "source": [
    "# Plotting data with Pandas"
   ]
  },
  {
   "cell_type": "markdown",
   "id": "757d5c23",
   "metadata": {},
   "source": [
    "Sometimes we quickly want to see a basic visualisation of our data. we can use `df.plot(kind='bar')` to make a bar plot, `df.plot(kind='hist', bins = 10)` to see the distribution of a data column, or `df.plot(kind='scatter', x='Column_on_x', y='Column_on_y')` to understand the relationship between variables."
   ]
  },
  {
   "cell_type": "code",
   "execution_count": null,
   "id": "2da1e0bc",
   "metadata": {},
   "outputs": [],
   "source": [
    "MD_agric_df.groupby('Crop_type')['Standard_yield'].mean().plot(kind='bar')"
   ]
  },
  {
   "cell_type": "code",
   "execution_count": null,
   "id": "7fff3aab",
   "metadata": {},
   "outputs": [],
   "source": [
    "MD_agric_df['Standard_yield'].plot(kind='hist', bins =20)"
   ]
  },
  {
   "cell_type": "code",
   "execution_count": null,
   "id": "8570713a",
   "metadata": {},
   "outputs": [],
   "source": [
    "MD_agric_df.plot(kind='scatter', x = \"Pollution_level\", y = \"Standard_yield\")"
   ]
  },
  {
   "cell_type": "markdown",
   "id": "383a7d2a",
   "metadata": {},
   "source": [
    "We can use these plots to get a quick feel for the data, but we can't really customise these much. For that we need some better tools. "
   ]
  },
  {
   "cell_type": "markdown",
   "id": "26fd094b-0fee-46f1-a4b8-73766813c42b",
   "metadata": {
    "tags": []
   },
   "source": [
    "#  \n",
    "\n",
    "<div align=\"center\" style=\" font-size: 80%; text-align: center; margin: 0 auto\">\n",
    "<img src=\"https://raw.githubusercontent.com/Explore-AI/Pictures/master/ExploreAI_logos/EAI_Blue_Dark.png\"  style=\"width:200px\";/>\n",
    "</div>"
   ]
  }
 ],
 "metadata": {
  "kernelspec": {
   "display_name": "Python_env",
   "language": "python",
   "name": "python3"
  },
  "language_info": {
   "codemirror_mode": {
    "name": "ipython",
    "version": 3
   },
   "file_extension": ".py",
   "mimetype": "text/x-python",
   "name": "python",
   "nbconvert_exporter": "python",
   "pygments_lexer": "ipython3",
   "version": "3.13.7"
  }
 },
 "nbformat": 4,
 "nbformat_minor": 5
}
