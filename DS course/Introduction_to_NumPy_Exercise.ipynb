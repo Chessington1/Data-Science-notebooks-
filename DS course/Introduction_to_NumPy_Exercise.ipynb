{
 "cells": [
  {
   "cell_type": "markdown",
   "id": "cd88ea27",
   "metadata": {},
   "source": [
    "<div align=\"center\" style=\" font-size: 80%; text-align: center; margin: 0 auto\">\n",
    "<img src=\"https://raw.githubusercontent.com/Explore-AI/Pictures/master/Python-Notebook-Banners/Exercise.png\"  style=\"display: block; margin-left: auto; margin-right: auto;\";/>\n",
    "</div>"
   ]
  },
  {
   "cell_type": "markdown",
   "id": "f662d169",
   "metadata": {},
   "source": [
    "# Exercise: Introduction to NumPy\n"
   ]
  },
  {
   "cell_type": "markdown",
   "id": "26af890c",
   "metadata": {},
   "source": [
    "In this notebook, we explore the fundamentals of NumPy for efficient data manipulation and analysis in Python.\n"
   ]
  },
  {
   "cell_type": "markdown",
   "id": "2d230d14",
   "metadata": {
    "tags": []
   },
   "source": [
    "## Learning objectives\n",
    "\n",
    "In this train, we will learn:\n",
    "- How to create, reshape, and manipulate arrays using NumPy.\n",
    "- How to access and modify elements in NumPy arrays.\n",
    "- How to apply key NumPy functions to analyse real-world problems."
   ]
  },
  {
   "cell_type": "markdown",
   "id": "de45a481",
   "metadata": {},
   "source": [
    "## Exercises"
   ]
  },
  {
   "cell_type": "code",
   "execution_count": 1,
   "metadata": {},
   "outputs": [],
   "source": [
    "import numpy as np"
   ]
  },
  {
   "cell_type": "markdown",
   "id": "5a0b7683",
   "metadata": {
    "tags": []
   },
   "source": [
    "### Exercise 1\n",
    "\n",
    "Given a 2D NumPy array, `pollution_data`, representing daily air quality index values of a city for a week (rows for days and columns for different pollutants), write a code snippet to return the day (row) with the highest average pollution level."
   ]
  },
  {
   "cell_type": "code",
   "execution_count": 13,
   "metadata": {},
   "outputs": [
    {
     "data": {
      "text/plain": [
       "array([[45, 65, 70],\n",
       "       [55, 60, 50],\n",
       "       [60, 58, 67]])"
      ]
     },
     "execution_count": 13,
     "metadata": {},
     "output_type": "execute_result"
    }
   ],
   "source": [
    "pollution_data = np.array([[45, 65, 70], [55, 60, 50], [60, 58, 67]])\n",
    "pollution_data"
   ]
  },
  {
   "cell_type": "code",
   "execution_count": 12,
   "id": "c2ee76ec",
   "metadata": {},
   "outputs": [
    {
     "name": "stdout",
     "output_type": "stream",
     "text": [
      "Day with highest average pollution level: 2\n",
      "Average pollution level on that day: 61.666666666666664\n"
     ]
    }
   ],
   "source": [
    "# insert code here\n",
    "pollution_data = np.array([[45, 65, 70], [55, 60, 50], [60, 58, 67]])\n",
    "pollution_data\n",
    "\n",
    "# Calculate the average pollution per day (row)\n",
    "daily_avg= np.mean(pollution_data, axis=1)\n",
    "\n",
    "# Find the index of the day with the highest average\n",
    "day_with_highest_avg = np.argmax(daily_avg)\n",
    "\n",
    "print(\"Day with highest average pollution level:\", day_with_highest_avg)\n",
    "print(\"Average pollution level on that day:\", daily_avg[day_with_highest_avg])"
   ]
  },
  {
   "cell_type": "markdown",
   "id": "dc9b7dc6",
   "metadata": {},
   "source": [
    "### Exercise 2\n",
    "\n",
    "A forest department is monitoring deforestation by analysing satellite data of five similarly sized regions. When the monitoring started, each region had full forest coverage (i.e. 100). The most recent data collected has been stored in a 1D NumPy array, `forest_coverage`, where each element represents the percentage of forest cover in different regions. Write code to calculate the total percentage of coverage **lost**, if each 1% reduction in forest cover equals 100 square kilometres. "
   ]
  },
  {
   "cell_type": "code",
   "execution_count": 20,
   "metadata": {},
   "outputs": [
    {
     "name": "stdout",
     "output_type": "stream",
     "text": [
      "The percentage of forest lost in each region(in %): [30 20 35 10 15]\n",
      "The percentage loss area (in sq.km): [7000 8000 6500 9000 8500]\n",
      "Total percentage of coverage lost (in sq. km): 39000\n"
     ]
    }
   ],
   "source": [
    "# Forest coverage data (in percentage) for 5 regions\n",
    "forest_coverage = np.array([70, 80, 65, 90, 85])\n",
    "\n",
    "# Step 1: Calculate the percentage of forest lost in each region\n",
    "percentage_loss = 100 - forest_coverage\n",
    "\n",
    "# Step 2: Convert percentage loss to area (1% = 100 sq km)\n",
    "loss_area = forest_coverage * 100\n",
    "\n",
    "# Step 3: Calculate total forest area lost\n",
    "total_loss = np.sum(loss_area)\n",
    "\n",
    "\n",
    "print(\"The percentage of forest lost in each region(in %):\",percentage_loss)\n",
    "print(\"The percentage loss area (in sq.km):\",loss_area)\n",
    "\n",
    "print(\"Total percentage of coverage lost (in sq. km):\",total_loss)\n",
    "\n",
    "\n"
   ]
  },
  {
   "cell_type": "code",
   "execution_count": null,
   "id": "ae48fab0",
   "metadata": {},
   "outputs": [],
   "source": [
    "# insert code here\n",
    "\n",
    "\n"
   ]
  },
  {
   "cell_type": "markdown",
   "metadata": {},
   "source": [
    "### Exercise 3\n",
    "\n",
    "For a study on water conservation, we have a 2D NumPy array, `water_quality`, representing different water quality parameters (columns) for various water bodies (rows). Write code to find the water body index (row index) with the worst average quality parameter."
   ]
  },
  {
   "cell_type": "code",
   "execution_count": 24,
   "metadata": {},
   "outputs": [
    {
     "data": {
      "text/plain": [
       "array([[7.8, 6.5, 8. ],\n",
       "       [5.4, 7.2, 6.5]])"
      ]
     },
     "execution_count": 24,
     "metadata": {},
     "output_type": "execute_result"
    }
   ],
   "source": [
    "water_quality = np.array([[7.8, 6.5, 8.0], [5.4, 7.2, 6.5]])\n",
    "water_quality"
   ]
  },
  {
   "cell_type": "code",
   "execution_count": 32,
   "id": "f4bc56f2",
   "metadata": {},
   "outputs": [
    {
     "name": "stdout",
     "output_type": "stream",
     "text": [
      "Average quality per water body: [7.43333333 6.36666667]\n",
      "Water body with the worst average quality (index): 1\n",
      "Worst average quality value: 6.366666666666667\n"
     ]
    }
   ],
   "source": [
    "\n",
    "# Step 1: Calculate average quality for each water body (row)\n",
    "average_quality = np.mean(water_quality, axis=1)\n",
    "\n",
    "# Step 2: Find the index of the water body with the worst (lowest) average quality\n",
    "worst_body_index = np.argmin(average_quality)\n",
    "\n",
    "print(\"Average quality per water body:\", average_quality)\n",
    "print(\"Water body with the worst average quality (index):\", worst_body_index)\n",
    "print(\"Worst average quality value:\", average_quality[worst_body_index])\n"
   ]
  },
  {
   "cell_type": "markdown",
   "metadata": {},
   "source": [
    "### Exercise 4\n",
    "\n",
    "Biologists tracking caracal movement have recorded the number of caracals spotted in different regions in a 2D NumPy array, `animal_sightings`. Each row represents a different region, and columns represent different days. Write a code snippet to find the index of the region with the highest average number of sightings."
   ]
  },
  {
   "cell_type": "code",
   "execution_count": 35,
   "metadata": {},
   "outputs": [
    {
     "data": {
      "text/plain": [
       "array([[ 5,  7,  8],\n",
       "       [ 3,  4,  6],\n",
       "       [ 9, 10,  7]])"
      ]
     },
     "execution_count": 35,
     "metadata": {},
     "output_type": "execute_result"
    }
   ],
   "source": [
    "animal_sightings = np.array([[5, 7, 8], [3, 4, 6], [9, 10, 7]])\n",
    "animal_sightings"
   ]
  },
  {
   "cell_type": "code",
   "execution_count": 37,
   "metadata": {},
   "outputs": [
    {
     "name": "stdout",
     "output_type": "stream",
     "text": [
      "The region with highest number of sightings: [6.66666667 4.33333333 8.66666667]\n",
      "The regions highest average sightings: 2\n",
      "The highest regon value: 8.666666666666666\n"
     ]
    }
   ],
   "source": [
    "# insert code here\n",
    "highest_region_sightings = np.mean(animal_sightings, axis = 1)\n",
    "region_highest_average = np.argmax(highest_region_sightings)\n",
    "\n",
    "print(\"The region with highest number of sightings:\", highest_region_sightings)\n",
    "print(\"The regions highest average sightings:\", region_highest_average)\n",
    "print(\"The highest regon value:\", highest_region_sightings[region_highest_average])\n",
    "\n"
   ]
  },
  {
   "cell_type": "markdown",
   "metadata": {},
   "source": [
    "### Exercise 5\n",
    "\n",
    "`np.reshape()` allows us to change the shape of an array without changing its data. For example, we can reshape a 1D array into a 2D array (matrix) or vice versa, as long as the total number of elements remains the same. Remember to read more about functions in the NumPy documentation if anything is unclear.\n",
    "\n",
    "Biologists have collected data on bird sightings in a region over a month, stored in a 1D NumPy array where each element represents the number of sightings on a particular day. Reshape this data into a 2D array (matrix) representing weeks and days (assume 4 weeks in a month, 7 days per week), and calculate the total sightings for each week."
   ]
  },
  {
   "cell_type": "code",
   "execution_count": 38,
   "metadata": {},
   "outputs": [
    {
     "data": {
      "text/plain": [
       "array([3, 4, 2, 5, 1, 0, 4, 3, 5, 2, 1, 7, 8, 1, 2, 3, 4, 1, 0, 5, 6, 2,\n",
       "       3, 4, 1, 4, 6, 7])"
      ]
     },
     "execution_count": 38,
     "metadata": {},
     "output_type": "execute_result"
    }
   ],
   "source": [
    "bird_sightings = np.array([3, 4, 2, 5, 1, 0, 4, 3, 5, 2, 1, 7, 8, 1, 2, 3, 4, 1, 0, 5, 6, 2, 3, 4, 1, 4, 6, 7])\n",
    "bird_sightings"
   ]
  },
  {
   "cell_type": "code",
   "execution_count": 40,
   "metadata": {},
   "outputs": [],
   "source": [
    "# insert code here\n",
    "reshaped_array = np.reshape(bird_sightings, (4,7))"
   ]
  },
  {
   "cell_type": "code",
   "execution_count": 41,
   "id": "d800a99c",
   "metadata": {},
   "outputs": [
    {
     "name": "stdout",
     "output_type": "stream",
     "text": [
      "Original array:\n",
      " [3 4 2 5 1 0 4 3 5 2 1 7 8 1 2 3 4 1 0 5 6 2 3 4 1 4 6 7]\n",
      "\n",
      "Reshaped 4x7 array:\n",
      " [[3 4 2 5 1 0 4]\n",
      " [3 5 2 1 7 8 1]\n",
      " [2 3 4 1 0 5 6]\n",
      " [2 3 4 1 4 6 7]]\n"
     ]
    }
   ],
   "source": [
    "\n",
    "\n",
    "bird_sightings = np.array([3, 4, 2, 5, 1, 0, 4, 3, 5, 2, 1, 7, 8, 1, 2, 3, 4, 1, 0, 5, 6, 2, 3, 4, 1, 4, 6, 7])\n",
    "\n",
    "# Reshape the array into 4 rows and 7 columns\n",
    "reshaped_array = np.reshape(bird_sightings, (4, 7))\n",
    "\n",
    "print(\"Original array:\\n\", bird_sightings)\n",
    "print(\"\\nReshaped 4x7 array:\\n\", reshaped_array)\n"
   ]
  },
  {
   "cell_type": "code",
   "execution_count": 44,
   "id": "c40a49af",
   "metadata": {},
   "outputs": [
    {
     "name": "stdout",
     "output_type": "stream",
     "text": [
      "Total sightings in each week:\n",
      " [19 27 21 27]\n"
     ]
    }
   ],
   "source": [
    "Total_sightings_weekly = reshaped_array.sum(axis=1)\n",
    "print(\"Total sightings in each week:\\n\", Total_sightings_weekly)"
   ]
  },
  {
   "cell_type": "markdown",
   "metadata": {},
   "source": [
    "### Exercise 6\n",
    "\n",
    "`np.transpose()` is a NumPy function that flips a matrix over its diagonal, switching the row and column indices of the array. This means that the first row becomes the first column, the second row becomes the second column, and so on.\n",
    "\n",
    "Meteorologists have recorded temperature and precipitation data over a year in a 2D array (rows for months, columns for temperature and precipitation). Transpose the array so that rows represent temperature and precipitation, and columns represent months. Then calculate the average temperature and precipitation over the year."
   ]
  },
  {
   "cell_type": "code",
   "execution_count": 45,
   "metadata": {},
   "outputs": [
    {
     "data": {
      "text/plain": [
       "array([[22, 50],\n",
       "       [25, 43],\n",
       "       [28, 35],\n",
       "       [30, 20],\n",
       "       [27, 25],\n",
       "       [25, 30],\n",
       "       [23, 40],\n",
       "       [24, 55],\n",
       "       [22, 60],\n",
       "       [20, 65],\n",
       "       [18, 70],\n",
       "       [22, 58]])"
      ]
     },
     "execution_count": 45,
     "metadata": {},
     "output_type": "execute_result"
    }
   ],
   "source": [
    "climate_data = np.array([[22, 50], [25, 43], [28, 35], [30, 20], [27, 25], [25, 30], [23, 40], [24, 55], [22, 60], [20, 65], [18, 70], [22, 58]])\n",
    "climate_data"
   ]
  },
  {
   "cell_type": "code",
   "execution_count": null,
   "metadata": {},
   "outputs": [
    {
     "name": "stdout",
     "output_type": "stream",
     "text": [
      "Transposed data:\n",
      " [[22 25 28 30 27 25 23 24 22 20 18 22]\n",
      " [50 43 35 20 25 30 40 55 60 65 70 58]]\n"
     ]
    }
   ],
   "source": [
    "# insert code here\n",
    "# data: rows = months, columns = [temperature, precipitation]\n",
    "# transposed data = column = months,  rows = [temperature, precipitation]\n",
    "transposed_data = np.transpose(climate_data)\n",
    "print(\"Transposed data:\\n\", transposed_data)"
   ]
  },
  {
   "cell_type": "code",
   "execution_count": 50,
   "id": "610efb9c",
   "metadata": {},
   "outputs": [
    {
     "name": "stdout",
     "output_type": "stream",
     "text": [
      "Average precipiation over the year:\n",
      " 45.916666666666664\n",
      "Average temperature over the year:\n",
      " 23.833333333333332\n"
     ]
    }
   ],
   "source": [
    "average_temperature = np.mean(transposed_data[0])\n",
    "average_precipitation = np.mean(transposed_data[1])\n",
    "\n",
    "print(\"Average precipiation over the year:\\n\", average_precipitation)\n",
    "print(\"Average temperature over the year:\\n\", average_temperature)"
   ]
  },
  {
   "cell_type": "markdown",
   "id": "555dea0d",
   "metadata": {},
   "source": [
    "## Solutions"
   ]
  },
  {
   "cell_type": "markdown",
   "id": "9ff8f391",
   "metadata": {},
   "source": [
    "### Exercise 1\n",
    "\n",
    "`pollution_data.mean(axis=1)` calculates the average pollution level for each day (row). `np.argmax` finds the index of the day with the highest average pollution level."
   ]
  },
  {
   "cell_type": "code",
   "execution_count": null,
   "metadata": {},
   "outputs": [],
   "source": [
    "import numpy as np"
   ]
  },
  {
   "cell_type": "code",
   "execution_count": 51,
   "id": "ad52ad95",
   "metadata": {},
   "outputs": [
    {
     "name": "stdout",
     "output_type": "stream",
     "text": [
      "[60 58 67]\n"
     ]
    }
   ],
   "source": [
    "pollution_data = np.array([[45, 65, 70], [55, 60, 50], [60, 58, 67]])\n",
    "\n",
    "most_polluted_day_index = np.argmax(pollution_data.mean(axis=1))\n",
    "\n",
    "print(pollution_data[most_polluted_day_index])"
   ]
  },
  {
   "cell_type": "markdown",
   "id": "a10363b6",
   "metadata": {},
   "source": [
    "### Exercise 2\n",
    "\n",
    "`100 - forest_coverage` calculates the proportion of deforestation for each region. Summing these loss values and multiplying them by 100 (conversion to square kilometres) gives the total forest cover lost in square kilometres.\n"
   ]
  },
  {
   "cell_type": "code",
   "execution_count": 52,
   "id": "09386d51",
   "metadata": {},
   "outputs": [
    {
     "name": "stdout",
     "output_type": "stream",
     "text": [
      "11000\n"
     ]
    }
   ],
   "source": [
    "forest_coverage = np.array([70, 80, 65, 90, 85])\n",
    "\n",
    "total_forest_cover_lost = (100 - forest_coverage).sum() * 100\n",
    "\n",
    "print(total_forest_cover_lost)"
   ]
  },
  {
   "cell_type": "markdown",
   "metadata": {},
   "source": [
    "### Exercise 3\n",
    "\n",
    "`water_quality.mean(axis=1)` computes the average quality parameter for each water body (row). `np.argmin` finds the index of the water body with the worst average quality.\n"
   ]
  },
  {
   "cell_type": "code",
   "execution_count": 53,
   "metadata": {},
   "outputs": [
    {
     "name": "stdout",
     "output_type": "stream",
     "text": [
      "1\n"
     ]
    }
   ],
   "source": [
    "water_quality = np.array([[7.8, 6.5, 8.0], [5.4, 7.2, 6.5]])\n",
    "\n",
    "worst_water_quality_index = np.argmin(water_quality.mean(axis=1))\n",
    "\n",
    "print(worst_water_quality_index)"
   ]
  },
  {
   "cell_type": "markdown",
   "metadata": {},
   "source": [
    "### Exercise 4\n",
    "\n",
    "`animal_sightings.mean(axis=1)` computes the average number of sightings per region. `np.argmax` finds the index of the region with the highest average.\n"
   ]
  },
  {
   "cell_type": "code",
   "execution_count": null,
   "metadata": {},
   "outputs": [],
   "source": [
    "animal_sightings = np.array([[5, 7, 8], [3, 4, 6], [9, 10, 7]])\n",
    "\n",
    "highest_sightings_region_index = np.argmax(animal_sightings.mean(axis=1))\n",
    "\n",
    "print(highest_sightings_region_index)"
   ]
  },
  {
   "cell_type": "markdown",
   "metadata": {},
   "source": [
    "### Exercise 5\n",
    "\n",
    "The `reshape(4, 7)` function reshapes the 1D array into a 2D array with 4 rows (weeks) and 7 columns (days). `sum(axis=1)` calculates the sum along the rows (each week), providing the total bird sightings per week.\n"
   ]
  },
  {
   "cell_type": "code",
   "execution_count": 54,
   "metadata": {},
   "outputs": [
    {
     "name": "stdout",
     "output_type": "stream",
     "text": [
      "[19 27 21 27]\n"
     ]
    }
   ],
   "source": [
    "bird_sightings = np.array([3, 4, 2, 5, 1, 0, 4, 3, 5, 2, 1, 7, 8, 1, 2, 3, 4, 1, 0, 5, 6, 2, 3, 4, 1, 4, 6, 7])\n",
    "\n",
    "reshaped_sightings = bird_sightings.reshape(4, 7)\n",
    "total_sightings_per_week = reshaped_sightings.sum(axis=1)\n",
    "\n",
    "print(total_sightings_per_week)"
   ]
  },
  {
   "cell_type": "markdown",
   "metadata": {},
   "source": [
    "### Exercise 6\n",
    "\n",
    "`transpose()` changes the shape of `climate_data` so that rows and columns are swapped. Now, the first row represents temperatures and the second row represents precipitation for each month. The `mean()` function calculates the average value for each of these rows, giving the average temperature and precipitation over the year.\n"
   ]
  },
  {
   "cell_type": "code",
   "execution_count": 55,
   "metadata": {},
   "outputs": [
    {
     "name": "stdout",
     "output_type": "stream",
     "text": [
      "[[22 25 28 30 27 25 23 24 22 20 18 22]\n",
      " [50 43 35 20 25 30 40 55 60 65 70 58]]\n",
      "23.833333333333332\n",
      "45.916666666666664\n"
     ]
    }
   ],
   "source": [
    "climate_data = np.array([[22, 50], [25, 43], [28, 35], [30, 20], [27, 25], [25, 30], [23, 40], [24, 55], [22, 60], [20, 65], [18, 70], [22, 58]])\n",
    "\n",
    "transposed_climate_data = climate_data.transpose()\n",
    "print(transposed_climate_data)\n",
    "\n",
    "average_temperature = transposed_climate_data[0].mean()\n",
    "average_precipitation = transposed_climate_data[1].mean()\n",
    "\n",
    "print(average_temperature)\n",
    "print(average_precipitation)"
   ]
  },
  {
   "cell_type": "markdown",
   "id": "26fd094b-0fee-46f1-a4b8-73766813c42b",
   "metadata": {
    "tags": []
   },
   "source": [
    "#  \n",
    "\n",
    "<div align=\"center\" style=\" font-size: 80%; text-align: center; margin: 0 auto\">\n",
    "<img src=\"https://raw.githubusercontent.com/Explore-AI/Pictures/refs/heads/master/ALX_banners/ALX_Navy.png\"  style=\"width:140px\";/>\n",
    "</div>"
   ]
  }
 ],
 "metadata": {
  "kernelspec": {
   "display_name": "Python_env",
   "language": "python",
   "name": "python3"
  },
  "language_info": {
   "codemirror_mode": {
    "name": "ipython",
    "version": 3
   },
   "file_extension": ".py",
   "mimetype": "text/x-python",
   "name": "python",
   "nbconvert_exporter": "python",
   "pygments_lexer": "ipython3",
   "version": "3.13.7"
  }
 },
 "nbformat": 4,
 "nbformat_minor": 5
}
