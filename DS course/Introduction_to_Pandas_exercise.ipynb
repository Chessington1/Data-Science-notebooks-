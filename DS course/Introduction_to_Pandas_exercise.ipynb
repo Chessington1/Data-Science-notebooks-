{
 "cells": [
  {
   "cell_type": "markdown",
   "metadata": {
    "id": "Ee-v8I_P8rfp"
   },
   "source": [
    "<div align=\"center\" style=\" font-size: 80%; text-align: center; margin: 0 auto\">\n",
    "<img src=\"https://raw.githubusercontent.com/Explore-AI/Pictures/master/Python-Notebook-Banners/Exercise.png\"  style=\"display: block; margin-left: auto; margin-right: auto;\";/>\n",
    "</div>\n",
    "\n",
    "# Exercise: Introduction to Pandas \n",
    "\n",
    "\n",
    "In this exercise, we test our understanding of basic Pandas functions.\n"
   ]
  },
  {
   "cell_type": "markdown",
   "metadata": {
    "id": "ITqrvAqq8xSC"
   },
   "source": [
    "## Learning objectives\n",
    "\n",
    "By the end of this train, you should be able to:\n",
    "* Create and display the data stored in a DataFrame.\n"
   ]
  },
  {
   "cell_type": "markdown",
   "metadata": {},
   "source": [
    "## Exercises"
   ]
  },
  {
   "cell_type": "markdown",
   "metadata": {},
   "source": [
    "### Import libraries"
   ]
  },
  {
   "cell_type": "code",
   "execution_count": 1,
   "metadata": {},
   "outputs": [],
   "source": [
    "import pandas as pd\n",
    "import numpy as np"
   ]
  },
  {
   "cell_type": "markdown",
   "metadata": {},
   "source": [
    "### Exercise 1\n",
    "\n",
    "Create a Pandas DataFrame from a dictionary. The dictionary keys should be `Crop`, `Yield_per_Acre`, and `Country`, and the values should be lists, as shown in the data below:\n",
    "\n",
    "- Crop: `['Wheat', 'Corn', 'Rice', 'Soybean']`\n",
    "- Yields per Acre (in tons): `[3, 4.5, 5, 2.8]`\n",
    "- Country: `['USA', 'China', 'India', 'Brazil']`"
   ]
  },
  {
   "cell_type": "code",
   "execution_count": 7,
   "metadata": {},
   "outputs": [
    {
     "data": {
      "application/vnd.microsoft.datawrangler.viewer.v0+json": {
       "columns": [
        {
         "name": "index",
         "rawType": "int64",
         "type": "integer"
        },
        {
         "name": "Crops",
         "rawType": "object",
         "type": "string"
        },
        {
         "name": "Yields per Acre(in tons)",
         "rawType": "float64",
         "type": "float"
        },
        {
         "name": "Country",
         "rawType": "object",
         "type": "string"
        }
       ],
       "ref": "6d307083-4a9d-4274-bdfe-d079bac64254",
       "rows": [
        [
         "0",
         "Wheat",
         "3.0",
         "USA"
        ],
        [
         "1",
         "Corn",
         "4.5",
         "China"
        ],
        [
         "2",
         "Rice",
         "5.0",
         "India"
        ],
        [
         "3",
         "Soybean",
         "2.8",
         "Brazil"
        ]
       ],
       "shape": {
        "columns": 3,
        "rows": 4
       }
      },
      "text/html": [
       "<div>\n",
       "<style scoped>\n",
       "    .dataframe tbody tr th:only-of-type {\n",
       "        vertical-align: middle;\n",
       "    }\n",
       "\n",
       "    .dataframe tbody tr th {\n",
       "        vertical-align: top;\n",
       "    }\n",
       "\n",
       "    .dataframe thead th {\n",
       "        text-align: right;\n",
       "    }\n",
       "</style>\n",
       "<table border=\"1\" class=\"dataframe\">\n",
       "  <thead>\n",
       "    <tr style=\"text-align: right;\">\n",
       "      <th></th>\n",
       "      <th>Crops</th>\n",
       "      <th>Yields per Acre(in tons)</th>\n",
       "      <th>Country</th>\n",
       "    </tr>\n",
       "  </thead>\n",
       "  <tbody>\n",
       "    <tr>\n",
       "      <th>0</th>\n",
       "      <td>Wheat</td>\n",
       "      <td>3.0</td>\n",
       "      <td>USA</td>\n",
       "    </tr>\n",
       "    <tr>\n",
       "      <th>1</th>\n",
       "      <td>Corn</td>\n",
       "      <td>4.5</td>\n",
       "      <td>China</td>\n",
       "    </tr>\n",
       "    <tr>\n",
       "      <th>2</th>\n",
       "      <td>Rice</td>\n",
       "      <td>5.0</td>\n",
       "      <td>India</td>\n",
       "    </tr>\n",
       "    <tr>\n",
       "      <th>3</th>\n",
       "      <td>Soybean</td>\n",
       "      <td>2.8</td>\n",
       "      <td>Brazil</td>\n",
       "    </tr>\n",
       "  </tbody>\n",
       "</table>\n",
       "</div>"
      ],
      "text/plain": [
       "     Crops  Yields per Acre(in tons) Country\n",
       "0    Wheat                       3.0     USA\n",
       "1     Corn                       4.5   China\n",
       "2     Rice                       5.0   India\n",
       "3  Soybean                       2.8  Brazil"
      ]
     },
     "execution_count": 7,
     "metadata": {},
     "output_type": "execute_result"
    }
   ],
   "source": [
    "# Your solution here...\n",
    "data_dict = {'Crops':['Wheat', 'Corn', 'Rice', 'Soybean'], \n",
    "             'Yields per Acre(in tons)':[3, 4.5, 5, 2.8], \n",
    "             'Country':['USA', 'China', 'India', 'Brazil']\n",
    "             }\n",
    "pd.DataFrame(data=data_dict)"
   ]
  },
  {
   "cell_type": "markdown",
   "metadata": {},
   "source": [
    "### Exercise 2\n",
    "\n",
    "Using the DataFrame we created in **Exercise 1**, return only observations for index values 1 and 2 from the dataset."
   ]
  },
  {
   "cell_type": "code",
   "execution_count": null,
   "metadata": {},
   "outputs": [
    {
     "name": "stdout",
     "output_type": "stream",
     "text": [
      "     Crops  Yields per Acre(in tons) Country\n",
      "0    Wheat                       3.0     USA\n",
      "1     Corn                       4.5   China\n",
      "2     Rice                       5.0   India\n",
      "3  Soybean                       2.8  Brazil\n",
      "\n",
      "Row at index 1:\n",
      "Crops                        Corn\n",
      "Yields per Acre(in tons)      4.5\n",
      "Country                     China\n",
      "Name: 1, dtype: object\n",
      "\n",
      "Row at index 2:\n",
      "Crops                        Rice\n",
      "Yields per Acre(in tons)      5.0\n",
      "Country                     India\n",
      "Name: 2, dtype: object\n"
     ]
    }
   ],
   "source": [
    "# Your solution here...\n",
    "\n",
    "# Create a DataFrame from the dictionary\n",
    "df = pd.DataFrame(data=data_dict)\n",
    "\n",
    "# Display the DataFrame\n",
    "print(df)\n",
    "\n",
    "# Access the second row (index 1)\n",
    "print(\"\\nRow at index 1:\")\n",
    "print(df.iloc[1])\n",
    "\n",
    "# Access the Third row (index 2)\n",
    "print(\"\\nRow at index 2:\")\n",
    "print(df.iloc[2])"
   ]
  },
  {
   "cell_type": "markdown",
   "metadata": {},
   "source": [
    "### Exercise 3\n",
    "\n",
    "- Using the NumPy library, create a 3x2 array named `tree_array` to store information for different tree species as follows: \n",
    "\n",
    "`[[30, 25], [60, 30], [25, 20]]`\n",
    "\n",
    "- Use the array to create a DataFrame with the following columns: `Max_Height_m`, and `Growth_Rate_cm_per_year`, and the following index: `Maple`, `Pine` and `Birch`. "
   ]
  },
  {
   "cell_type": "code",
   "execution_count": 11,
   "metadata": {},
   "outputs": [
    {
     "data": {
      "text/plain": [
       "array([[30, 25],\n",
       "       [60, 30],\n",
       "       [25, 20]])"
      ]
     },
     "execution_count": 11,
     "metadata": {},
     "output_type": "execute_result"
    }
   ],
   "source": [
    "# Your solution here...\n",
    "tree_array = np.array([[30, 25], [60, 30], [25, 20]])\n",
    "tree_array"
   ]
  },
  {
   "cell_type": "code",
   "execution_count": 13,
   "metadata": {},
   "outputs": [
    {
     "data": {
      "application/vnd.microsoft.datawrangler.viewer.v0+json": {
       "columns": [
        {
         "name": "index",
         "rawType": "object",
         "type": "string"
        },
        {
         "name": "Max_Height_m",
         "rawType": "int64",
         "type": "integer"
        },
        {
         "name": "Growth_Rte_cm_per_year",
         "rawType": "int64",
         "type": "integer"
        }
       ],
       "ref": "06a4685c-3537-4182-ba91-5e87ccaabc3e",
       "rows": [
        [
         "Maple",
         "30",
         "25"
        ],
        [
         "Pine",
         "60",
         "30"
        ],
        [
         "Birch",
         "25",
         "20"
        ]
       ],
       "shape": {
        "columns": 2,
        "rows": 3
       }
      },
      "text/html": [
       "<div>\n",
       "<style scoped>\n",
       "    .dataframe tbody tr th:only-of-type {\n",
       "        vertical-align: middle;\n",
       "    }\n",
       "\n",
       "    .dataframe tbody tr th {\n",
       "        vertical-align: top;\n",
       "    }\n",
       "\n",
       "    .dataframe thead th {\n",
       "        text-align: right;\n",
       "    }\n",
       "</style>\n",
       "<table border=\"1\" class=\"dataframe\">\n",
       "  <thead>\n",
       "    <tr style=\"text-align: right;\">\n",
       "      <th></th>\n",
       "      <th>Max_Height_m</th>\n",
       "      <th>Growth_Rte_cm_per_year</th>\n",
       "    </tr>\n",
       "  </thead>\n",
       "  <tbody>\n",
       "    <tr>\n",
       "      <th>Maple</th>\n",
       "      <td>30</td>\n",
       "      <td>25</td>\n",
       "    </tr>\n",
       "    <tr>\n",
       "      <th>Pine</th>\n",
       "      <td>60</td>\n",
       "      <td>30</td>\n",
       "    </tr>\n",
       "    <tr>\n",
       "      <th>Birch</th>\n",
       "      <td>25</td>\n",
       "      <td>20</td>\n",
       "    </tr>\n",
       "  </tbody>\n",
       "</table>\n",
       "</div>"
      ],
      "text/plain": [
       "       Max_Height_m  Growth_Rte_cm_per_year\n",
       "Maple            30                      25\n",
       "Pine             60                      30\n",
       "Birch            25                      20"
      ]
     },
     "execution_count": 13,
     "metadata": {},
     "output_type": "execute_result"
    }
   ],
   "source": [
    "# Your solution here...\n",
    "tree_array = np.array([[30, 25], [60, 30], [25, 20]])\n",
    "index = ['Maple', 'Pine', 'Birch']\n",
    "columns= ['Max_Height_m', 'Growth_Rte_cm_per_year']\n",
    "pd.DataFrame(data=tree_array, index=index,  columns=columns)"
   ]
  },
  {
   "cell_type": "markdown",
   "metadata": {},
   "source": [
    "### Exercise 4\n",
    "\n",
    "Using the DataFrame we created in **Exercise 3**, display the `Max_Height_m` and `Growth_Rate_cm_per_year` columns for the `Pine` tree."
   ]
  },
  {
   "cell_type": "code",
   "execution_count": 16,
   "metadata": {},
   "outputs": [
    {
     "name": "stdout",
     "output_type": "stream",
     "text": [
      "\n",
      "Row at index 1:\n",
      "Max_Height_m              60\n",
      "Growth_Rte_cm_per_year    30\n",
      "Name: Pine, dtype: int64\n"
     ]
    }
   ],
   "source": [
    "# Your solution here...\n",
    "df= pd.DataFrame(data=tree_array, index=index,  columns=columns)\n",
    "print(\"\\nRow at index 1:\")\n",
    "print(df.loc['Pine'])"
   ]
  },
  {
   "cell_type": "markdown",
   "metadata": {},
   "source": [
    "### Exercise 5\n",
    "\n",
    "- We have a dataset named `Animals.csv` that stores information about a variety of animal species. Use Pandas to load the CSV file into a DataFrame called `animals_df`. \n",
    "\n",
    "- Display the first 5 rows of the DataFrame.\n",
    "\n",
    "**NB:** Use this link to access the dataset: https://raw.githubusercontent.com/Explore-AI/Public-Data/master/Data/Python/Animals.csv"
   ]
  },
  {
   "cell_type": "code",
   "execution_count": 23,
   "metadata": {},
   "outputs": [
    {
     "data": {
      "application/vnd.microsoft.datawrangler.viewer.v0+json": {
       "columns": [
        {
         "name": "index",
         "rawType": "int64",
         "type": "integer"
        },
        {
         "name": "Species",
         "rawType": "object",
         "type": "string"
        },
        {
         "name": "Average Lifespan (Years)",
         "rawType": "int64",
         "type": "integer"
        },
        {
         "name": "Habitat",
         "rawType": "object",
         "type": "string"
        },
        {
         "name": "Conservation Status",
         "rawType": "object",
         "type": "string"
        }
       ],
       "ref": "4f34cad5-c669-4de2-bc24-a726795ecce5",
       "rows": [
        [
         "0",
         "African Elephant",
         "60",
         "Grasslands",
         "Vulnerable"
        ],
        [
         "1",
         "Bengal Tiger",
         "15",
         "Forests",
         "Endangered"
        ],
        [
         "2",
         "Blue Whale",
         "80",
         "Ocean",
         "Endangered"
        ],
        [
         "3",
         "Giant Panda",
         "20",
         "Temperate Forest",
         "Vulnerable"
        ],
        [
         "4",
         "Komodo Dragon",
         "30",
         "Islands",
         "Vulnerable"
        ]
       ],
       "shape": {
        "columns": 4,
        "rows": 5
       }
      },
      "text/html": [
       "<div>\n",
       "<style scoped>\n",
       "    .dataframe tbody tr th:only-of-type {\n",
       "        vertical-align: middle;\n",
       "    }\n",
       "\n",
       "    .dataframe tbody tr th {\n",
       "        vertical-align: top;\n",
       "    }\n",
       "\n",
       "    .dataframe thead th {\n",
       "        text-align: right;\n",
       "    }\n",
       "</style>\n",
       "<table border=\"1\" class=\"dataframe\">\n",
       "  <thead>\n",
       "    <tr style=\"text-align: right;\">\n",
       "      <th></th>\n",
       "      <th>Species</th>\n",
       "      <th>Average Lifespan (Years)</th>\n",
       "      <th>Habitat</th>\n",
       "      <th>Conservation Status</th>\n",
       "    </tr>\n",
       "  </thead>\n",
       "  <tbody>\n",
       "    <tr>\n",
       "      <th>0</th>\n",
       "      <td>African Elephant</td>\n",
       "      <td>60</td>\n",
       "      <td>Grasslands</td>\n",
       "      <td>Vulnerable</td>\n",
       "    </tr>\n",
       "    <tr>\n",
       "      <th>1</th>\n",
       "      <td>Bengal Tiger</td>\n",
       "      <td>15</td>\n",
       "      <td>Forests</td>\n",
       "      <td>Endangered</td>\n",
       "    </tr>\n",
       "    <tr>\n",
       "      <th>2</th>\n",
       "      <td>Blue Whale</td>\n",
       "      <td>80</td>\n",
       "      <td>Ocean</td>\n",
       "      <td>Endangered</td>\n",
       "    </tr>\n",
       "    <tr>\n",
       "      <th>3</th>\n",
       "      <td>Giant Panda</td>\n",
       "      <td>20</td>\n",
       "      <td>Temperate Forest</td>\n",
       "      <td>Vulnerable</td>\n",
       "    </tr>\n",
       "    <tr>\n",
       "      <th>4</th>\n",
       "      <td>Komodo Dragon</td>\n",
       "      <td>30</td>\n",
       "      <td>Islands</td>\n",
       "      <td>Vulnerable</td>\n",
       "    </tr>\n",
       "  </tbody>\n",
       "</table>\n",
       "</div>"
      ],
      "text/plain": [
       "            Species  Average Lifespan (Years)           Habitat  \\\n",
       "0  African Elephant                        60        Grasslands   \n",
       "1      Bengal Tiger                        15           Forests   \n",
       "2        Blue Whale                        80             Ocean   \n",
       "3       Giant Panda                        20  Temperate Forest   \n",
       "4     Komodo Dragon                        30           Islands   \n",
       "\n",
       "  Conservation Status  \n",
       "0          Vulnerable  \n",
       "1          Endangered  \n",
       "2          Endangered  \n",
       "3          Vulnerable  \n",
       "4          Vulnerable  "
      ]
     },
     "execution_count": 23,
     "metadata": {},
     "output_type": "execute_result"
    }
   ],
   "source": [
    "# Your solution here...\n",
    "animals_df = pd.read_csv('https://raw.githubusercontent.com/Explore-AI/Public-Data/master/Data/Python/Animals.csv')\n",
    "df= pd.DataFrame(animals_df)\n",
    "df.head()"
   ]
  },
  {
   "cell_type": "markdown",
   "metadata": {},
   "source": [
    "### Exercise 6\n",
    "\n",
    "Using the DataFrame we have created in **Exercise 5**, access and display information on animals that are listed as `Critically Endangered` in the `Conservation Status` column."
   ]
  },
  {
   "cell_type": "code",
   "execution_count": 20,
   "metadata": {},
   "outputs": [
    {
     "data": {
      "application/vnd.microsoft.datawrangler.viewer.v0+json": {
       "columns": [
        {
         "name": "index",
         "rawType": "int64",
         "type": "integer"
        },
        {
         "name": "Species",
         "rawType": "object",
         "type": "string"
        },
        {
         "name": "Average Lifespan (Years)",
         "rawType": "int64",
         "type": "integer"
        },
        {
         "name": "Habitat",
         "rawType": "object",
         "type": "string"
        },
        {
         "name": "Conservation Status",
         "rawType": "object",
         "type": "string"
        }
       ],
       "ref": "2b46bf6c-5fe8-47e8-9ac2-fdcab92e38e2",
       "rows": [
        [
         "9",
         "Orangutan",
         "35",
         "Rainforests",
         "Critically Endangered"
        ]
       ],
       "shape": {
        "columns": 4,
        "rows": 1
       }
      },
      "text/html": [
       "<div>\n",
       "<style scoped>\n",
       "    .dataframe tbody tr th:only-of-type {\n",
       "        vertical-align: middle;\n",
       "    }\n",
       "\n",
       "    .dataframe tbody tr th {\n",
       "        vertical-align: top;\n",
       "    }\n",
       "\n",
       "    .dataframe thead th {\n",
       "        text-align: right;\n",
       "    }\n",
       "</style>\n",
       "<table border=\"1\" class=\"dataframe\">\n",
       "  <thead>\n",
       "    <tr style=\"text-align: right;\">\n",
       "      <th></th>\n",
       "      <th>Species</th>\n",
       "      <th>Average Lifespan (Years)</th>\n",
       "      <th>Habitat</th>\n",
       "      <th>Conservation Status</th>\n",
       "    </tr>\n",
       "  </thead>\n",
       "  <tbody>\n",
       "    <tr>\n",
       "      <th>9</th>\n",
       "      <td>Orangutan</td>\n",
       "      <td>35</td>\n",
       "      <td>Rainforests</td>\n",
       "      <td>Critically Endangered</td>\n",
       "    </tr>\n",
       "  </tbody>\n",
       "</table>\n",
       "</div>"
      ],
      "text/plain": [
       "     Species  Average Lifespan (Years)      Habitat    Conservation Status\n",
       "9  Orangutan                        35  Rainforests  Critically Endangered"
      ]
     },
     "execution_count": 20,
     "metadata": {},
     "output_type": "execute_result"
    }
   ],
   "source": [
    "# Your solution here...\n",
    "critically_endangered = df[df['Conservation Status'] == 'Critically Endangered']\n",
    "critically_endangered\n"
   ]
  },
  {
   "cell_type": "markdown",
   "metadata": {},
   "source": [
    "## Solutions"
   ]
  },
  {
   "cell_type": "markdown",
   "metadata": {},
   "source": [
    "### Exercise 1"
   ]
  },
  {
   "cell_type": "code",
   "execution_count": null,
   "metadata": {},
   "outputs": [],
   "source": [
    "# Creating a dictionary to hold agriculture data\n",
    "agri_data = {\n",
    "    'Crop': ['Wheat', 'Corn', 'Rice', 'Soybean'],\n",
    "    'Yield_per_Acre': [3, 4.5, 5, 2.8],\n",
    "    'Country': ['USA', 'China', 'India', 'Brazil']\n",
    "}\n",
    "\n",
    "# Creating a DataFrame from the agriculture data dictionary\n",
    "agri_df = pd.DataFrame(agri_data)\n",
    "\n",
    "# Printing the created DataFrame\n",
    "print(agri_df)"
   ]
  },
  {
   "cell_type": "markdown",
   "metadata": {},
   "source": [
    "### Exercise 2"
   ]
  },
  {
   "cell_type": "code",
   "execution_count": null,
   "metadata": {},
   "outputs": [],
   "source": [
    "agri_df.iloc[1:3]"
   ]
  },
  {
   "cell_type": "markdown",
   "metadata": {},
   "source": [
    "In the solution above, we use `.iloc` for **position-based indexing** where we select rows based on their integer index.\n",
    "\n",
    "We use the range 1 to 3 (not included). This returns the 2nd and the 3rd rows of data which correspond to `Corn` and `Rice` observations."
   ]
  },
  {
   "cell_type": "markdown",
   "metadata": {},
   "source": [
    "### Exercise 3"
   ]
  },
  {
   "cell_type": "code",
   "execution_count": null,
   "metadata": {},
   "outputs": [],
   "source": [
    "# Creating a NumPy array to represent data for different tree species\n",
    "tree_array = np.array([[30, 25], [60, 30], [25, 20]])\n",
    "\n",
    "# Defining the column names for the DataFrame\n",
    "columns = ['Max_Height_m', 'Growth_Rate_cm_per_year']\n",
    "\n",
    "# Defining the index for the DataFrame which represents the names of the tree species\n",
    "index = ['Maple', 'Pine', 'Birch']\n",
    "\n",
    "# Creating a DataFrame from the NumPy array above\n",
    "tree_df = pd.DataFrame(data=tree_array, index=index, columns=columns)\n",
    "\n",
    "# Printing the created DataFrame\n",
    "print(tree_df)"
   ]
  },
  {
   "cell_type": "markdown",
   "metadata": {},
   "source": [
    "### Exercise 4"
   ]
  },
  {
   "cell_type": "code",
   "execution_count": null,
   "metadata": {},
   "outputs": [],
   "source": [
    "tree_df.loc['Pine'][['Max_Height_m', 'Growth_Rate_cm_per_year']]"
   ]
  },
  {
   "cell_type": "markdown",
   "metadata": {},
   "source": [
    "In the above solution, we have used the `.loc` method for **label-based indexing.**\n",
    "\n",
    "The label `Pine` is used to select the row corresponding to the Pine tree. From this row, only the specified columns (`Max_Height_m` and `Growth_Rate_cm_per_year`) are selected and displayed. "
   ]
  },
  {
   "cell_type": "markdown",
   "metadata": {},
   "source": [
    "### Exercise 5"
   ]
  },
  {
   "cell_type": "code",
   "execution_count": null,
   "metadata": {},
   "outputs": [],
   "source": [
    "# Loading data from a CSV file named 'Animals.csv' into a DataFrame\n",
    "animals_df = pd.read_csv('https://raw.githubusercontent.com/Explore-AI/Public-Data/master/Data/Python/Animals.csv')\n",
    "\n",
    "# Displaying the first 5 rows of the DataFrame\n",
    "animals_df.head()"
   ]
  },
  {
   "cell_type": "markdown",
   "metadata": {},
   "source": [
    "The `.head(n)` function returns the first n rows, with the default being 5. This is useful for getting a quick view of the dataset."
   ]
  },
  {
   "cell_type": "markdown",
   "metadata": {},
   "source": [
    "### Exercise 6"
   ]
  },
  {
   "cell_type": "code",
   "execution_count": null,
   "metadata": {},
   "outputs": [],
   "source": [
    "# Create a new DataFrame based on a condition\n",
    "Critically_endangered = animals_df[animals_df['Conservation Status'] == 'Critically Endangered']\n",
    "\n",
    "# Displaying the newly created DataFrame\n",
    "Critically_endangered"
   ]
  },
  {
   "cell_type": "markdown",
   "metadata": {},
   "source": [
    "**Conditional selection** is performed on the `animals_df` DataFrame. The condition `(animals_df['Conservation Status'] == 'Critically Endangered')` checks each row to see if the `Conservation Status` column's value is `Critically Endangered`. The rows that meet this condition are then used to create a new DataFrame named `Critically_endangered`."
   ]
  },
  {
   "cell_type": "markdown",
   "metadata": {},
   "source": [
    "<div align=\"center\" style=\" font-size: 80%; text-align: center; margin: 0 auto\">\n",
    "<img src=\"https://raw.githubusercontent.com/Explore-AI/Pictures/refs/heads/master/ALX_banners/ALX_Navy.png\"  style=\"width:140px\";/>\n",
    "</div>"
   ]
  }
 ],
 "metadata": {
  "colab": {
   "authorship_tag": "ABX9TyPZFCZhaikX+N2/Bg7W6SY+",
   "collapsed_sections": [],
   "name": "Search_algorithms.ipynb",
   "provenance": [],
   "toc_visible": true
  },
  "kernelspec": {
   "display_name": "Python_env",
   "language": "python",
   "name": "python3"
  },
  "language_info": {
   "codemirror_mode": {
    "name": "ipython",
    "version": 3
   },
   "file_extension": ".py",
   "mimetype": "text/x-python",
   "name": "python",
   "nbconvert_exporter": "python",
   "pygments_lexer": "ipython3",
   "version": "3.13.7"
  }
 },
 "nbformat": 4,
 "nbformat_minor": 2
}
