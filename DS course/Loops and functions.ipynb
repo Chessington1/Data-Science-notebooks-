{
 "cells": [
  {
   "cell_type": "markdown",
   "id": "7b2a268c-93ee-4242-ad17-e818725497da",
   "metadata": {},
   "source": [
    "### Recap - Data Structures"
   ]
  },
  {
   "cell_type": "code",
   "execution_count": 1,
   "id": "272a0000-6cc8-4461-810a-b64fade3ca93",
   "metadata": {},
   "outputs": [],
   "source": [
    "#list, set , tuples, dictionary\n",
    "\n",
    "my_list = [\"this\", \"is\", \"a\", \"list\", 1, 2, 5, \"this\"]\n",
    "my_set = {\"Giraffe\", \"Elephant\", \"Bear\", \"Rabbit\", \"Fox\"}\n",
    "my_tuple = (1, 4, \"unchangeable\")\n",
    "my_dict = {\"name\": \"Naomi\", \"age\": 26, \"country\" : \"Nigeria\"}"
   ]
  },
  {
   "cell_type": "code",
   "execution_count": null,
   "id": "b16b7067-dfd8-45bb-b412-2409983c6571",
   "metadata": {},
   "outputs": [
    {
     "name": "stdout",
     "output_type": "stream",
     "text": [
      "['this', 'is', 'a', 'list', 1, 2, 5, 'this', 'newly', 'added']\n",
      "['this', 'is', 'a', 'list', 1, 2, 5, 'this', 'newly', 'added', 'another']\n",
      "[1, 2, 5]\n",
      "another\n",
      "10\n",
      "[0, 2, 4, 6, 8]\n"
     ]
    }
   ],
   "source": [
    "#some list functions\n",
    "new_list = my_list + ['newly', 'added']\n",
    "print(new_list)\n",
    "\n",
    "another_list = new_list.extend(['elements', 'added', 'here'])\n",
    "print(another_list)\n",
    "\n",
    "new_list.append('another')\n",
    "print(new_list)\n",
    "\n",
    "sub_list = new_list[4:7]\n",
    "print(sub_list)\n",
    "\n",
    "removed_elem = new_list.pop()\n",
    "print(removed_elem)\n",
    "\n",
    "print(len(new_list))\n",
    "\n",
    "print(list(range(0, 10, 2)))"
   ]
  },
  {
   "cell_type": "code",
   "execution_count": 3,
   "id": "d61ce591-2bba-44a8-bb5a-413d25a69890",
   "metadata": {},
   "outputs": [
    {
     "name": "stdout",
     "output_type": "stream",
     "text": [
      "{'Elephant', 'Rabbit', 'Bear', 'Koala', 'Giraffe', 'Hamster', 'Fox'}\n",
      "{'Rabbit'}\n"
     ]
    }
   ],
   "source": [
    "#some set functions\n",
    "animals_love = {\"Koala\", \"Rabbit\", \"Hamster\"}\n",
    "\n",
    "all_animals = animals_love.union(my_set)\n",
    "print(all_animals)\n",
    "\n",
    "common_animals = animals_love.intersection(my_set)\n",
    "print(common_animals)"
   ]
  },
  {
   "cell_type": "code",
   "execution_count": 4,
   "id": "6ea10160-4f1c-426a-8e8c-d0d61a49fa8d",
   "metadata": {},
   "outputs": [
    {
     "name": "stdout",
     "output_type": "stream",
     "text": [
      "(1, 4, 'unchangeable', 'new', 'tuple')\n",
      "new\n"
     ]
    }
   ],
   "source": [
    "#some tuples functions\n",
    "\n",
    "new_tuple = my_tuple+ (\"new\", \"tuple\")\n",
    "print(new_tuple)\n",
    "\n",
    "print(new_tuple[3])"
   ]
  },
  {
   "cell_type": "code",
   "execution_count": 5,
   "id": "26b3b999-272e-4ce8-9076-725617e4a74a",
   "metadata": {},
   "outputs": [
    {
     "name": "stdout",
     "output_type": "stream",
     "text": [
      "{'name': 'Naomi', 'age': 26, 'country': 'Nigeria', 'key': 'value'}\n"
     ]
    },
    {
     "data": {
      "text/plain": [
       "dict_keys(['name', 'age', 'country', 'key'])"
      ]
     },
     "execution_count": 5,
     "metadata": {},
     "output_type": "execute_result"
    }
   ],
   "source": [
    "#dictionary functions\n",
    "my_dict.update({\"key\": \"value\"})\n",
    "\n",
    "print(my_dict)\n",
    "my_dict['key']\n",
    "my_dict.keys()"
   ]
  },
  {
   "cell_type": "markdown",
   "id": "c9454c11-5820-47a3-a666-1eb81abcc3f5",
   "metadata": {},
   "source": [
    "### Logic and Conditions"
   ]
  },
  {
   "cell_type": "markdown",
   "id": "73360a1e-5afd-4fdc-b16b-9f07b2d360bd",
   "metadata": {},
   "source": [
    "Use conditional statements to check the age of a person. It should print:\n",
    "\n",
    "\"You are eligible to vote.\" if the age is 18 or older.\n",
    "\n",
    "\"You are not eligible to vote yet.\" otherwise."
   ]
  },
  {
   "cell_type": "code",
   "execution_count": 6,
   "id": "162197a3-a883-4921-8060-c9cf4969de9f",
   "metadata": {},
   "outputs": [
    {
     "name": "stdout",
     "output_type": "stream",
     "text": [
      "You are not eligible to vote yet.\n"
     ]
    }
   ],
   "source": [
    "age = 10\n",
    "if age > 18 :\n",
    "    print(\"You are eligible to vote.\")\n",
    "else:\n",
    "    print(\"You are not eligible to vote yet.\")"
   ]
  },
  {
   "cell_type": "code",
   "execution_count": 7,
   "id": "6a49fb48-ddd0-481e-9ab3-76741741849c",
   "metadata": {},
   "outputs": [
    {
     "name": "stdout",
     "output_type": "stream",
     "text": [
      "You are not eligible to vote yet.\n"
     ]
    }
   ],
   "source": [
    "print (\"You are eligible to vote.\") if age > 18 else print(\"You are not eligible to vote yet.\")"
   ]
  },
  {
   "cell_type": "markdown",
   "id": "b665fceb-5c8d-4db4-9863-ed425e0ff8de",
   "metadata": {},
   "source": [
    "Leap Year Detector\n",
    "Use conditional statements to check if a year is leap year. Returns True if it is a leap year, and False otherwise.   A year is a leap year if:\n",
    "\n",
    "1. It is divisible by 400.\n",
    "    OR\n",
    "2. It is divisible by 4 AND NOT divisible by 100."
   ]
  },
  {
   "cell_type": "code",
   "execution_count": 8,
   "id": "86210d7a-c3d9-4738-aabf-0f4a138cefe8",
   "metadata": {},
   "outputs": [
    {
     "name": "stdout",
     "output_type": "stream",
     "text": [
      "False\n"
     ]
    }
   ],
   "source": [
    "year = 1900\n",
    "if year % 400 == 0:\n",
    "    print(\"True\")\n",
    "elif (year % 4 == 0) and (year % 100 != 0) :\n",
    "    print(\"True\")\n",
    "else:\n",
    "    print(\"False\")"
   ]
  },
  {
   "cell_type": "markdown",
   "id": "3cd6357f-6bdc-40a2-9ddb-76d4dc48cbfd",
   "metadata": {},
   "source": [
    "Return the corresponding letter grade using the following scale:\n",
    "\n",
    "A: 90-100\n",
    "\n",
    "B: 80-89\n",
    "\n",
    "C: 70-79\n",
    "\n",
    "D: 60-69\n",
    "\n",
    "F: Below 60"
   ]
  },
  {
   "cell_type": "code",
   "execution_count": 9,
   "id": "4f526379-0cde-43ab-a3a6-63f522023ef7",
   "metadata": {},
   "outputs": [
    {
     "name": "stdout",
     "output_type": "stream",
     "text": [
      "Invalid grade\n"
     ]
    }
   ],
   "source": [
    "grade = 560\n",
    "\n",
    "if grade < 60:\n",
    "    print (\"F\")\n",
    "elif grade >= 60 and grade <= 69:\n",
    "    print(\"D\")\n",
    "elif grade >= 70 and grade <= 79:\n",
    "    print(\"C\")\n",
    "elif grade >= 80 and grade <= 89:\n",
    "    print(\"A\")\n",
    "elif grade >= 90 and grade <= 100:\n",
    "    print(\"E\")\n",
    "else:\n",
    "    print(\"Invalid grade\")"
   ]
  },
  {
   "cell_type": "markdown",
   "id": "df1f76c4-8750-471e-8590-4efc2899091f",
   "metadata": {},
   "source": [
    "#### Loops"
   ]
  },
  {
   "cell_type": "markdown",
   "id": "e4a9807e-932b-4e44-bce6-69b276743c60",
   "metadata": {},
   "source": [
    "```\n",
    "for item in iterable:\n",
    "    action/instructions\n",
    "```\n",
    "\n",
    "Iterable can be list, tuple, dictionary set etc"
   ]
  },
  {
   "cell_type": "markdown",
   "id": "dc4d6335-148c-4e6d-b023-aaa114685975",
   "metadata": {},
   "source": [
    "Print a Sequence (For Loop)\n",
    "Write a program that uses a for loop to print all numbers from 1 to 15 (inclusive)."
   ]
  },
  {
   "cell_type": "code",
   "execution_count": 10,
   "id": "21547df5-935e-4e7f-9256-d966f1717e79",
   "metadata": {},
   "outputs": [
    {
     "name": "stdout",
     "output_type": "stream",
     "text": [
      "1\n",
      "2\n",
      "3\n",
      "4\n",
      "5\n",
      "6\n",
      "7\n",
      "8\n",
      "9\n",
      "10\n",
      "11\n",
      "12\n",
      "13\n",
      "14\n",
      "15\n"
     ]
    }
   ],
   "source": [
    "for i in range(1, 16):\n",
    "    print (i)"
   ]
  },
  {
   "cell_type": "markdown",
   "id": "dcd3c336-c6d1-43eb-a3d0-d2167be87fa6",
   "metadata": {},
   "source": [
    "Write a program that uses a for loop to print all elements in a tuple"
   ]
  },
  {
   "cell_type": "code",
   "execution_count": 11,
   "id": "da056755-6009-4068-b023-89ac641ea340",
   "metadata": {},
   "outputs": [
    {
     "name": "stdout",
     "output_type": "stream",
     "text": [
      "this\n",
      "is\n",
      "a\n",
      "tuple\n"
     ]
    }
   ],
   "source": [
    "my_tuple = (\"this\", \"is\", \"a\", \"tuple\")\n",
    "\n",
    "for item in my_tuple:\n",
    "    print(item)"
   ]
  },
  {
   "cell_type": "markdown",
   "id": "eb9dc021-bc9f-4e31-9373-16d155cad354",
   "metadata": {},
   "source": [
    "List out characters in a string"
   ]
  },
  {
   "cell_type": "code",
   "execution_count": 12,
   "id": "684409a7-59a4-4580-b2c8-6cbee9aed1a8",
   "metadata": {},
   "outputs": [
    {
     "name": "stdout",
     "output_type": "stream",
     "text": [
      "H\n",
      "e\n",
      "l\n",
      "l\n",
      "o\n",
      " \n",
      "W\n",
      "o\n",
      "r\n",
      "l\n",
      "d\n"
     ]
    }
   ],
   "source": [
    "my_string = \"Hello World\"\n",
    "for letter in my_string:\n",
    "    print(letter)"
   ]
  },
  {
   "cell_type": "markdown",
   "id": "00614256-dd1e-4dc5-ae63-6ff49bfce6dd",
   "metadata": {},
   "source": [
    "Write a program that takes the dictionary student = {\"name\": \"Alice\", \"age\": 20, \"major\": \"Computer Science\", \"gpa\": 3.8} and uses a for loop to print all its key-value pairs in the format: \"Key: Value\".\n"
   ]
  },
  {
   "cell_type": "code",
   "execution_count": 14,
   "id": "fda7047c-885d-4199-a65b-8d36b9659dc9",
   "metadata": {},
   "outputs": [
    {
     "name": "stdout",
     "output_type": "stream",
     "text": [
      "name : Alice\n",
      "age : 20\n",
      "major : Computer Science\n",
      "gpa : 3.8\n"
     ]
    }
   ],
   "source": [
    "student = {\"name\": \"Alice\", \"age\": 20, \"major\": \"Computer Science\", \"gpa\": 3.8}\n",
    "for key,value in student.items():\n",
    "    print(f\"{key} : {value}\")"
   ]
  },
  {
   "cell_type": "code",
   "execution_count": 15,
   "id": "d0f2ebac-fb55-49f4-86db-a3163039ac3b",
   "metadata": {},
   "outputs": [
    {
     "name": "stdout",
     "output_type": "stream",
     "text": [
      "name : Alice\n",
      "age : 20\n",
      "major : Computer Science\n",
      "gpa : 3.8\n"
     ]
    }
   ],
   "source": [
    "for item in student.items():\n",
    "    print(f\"{item[0]} : {item[1]}\")"
   ]
  },
  {
   "cell_type": "markdown",
   "id": "779cc6ff-5535-4620-84c1-e1afba0f9e45",
   "metadata": {},
   "source": [
    "Count Down (While Loop)\n",
    "Write a program that uses a while loop to print a countdown from 10 down to 1, and then prints \"Liftoff!\"."
   ]
  },
  {
   "cell_type": "markdown",
   "id": "bad91dc9-c2af-4ea1-b89f-556fe537182d",
   "metadata": {},
   "source": [
    "```\n",
    "while condition:\n",
    "    action to take\n",
    "```"
   ]
  },
  {
   "cell_type": "code",
   "execution_count": 16,
   "id": "6082dee5-f039-48b8-984e-5315619cfa02",
   "metadata": {},
   "outputs": [
    {
     "name": "stdout",
     "output_type": "stream",
     "text": [
      "10\n",
      "9\n",
      "8\n",
      "7\n",
      "6\n",
      "5\n",
      "4\n",
      "3\n",
      "2\n",
      "1\n",
      "Liftoff!\n"
     ]
    }
   ],
   "source": [
    "countdown = 10\n",
    "while countdown >= 1:\n",
    "    print(countdown)\n",
    "    countdown -= 1\n",
    "print(\"Liftoff!\")"
   ]
  },
  {
   "cell_type": "markdown",
   "id": "8d4d069d-72f9-4bec-9846-0a1c0d82be15",
   "metadata": {},
   "source": [
    "Write a program that uses a while loop to print every integer from 1 up to and including 10. After the loop finishes, print the sum of all those numbers (1 through 10). "
   ]
  },
  {
   "cell_type": "code",
   "execution_count": 17,
   "id": "e7a00e53-a18d-4050-93e7-8df206150598",
   "metadata": {},
   "outputs": [
    {
     "name": "stdout",
     "output_type": "stream",
     "text": [
      "55\n"
     ]
    }
   ],
   "source": [
    "num = 1\n",
    "sum_n = 0\n",
    "while num <= 10:\n",
    "    sum_n += num\n",
    "    num += 1\n",
    "print(sum_n)"
   ]
  },
  {
   "cell_type": "markdown",
   "id": "57038530-79bf-4332-bc0d-1d648d732b34",
   "metadata": {},
   "source": [
    "#### Break/Continue"
   ]
  },
  {
   "cell_type": "markdown",
   "id": "c32ae690-c267-4cad-aa0d-6c9206ba2fde",
   "metadata": {},
   "source": [
    "Write a program that iterates through numbers from 1 to 10. Use a continue statement to skip printing the even numbers. It should only print the odd numbers."
   ]
  },
  {
   "cell_type": "code",
   "execution_count": 18,
   "id": "7ae664b5-89eb-4842-8571-491f985eac9a",
   "metadata": {},
   "outputs": [
    {
     "name": "stdout",
     "output_type": "stream",
     "text": [
      "1\n",
      "3\n",
      "5\n",
      "7\n",
      "9\n"
     ]
    }
   ],
   "source": [
    "for num in range(1, 11):\n",
    "    if num % 2 == 0:\n",
    "        continue\n",
    "    else:\n",
    "        print(num)"
   ]
  },
  {
   "cell_type": "markdown",
   "id": "e75afd97-4aae-4e94-9b53-dbab2f080f73",
   "metadata": {},
   "source": [
    "Given a list of integers, numbers = [10, 5, 20, -3, 15, -8, 25]. Write a loop that iterates through the list and prints each number. Use a break statement to stop the loop immediately when the first negative number is encountered (the negative number should not be printed)"
   ]
  },
  {
   "cell_type": "code",
   "execution_count": 19,
   "id": "acd86bcb-f680-4c51-b6bb-24f0075209a4",
   "metadata": {},
   "outputs": [
    {
     "name": "stdout",
     "output_type": "stream",
     "text": [
      "10\n",
      "5\n",
      "20\n"
     ]
    }
   ],
   "source": [
    "numbers = [10, 5, 20, -3, 15, -8, 25]\n",
    "\n",
    "for num in numbers:\n",
    "    if num < 0:\n",
    "        break\n",
    "    else:\n",
    "        print(num)"
   ]
  },
  {
   "cell_type": "markdown",
   "id": "6d2c9eb8-efe3-4d99-a6b1-134265c4b25c",
   "metadata": {},
   "source": [
    "You have a list of strings representing items in a shopping cart: cart = [\"apple\", \"banana\", \"rotten_orange\", \"milk\", \"rotten_cheese\", \"bread\"]. Write a loop that iterates over the cart. If an item contains the substring \"rotten\", use the continue statement to skip that item. For all other items, print \"Purchasing: [Item Name]\"."
   ]
  },
  {
   "cell_type": "code",
   "execution_count": 20,
   "id": "e352779c-a819-4ace-8f4d-48a0d2f0bd10",
   "metadata": {},
   "outputs": [
    {
     "name": "stdout",
     "output_type": "stream",
     "text": [
      "Purchasing : apple\n",
      "Purchasing : banana\n",
      "Purchasing : milk\n",
      "Purchasing : bread\n"
     ]
    }
   ],
   "source": [
    "cart = [\"apple\", \"banana\", \"rotten_orange\", \"milk\", \"rotten_cheese\", \"bread\"]\n",
    "\n",
    "for item in cart:\n",
    "    if \"rotten\" in item:\n",
    "        continue\n",
    "    else:\n",
    "        print(f\"Purchasing : {item}\")"
   ]
  },
  {
   "cell_type": "markdown",
   "id": "87c4b5b3-6e6d-4d00-ace7-54004c21fc56",
   "metadata": {},
   "source": [
    "#### List comprehension\n",
    "\n",
    "> Structure:\n",
    "```python\n",
    "[expression for item in iterable if condition]\n",
    "```"
   ]
  },
  {
   "cell_type": "markdown",
   "id": "af12b836-f5b8-4da8-b330-8522e7779fa0",
   "metadata": {},
   "source": [
    "Multiply all the numbers in a list by 2"
   ]
  },
  {
   "cell_type": "code",
   "execution_count": 21,
   "id": "f3cb07a9-3478-442a-9c46-0ca38cd724f0",
   "metadata": {},
   "outputs": [
    {
     "data": {
      "text/plain": [
       "[4, 10, 12, 18, 20]"
      ]
     },
     "execution_count": 21,
     "metadata": {},
     "output_type": "execute_result"
    }
   ],
   "source": [
    "num_list = [2, 5, 6, 9, 10]\n",
    "double_list = [num * 2 for num in num_list]\n",
    "double_list"
   ]
  },
  {
   "cell_type": "markdown",
   "id": "e179d811-2b14-43dd-bf02-5a9df3b47604",
   "metadata": {},
   "source": [
    "Given the list of numbers: data = [1, 2, 3, 4, 5, 6, 7, 8, 9, 10].\n",
    "\n",
    "Use a list comprehension to create a new list containing the square of only the even numbers from the original list.\n",
    "\n",
    "Expected Output: [4, 16, 36, 64, 100]"
   ]
  },
  {
   "cell_type": "code",
   "execution_count": 22,
   "id": "819940a5-79e0-409a-9797-e7025753c067",
   "metadata": {
    "jupyter": {
     "source_hidden": true
    }
   },
   "outputs": [
    {
     "data": {
      "text/plain": [
       "[4, 16, 36, 64, 100]"
      ]
     },
     "execution_count": 22,
     "metadata": {},
     "output_type": "execute_result"
    }
   ],
   "source": [
    "data = [1, 2, 3, 4, 5, 6, 7, 8, 9, 10]\n",
    "square_even = []\n",
    "\n",
    "for num in data:\n",
    "    if num % 2 == 0:\n",
    "        square_even.append(num ** 2)\n",
    "\n",
    "square_even\n",
    "\n",
    "square_even_list = [num ** 2 for num in data if num % 2 == 0]\n",
    "square_even_list"
   ]
  },
  {
   "cell_type": "markdown",
   "id": "523629fd-369a-4b31-af5b-f94e03f4be7f",
   "metadata": {},
   "source": [
    "#### Functions\n",
    "\n",
    "```python\n",
    "def function_name(input1, input2):\n",
    "    intstructions\n",
    "\n",
    "    return statement\n",
    "\n",
    "```"
   ]
  },
  {
   "cell_type": "markdown",
   "id": "eb396265-7e32-47a0-98d7-233422572952",
   "metadata": {},
   "source": [
    "Write a function that sums 2 numbers"
   ]
  },
  {
   "cell_type": "code",
   "execution_count": 23,
   "id": "7bef11cc-23c1-425c-b4c7-e333ffbeba32",
   "metadata": {},
   "outputs": [],
   "source": [
    "def sum_two(num1, num2):\n",
    "    return num1 + num2"
   ]
  },
  {
   "cell_type": "code",
   "execution_count": 24,
   "id": "d2cb6d8f-6cef-44f0-b637-2eb39569b372",
   "metadata": {},
   "outputs": [
    {
     "data": {
      "text/plain": [
       "14"
      ]
     },
     "execution_count": 24,
     "metadata": {},
     "output_type": "execute_result"
    }
   ],
   "source": [
    "sum_two(5, 3)\n",
    "sum_two(8, 6)"
   ]
  },
  {
   "cell_type": "markdown",
   "id": "ab05022f-d7a6-4f84-aff2-5a289430f2ca",
   "metadata": {},
   "source": [
    "Turn the grade conditional statement to a function"
   ]
  },
  {
   "cell_type": "code",
   "execution_count": 25,
   "id": "bb5fb25a-f42e-4f1b-b28b-05031842f749",
   "metadata": {},
   "outputs": [],
   "source": [
    "def get_grade(grade):\n",
    "    if grade < 60:\n",
    "        print (\"F\")\n",
    "    elif grade >= 60 and grade <= 69:\n",
    "        print(\"D\")\n",
    "    elif grade >= 70 and grade <= 79:\n",
    "        print(\"C\")\n",
    "    elif grade >= 80 and grade <= 89:\n",
    "        print(\"A\")\n",
    "    elif grade >= 90 and grade <= 100:\n",
    "        print(\"E\")\n",
    "    else:\n",
    "        print(\"Invalid grade\")\n"
   ]
  },
  {
   "cell_type": "code",
   "execution_count": 26,
   "id": "6d5e4234-978d-442a-8c4f-4ea797934e9a",
   "metadata": {},
   "outputs": [
    {
     "name": "stdout",
     "output_type": "stream",
     "text": [
      "D\n",
      "A\n"
     ]
    }
   ],
   "source": [
    "get_grade(67)\n",
    "get_grade(81)"
   ]
  },
  {
   "cell_type": "markdown",
   "id": "ffa22fcc-d5fc-404a-a9d8-1848d646b071",
   "metadata": {},
   "source": [
    "Write a function find_target that takes a list of numbers and a target number. It should search the list for the target. Use a break statement to exit the loop once the target is found, printing \"Target found!\". If the target is not found after 5 iterations (regardless of the list size), print \"Target not found within limit.\""
   ]
  },
  {
   "cell_type": "code",
   "execution_count": 27,
   "id": "f88d0e2b-5360-41e4-be80-6e1567e82ba2",
   "metadata": {},
   "outputs": [],
   "source": [
    "def find_target(numbers, target):\n",
    "    no_iterations = min(5, len(numbers))\n",
    "    target_found = False\n",
    "    for i in range(no_iterations):\n",
    "        if numbers[i] == target:\n",
    "            print(\"Target Found\")\n",
    "            target_found = True\n",
    "            break\n",
    "    if not target_found:\n",
    "        print(\"Target not found within limit\")\n",
    "    \n",
    "    "
   ]
  },
  {
   "cell_type": "code",
   "execution_count": 28,
   "id": "825e2b29-8aba-45f3-8ee2-1937a511e3b2",
   "metadata": {},
   "outputs": [
    {
     "name": "stdout",
     "output_type": "stream",
     "text": [
      "Target Found\n"
     ]
    }
   ],
   "source": [
    "numbers = [1,2,3, 4, 6, 11]\n",
    "find_target(numbers, 1)"
   ]
  },
  {
   "cell_type": "markdown",
   "id": "b1980341-9b5e-45eb-87ea-77081ca45e05",
   "metadata": {},
   "source": [
    "#### Positional and Keyword Arguments"
   ]
  },
  {
   "cell_type": "code",
   "execution_count": 29,
   "id": "55928efb-ba55-4287-9774-a84337ded560",
   "metadata": {},
   "outputs": [],
   "source": [
    "def divide_me(numerator, denominator = 2):\n",
    "    return numerator / denominator"
   ]
  },
  {
   "cell_type": "code",
   "execution_count": 30,
   "id": "5359b065-b33c-4833-b688-dbda4ea1daad",
   "metadata": {},
   "outputs": [
    {
     "data": {
      "text/plain": [
       "5.0"
      ]
     },
     "execution_count": 30,
     "metadata": {},
     "output_type": "execute_result"
    }
   ],
   "source": [
    "divide_me(10, 2)"
   ]
  },
  {
   "cell_type": "code",
   "execution_count": 31,
   "id": "1244ef1b-02a3-4b3d-a068-73823f52e14b",
   "metadata": {},
   "outputs": [
    {
     "data": {
      "text/plain": [
       "10.0"
      ]
     },
     "execution_count": 31,
     "metadata": {},
     "output_type": "execute_result"
    }
   ],
   "source": [
    "divide_me(20)"
   ]
  },
  {
   "cell_type": "code",
   "execution_count": 32,
   "id": "7c35d6bd-1697-4364-b5e9-9d5b5918fa2a",
   "metadata": {},
   "outputs": [
    {
     "data": {
      "text/plain": [
       "7.0"
      ]
     },
     "execution_count": 32,
     "metadata": {},
     "output_type": "execute_result"
    }
   ],
   "source": [
    "divide_me(denominator= 5, numerator = 35)"
   ]
  },
  {
   "cell_type": "code",
   "execution_count": 33,
   "id": "21f83461-ef55-4d9b-8e7b-6d316158550d",
   "metadata": {},
   "outputs": [],
   "source": [
    "def prepare_smoothie(base_fruit, mix_in):\n",
    "    print(f\"Blending a smoothie with a base of {base_fruit} and {mix_in} added.\")"
   ]
  },
  {
   "cell_type": "code",
   "execution_count": 34,
   "id": "c5a04764-18b9-4edd-ba2b-56873dead523",
   "metadata": {},
   "outputs": [
    {
     "name": "stdout",
     "output_type": "stream",
     "text": [
      "Blending a smoothie with a base of mango and banana added.\n"
     ]
    }
   ],
   "source": [
    "#positional\n",
    "prepare_smoothie(\"mango\", \"banana\")"
   ]
  },
  {
   "cell_type": "code",
   "execution_count": 35,
   "id": "697eb36f-c8ae-452f-8787-70bcf1ba13cd",
   "metadata": {},
   "outputs": [
    {
     "name": "stdout",
     "output_type": "stream",
     "text": [
      "Blending a smoothie with a base of blueberry and strawberry added.\n"
     ]
    }
   ],
   "source": [
    "prepare_smoothie(mix_in=\"strawberry\", base_fruit=\"blueberry\")"
   ]
  },
  {
   "cell_type": "markdown",
   "id": "f36d9fb0-84db-46c3-bbc0-085a58b3a816",
   "metadata": {},
   "source": [
    "### *args, **kwargs"
   ]
  },
  {
   "cell_type": "markdown",
   "id": "00655dad-111e-4be8-bd93-c9a365404d35",
   "metadata": {},
   "source": [
    "#### *args\n",
    "Are represented as tuples"
   ]
  },
  {
   "cell_type": "markdown",
   "id": "b920fb58-b92d-4652-941e-1d1dcaaefb2f",
   "metadata": {},
   "source": [
    "Sum all the numbers that are given to you\n"
   ]
  },
  {
   "cell_type": "code",
   "execution_count": 36,
   "id": "3e9dbd68-201c-4b7f-a448-ece13bf68724",
   "metadata": {},
   "outputs": [],
   "source": [
    "def sum_all(*numbers):\n",
    "    total = 0\n",
    "    for num in numbers:\n",
    "        total += num\n",
    "    return total"
   ]
  },
  {
   "cell_type": "code",
   "execution_count": 37,
   "id": "78e3afa7-e958-40fc-9b92-9c7a1dd86ec5",
   "metadata": {},
   "outputs": [
    {
     "data": {
      "text/plain": [
       "895"
      ]
     },
     "execution_count": 37,
     "metadata": {},
     "output_type": "execute_result"
    }
   ],
   "source": [
    "sum_all(10, 2, 3, 4, 8, 5,11, 852)"
   ]
  },
  {
   "cell_type": "code",
   "execution_count": 38,
   "id": "499d5bf5-d54a-432c-a02f-1942641585bb",
   "metadata": {},
   "outputs": [
    {
     "data": {
      "text/plain": [
       "4789"
      ]
     },
     "execution_count": 38,
     "metadata": {},
     "output_type": "execute_result"
    }
   ],
   "source": [
    "sum_all(10, 2, 3, 4, 8, 5,11, 85, 10, 674, 21, 3954, 2)"
   ]
  },
  {
   "cell_type": "code",
   "execution_count": 55,
   "id": "38d152cf-d515-475f-8d40-4c88eeb244a6",
   "metadata": {},
   "outputs": [
    {
     "ename": "TypeError",
     "evalue": "unsupported operand type(s) for +=: 'int' and 'list'",
     "output_type": "error",
     "traceback": [
      "\u001b[31m---------------------------------------------------------------------------\u001b[39m",
      "\u001b[31mTypeError\u001b[39m                                 Traceback (most recent call last)",
      "\u001b[36mCell\u001b[39m\u001b[36m \u001b[39m\u001b[32mIn[55]\u001b[39m\u001b[32m, line 2\u001b[39m\n\u001b[32m      1\u001b[39m \u001b[38;5;66;03m#if you use a list, it'll throw an error\u001b[39;00m\n\u001b[32m----> \u001b[39m\u001b[32m2\u001b[39m \u001b[43msum_all\u001b[49m\u001b[43m(\u001b[49m\u001b[43m[\u001b[49m\u001b[32;43m1\u001b[39;49m\u001b[43m,\u001b[49m\u001b[32;43m2\u001b[39;49m\u001b[43m,\u001b[49m\u001b[32;43m3\u001b[39;49m\u001b[43m,\u001b[49m\u001b[32;43m4\u001b[39;49m\u001b[43m,\u001b[49m\u001b[32;43m6\u001b[39;49m\u001b[43m]\u001b[49m\u001b[43m)\u001b[49m\n",
      "\u001b[36mCell\u001b[39m\u001b[36m \u001b[39m\u001b[32mIn[36]\u001b[39m\u001b[32m, line 4\u001b[39m, in \u001b[36msum_all\u001b[39m\u001b[34m(*numbers)\u001b[39m\n\u001b[32m      2\u001b[39m total = \u001b[32m0\u001b[39m\n\u001b[32m      3\u001b[39m \u001b[38;5;28;01mfor\u001b[39;00m num \u001b[38;5;129;01min\u001b[39;00m numbers:\n\u001b[32m----> \u001b[39m\u001b[32m4\u001b[39m     \u001b[43mtotal\u001b[49m\u001b[43m \u001b[49m\u001b[43m+\u001b[49m\u001b[43m=\u001b[49m\u001b[43m \u001b[49m\u001b[43mnum\u001b[49m\n\u001b[32m      5\u001b[39m \u001b[38;5;28;01mreturn\u001b[39;00m total\n",
      "\u001b[31mTypeError\u001b[39m: unsupported operand type(s) for +=: 'int' and 'list'"
     ]
    }
   ],
   "source": [
    "#if you use a list, it'll throw an error\n",
    "sum_all([1,2,3,4,6])"
   ]
  },
  {
   "cell_type": "markdown",
   "id": "b556d20a-83d4-4b35-8454-e4d0a8ee56fc",
   "metadata": {},
   "source": [
    "Define a function called filter_even_numbers that takes a list of integers as its first required argument, data_list, and then uses *args to accept any number of additional integers."
   ]
  },
  {
   "cell_type": "code",
   "execution_count": 39,
   "id": "ca1f249f-4633-4f4a-ad9a-432a36c71315",
   "metadata": {},
   "outputs": [],
   "source": [
    "def filter_even_numbers(data_list, *other_list):\n",
    "    full_list = data_list + list(other_list)\n",
    "    even_list = []\n",
    "    for num in full_list:\n",
    "        if num % 2 == 0:\n",
    "            even_list.append(num)\n",
    "\n",
    "    return even_list"
   ]
  },
  {
   "cell_type": "code",
   "execution_count": 40,
   "id": "ddbbf48e-d8ad-47c0-b18b-e47860dc0c55",
   "metadata": {},
   "outputs": [
    {
     "data": {
      "text/plain": [
       "[10, 12, 4, 20]"
      ]
     },
     "execution_count": 40,
     "metadata": {},
     "output_type": "execute_result"
    }
   ],
   "source": [
    "data = [10, 11, 12]\n",
    "filter_even_numbers(data, 1, 4, 7, 9, 20)"
   ]
  },
  {
   "cell_type": "markdown",
   "id": "0ccf201d-eb6f-45d9-a68e-b9986dea4691",
   "metadata": {},
   "source": [
    "Define a Python function named slice_for_salad that accepts at least one required argument, main_fruit (a string), and an arbitrary number of additional fruits using the *args syntax.\n",
    "\n",
    "The function should perform the following actions:\n",
    "\n",
    "1. Print a header indicating the main_fruit.\n",
    "\n",
    "2. If any additional fruits are provided via *extra_fruits, the function must join them into a single, comma-separated string and print a line indicating which extra fruits are being sliced.\n",
    "\n",
    "3. If no additional fruits are provided, the function should print a message stating that no extra fruits will be sliced."
   ]
  },
  {
   "cell_type": "code",
   "execution_count": 41,
   "id": "f849b49c-afd0-4bbc-b61e-10ed132a8d04",
   "metadata": {},
   "outputs": [],
   "source": [
    "def slice_for_salad(main_fruit, *fruits):\n",
    "    print(f\"The main fruit is {main_fruit}\")\n",
    "    if fruits:\n",
    "        print(f\"The extra fruits being sliced are: {\", \".join(fruits)}\")\n",
    "    else:\n",
    "        print(\"No extra fruits sliced\")"
   ]
  },
  {
   "cell_type": "code",
   "execution_count": 42,
   "id": "d13d015a-c569-4c85-8bee-9ce36582975e",
   "metadata": {},
   "outputs": [
    {
     "name": "stdout",
     "output_type": "stream",
     "text": [
      "The main fruit is Banana\n",
      "No extra fruits sliced\n"
     ]
    }
   ],
   "source": [
    "slice_for_salad(\"Banana\")"
   ]
  },
  {
   "cell_type": "code",
   "execution_count": 43,
   "id": "fb5290b1-0520-4e16-9202-d7b1cef4c8dc",
   "metadata": {},
   "outputs": [
    {
     "name": "stdout",
     "output_type": "stream",
     "text": [
      "The main fruit is Banana\n",
      "The extra fruits being sliced are: Kiwi, Apples, Pawpaw\n"
     ]
    }
   ],
   "source": [
    "slice_for_salad(\"Banana\", \"Kiwi\", \"Apples\", \"Pawpaw\")"
   ]
  },
  {
   "cell_type": "markdown",
   "id": "5def0676-e590-4d82-8760-2fa91f03b71d",
   "metadata": {},
   "source": [
    "#### **kwargs"
   ]
  },
  {
   "cell_type": "markdown",
   "id": "c6194b29-fe5b-4e7e-b0ec-177b782f8127",
   "metadata": {},
   "source": [
    "Function to display information of anything"
   ]
  },
  {
   "cell_type": "code",
   "execution_count": 44,
   "id": "b07b7f0e-e44e-4a92-afd1-0d3aadda791f",
   "metadata": {},
   "outputs": [],
   "source": [
    "def display_info(**details):\n",
    "    for key,value in details.items():\n",
    "        print(f\"{key}: {value}\")\n"
   ]
  },
  {
   "cell_type": "code",
   "execution_count": 45,
   "id": "59f12225-a3d0-46ff-946b-0d345040b5a5",
   "metadata": {},
   "outputs": [
    {
     "name": "stdout",
     "output_type": "stream",
     "text": [
      "name: Angela\n",
      "occupation: Data Analyst\n",
      "age: 26\n",
      "country: Nigeria\n"
     ]
    }
   ],
   "source": [
    "display_info(name=\"Angela\", occupation=\"Data Analyst\", age=26, country=\"Nigeria\")"
   ]
  },
  {
   "cell_type": "code",
   "execution_count": 46,
   "id": "56fb3003-601c-4444-a63b-8ab80cb01559",
   "metadata": {},
   "outputs": [
    {
     "name": "stdout",
     "output_type": "stream",
     "text": [
      "name: Nigeria\n",
      "continent: Africa\n",
      "population: 200 million\n",
      "tribes: ['Igbo', 'Hausa']\n"
     ]
    }
   ],
   "source": [
    "display_info(name=\"Nigeria\", continent=\"Africa\", population=\"200 million\", tribes=['Igbo', 'Hausa'])"
   ]
  },
  {
   "cell_type": "code",
   "execution_count": 57,
   "id": "482ceace-eef7-47fd-ad0a-4be77efa8ae1",
   "metadata": {},
   "outputs": [
    {
     "ename": "TypeError",
     "evalue": "display_info() takes 0 positional arguments but 1 was given",
     "output_type": "error",
     "traceback": [
      "\u001b[31m---------------------------------------------------------------------------\u001b[39m",
      "\u001b[31mTypeError\u001b[39m                                 Traceback (most recent call last)",
      "\u001b[36mCell\u001b[39m\u001b[36m \u001b[39m\u001b[32mIn[57]\u001b[39m\u001b[32m, line 2\u001b[39m\n\u001b[32m      1\u001b[39m \u001b[38;5;66;03m#it'll throw an error if you use a dictionary\u001b[39;00m\n\u001b[32m----> \u001b[39m\u001b[32m2\u001b[39m \u001b[43mdisplay_info\u001b[49m\u001b[43m(\u001b[49m\u001b[38;5;28;43mdict\u001b[39;49m\u001b[43m(\u001b[49m\u001b[43mname\u001b[49m\u001b[43m=\u001b[49m\u001b[33;43m\"\u001b[39;49m\u001b[33;43mNigeria\u001b[39;49m\u001b[33;43m\"\u001b[39;49m\u001b[43m,\u001b[49m\u001b[43m \u001b[49m\u001b[43mcontinent\u001b[49m\u001b[43m=\u001b[49m\u001b[33;43m\"\u001b[39;49m\u001b[33;43mAfrica\u001b[39;49m\u001b[33;43m\"\u001b[39;49m\u001b[43m,\u001b[49m\u001b[43m \u001b[49m\u001b[43mpopulation\u001b[49m\u001b[43m=\u001b[49m\u001b[33;43m\"\u001b[39;49m\u001b[33;43m200 million\u001b[39;49m\u001b[33;43m\"\u001b[39;49m\u001b[43m,\u001b[49m\u001b[43m \u001b[49m\u001b[43mtribes\u001b[49m\u001b[43m=\u001b[49m\u001b[43m[\u001b[49m\u001b[33;43m'\u001b[39;49m\u001b[33;43mIgbo\u001b[39;49m\u001b[33;43m'\u001b[39;49m\u001b[43m,\u001b[49m\u001b[43m \u001b[49m\u001b[33;43m'\u001b[39;49m\u001b[33;43mHausa\u001b[39;49m\u001b[33;43m'\u001b[39;49m\u001b[43m]\u001b[49m\u001b[43m)\u001b[49m\u001b[43m)\u001b[49m\n",
      "\u001b[31mTypeError\u001b[39m: display_info() takes 0 positional arguments but 1 was given"
     ]
    }
   ],
   "source": [
    "#it'll throw an error if you use a dictionary\n",
    "display_info(dict(name=\"Nigeria\", continent=\"Africa\", population=\"200 million\", tribes=['Igbo', 'Hausa']))"
   ]
  },
  {
   "cell_type": "markdown",
   "id": "0f3d535e-f8ac-4ec6-8857-c6914e0b1fc7",
   "metadata": {},
   "source": [
    "Define a Python function named ```season_food``` that accepts one required argument, ```main_item``` (a string), and an arbitrary number of additional named instructions using the **kwargs syntax.\n",
    "\n",
    "The function should perform the following actions:\n",
    "\n",
    "Print a header indicating the main_item being seasoned.\n",
    "\n",
    "The **kwargs will collect the additional arguments into a dictionary named instructions.\n",
    "\n",
    "If any instructions are present in instructions, the function must print a \"Special preparation notes:\" header, and then iterate through the dictionary. For each key-value pair, print an instruction in the format: - Use [Value] for [Key].\n",
    "\n",
    "If no additional instructions are provided, the function should print a message stating that the item is being \"Served plain.\"\n",
    "\n",
    "Input\n",
    "\n",
    "```season_food(\"Steak\", marinade=\"Soy Sauce\", rub=\"Garlic Powder\")\t```\n",
    "\n",
    "Expected Output\n",
    "\n",
    "Seasoning the main item: Steak \n",
    "\n",
    "Special preparation notes: \n",
    "- Use Soy Sauce for marinade.\n",
    "- Use Garlic Powder for rub.\n",
    "\n",
    "Input\n",
    "\n",
    "```season_food(\"Salad\", dressing=\"Vinaigrette\")\t```\n",
    "\n",
    "Expected Output\n",
    "\n",
    "Seasoning the main item: Salad \n",
    "\n",
    "Special preparation notes: \n",
    "- Use Vinaigrette for dressing.\n",
    "\n",
    "Input\n",
    "\n",
    "```season_food(\"Potato\")\t```\n",
    "\n",
    "Expected Output\n",
    "\n",
    "Seasoning the main item: Potato Served plain."
   ]
  },
  {
   "cell_type": "code",
   "execution_count": 47,
   "id": "cbfeed80-c7ab-4d6c-95b6-eae853973f6a",
   "metadata": {},
   "outputs": [],
   "source": [
    "def season_food(main_item, **seasonings):\n",
    "    print(f\"Seasoning the main food : {main_item}\")\n",
    "    if seasonings:\n",
    "        print(\"Special preparation notes: \")\n",
    "        for method, seasoning in seasonings.items():\n",
    "            print(f\"- Use {seasoning} for {method}\")\n",
    "    else:\n",
    "        print(\"Served plain\")\n",
    "            \n",
    "    "
   ]
  },
  {
   "cell_type": "code",
   "execution_count": 48,
   "id": "b3a6edce-0d4a-4e8a-ab80-bb6e933775a7",
   "metadata": {},
   "outputs": [
    {
     "name": "stdout",
     "output_type": "stream",
     "text": [
      "Seasoning the main food : Steak\n",
      "Special preparation notes: \n",
      "- Use Soy Sauce for marinade\n",
      "- Use Garlic Powder for rub\n"
     ]
    }
   ],
   "source": [
    "season_food(\"Steak\", marinade=\"Soy Sauce\", rub=\"Garlic Powder\")"
   ]
  },
  {
   "cell_type": "code",
   "execution_count": 49,
   "id": "22aad393-5da7-4a1b-aa72-6d7978f0787c",
   "metadata": {},
   "outputs": [
    {
     "name": "stdout",
     "output_type": "stream",
     "text": [
      "Seasoning the main food : Salad\n",
      "Special preparation notes: \n",
      "- Use Vinaigrette for dressing\n"
     ]
    }
   ],
   "source": [
    "season_food(\"Salad\", dressing=\"Vinaigrette\")\t"
   ]
  },
  {
   "cell_type": "code",
   "execution_count": 50,
   "id": "5a54538c-1326-4c16-8211-f31978fbfca0",
   "metadata": {},
   "outputs": [
    {
     "name": "stdout",
     "output_type": "stream",
     "text": [
      "Seasoning the main food : Potato\n",
      "Served plain\n"
     ]
    }
   ],
   "source": [
    "season_food(\"Potato\")"
   ]
  },
  {
   "cell_type": "markdown",
   "id": "bf25f703-f5d9-40f8-b510-beebb40213ca",
   "metadata": {},
   "source": [
    "Write a function named configure_server that accepts:\n",
    "\n",
    "1. A required positional argument: server_name (string).\n",
    "\n",
    "2. Any number of features to install: *args (strings).\n",
    "\n",
    "3. Any number of configuration settings: **kwargs (key-value pairs).\n",
    "\n",
    "The function must return a tuple containing the server_name and the total count of all features and settings combined.\n",
    "```\n",
    "result = configure_server(\"Web_01\", \"HTTP\", \"FTP\", timeout=30, user=\"admin\", debug=True)\n",
    "\n",
    "print(result)\n",
    "```\n",
    "##### Expected Output: ('Web_01', 5) \n",
    "##### (3 features + 2 settings = 5 total)"
   ]
  },
  {
   "cell_type": "code",
   "execution_count": 51,
   "id": "0a87df30-2f62-4ef1-a4aa-77321b83f386",
   "metadata": {},
   "outputs": [],
   "source": [
    "def configure_server(server_name, *settings, **features):\n",
    "    return (server_name, len(settings) + len(features))"
   ]
  },
  {
   "cell_type": "code",
   "execution_count": 52,
   "id": "31bf01e4-67a6-4931-a8d7-8ba220fe1532",
   "metadata": {},
   "outputs": [
    {
     "data": {
      "text/plain": [
       "('Web_01', 5)"
      ]
     },
     "execution_count": 52,
     "metadata": {},
     "output_type": "execute_result"
    }
   ],
   "source": [
    "configure_server(\"Web_01\", \"HTTP\", \"FTP\", timeout=30, user=\"admin\", debug=True)"
   ]
  },
  {
   "cell_type": "code",
   "execution_count": 58,
   "id": "c229adcc-d9f8-45c6-ad1b-959b3613b3bf",
   "metadata": {},
   "outputs": [
    {
     "ename": "SyntaxError",
     "evalue": "positional argument follows keyword argument (2250075572.py, line 2)",
     "output_type": "error",
     "traceback": [
      "  \u001b[36mCell\u001b[39m\u001b[36m \u001b[39m\u001b[32mIn[58]\u001b[39m\u001b[32m, line 2\u001b[39m\n\u001b[31m    \u001b[39m\u001b[31mconfigure_server(\"Web_01\", timeout=30, user=\"admin\", debug=True, \"HTTP\")\u001b[39m\n                                                                           ^\n\u001b[31mSyntaxError\u001b[39m\u001b[31m:\u001b[39m positional argument follows keyword argument\n"
     ]
    }
   ],
   "source": [
    "#positional arguments must come before keyword arguments\n",
    "configure_server(\"Web_01\", timeout=30, user=\"admin\", debug=True, \"HTTP\")"
   ]
  },
  {
   "cell_type": "code",
   "execution_count": null,
   "id": "b8718b3c-c78a-4c43-ba7b-ff8955b3a409",
   "metadata": {},
   "outputs": [],
   "source": []
  }
 ],
 "metadata": {
  "kernelspec": {
   "display_name": ".venv (3.13.9)",
   "language": "python",
   "name": "python3"
  },
  "language_info": {
   "codemirror_mode": {
    "name": "ipython",
    "version": 3
   },
   "file_extension": ".py",
   "mimetype": "text/x-python",
   "name": "python",
   "nbconvert_exporter": "python",
   "pygments_lexer": "ipython3",
   "version": "3.13.9"
  }
 },
 "nbformat": 4,
 "nbformat_minor": 5
}
