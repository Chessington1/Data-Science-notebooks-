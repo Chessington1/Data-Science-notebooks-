{
 "cells": [
  {
   "cell_type": "code",
   "execution_count": null,
   "id": "9acba221",
   "metadata": {},
   "outputs": [],
   "source": []
  },
  {
   "cell_type": "code",
   "execution_count": 1,
   "id": "7997887e",
   "metadata": {},
   "outputs": [
    {
     "name": "stdout",
     "output_type": "stream",
     "text": [
      "Sorted list: [11, 12, 22, 25, 34, 64, 90]\n"
     ]
    }
   ],
   "source": [
    "def bubble_sort(items):\n",
    "    \"\"\"Implementation of bubble sort.\"\"\"\n",
    "    for i in range(len(items)):\n",
    "        for j in range(len(items) - 1 - i):\n",
    "            if items[j] > items[j + 1]:\n",
    "                items[j], items[j + 1] = items[j + 1], items[j]\n",
    "    return items\n",
    "\n",
    "# Input list\n",
    "numbers = [64, 34, 25, 12, 22, 11, 90]\n",
    "\n",
    "# Call the function and store the result\n",
    "sorted_numbers = bubble_sort(numbers)\n",
    "\n",
    "# Print the result\n",
    "print(\"Sorted list:\", sorted_numbers)\n"
   ]
  },
  {
   "cell_type": "code",
   "execution_count": 23,
   "id": "6b03d948",
   "metadata": {},
   "outputs": [
    {
     "name": "stdout",
     "output_type": "stream",
     "text": [
      "[11, 12, 22, 25, 34, 64, 90]\n"
     ]
    }
   ],
   "source": [
    "\"\"\" Implementation of bubble sort.\"\"\"\n",
    "def bubble_sort(items):\n",
    "    for i in range(len(items)):\n",
    "        for j in range(len(items)-1-i):\n",
    "            if items[j] > items[j+1]:\n",
    "                items[j], items[j+1] = items[j+1], items[j]\n",
    "    return items\n",
    "\n",
    "print(bubble_sort([64, 34, 25, 12, 22, 11, 90]))"
   ]
  },
  {
   "cell_type": "code",
   "execution_count": 3,
   "id": "38a9bd44",
   "metadata": {},
   "outputs": [],
   "source": [
    "class BankAccount:\n",
    "    def __init__(self, balance):\n",
    "        self.balance = balance\n",
    "    def deposit(self, amount):\n",
    "        self.balance += amount"
   ]
  },
  {
   "cell_type": "code",
   "execution_count": 4,
   "id": "f6a5de2a",
   "metadata": {},
   "outputs": [
    {
     "name": "stdout",
     "output_type": "stream",
     "text": [
      "150\n"
     ]
    }
   ],
   "source": [
    "account = BankAccount(100)\n",
    "account.deposit(50)\n",
    "print(account.balance)"
   ]
  },
  {
   "cell_type": "code",
   "execution_count": 6,
   "id": "eb19e19e",
   "metadata": {},
   "outputs": [
    {
     "data": {
      "text/plain": [
       "'gnimmargorp'"
      ]
     },
     "execution_count": 6,
     "metadata": {},
     "output_type": "execute_result"
    }
   ],
   "source": [
    "def r(s):\n",
    "    if len(s) == 0:\n",
    "        return s\n",
    "    return r(s[1:]) + s[0]\n",
    "r(\"programming\")\n"
   ]
  },
  {
   "cell_type": "code",
   "execution_count": 7,
   "id": "dfb189f0",
   "metadata": {},
   "outputs": [
    {
     "name": "stdout",
     "output_type": "stream",
     "text": [
      "[5, 8, 10]\n"
     ]
    }
   ],
   "source": [
    "numbers = [-2, 5, -9, 8, -1, 10]\n",
    "result = filter(lambda x: x >= 0, numbers)\n",
    "print(list(result))\n",
    "\n"
   ]
  },
  {
   "cell_type": "code",
   "execution_count": 19,
   "id": "472e232b",
   "metadata": {},
   "outputs": [],
   "source": [
    "class Circle:\n",
    "    def __init__(self, radius) :\n",
    "        self.radius = radius\n",
    "\n",
    "    def circumference(self):\n",
    "        return 2 * 3.14159 * self.radius"
   ]
  },
  {
   "cell_type": "code",
   "execution_count": 20,
   "id": "c134b1f0",
   "metadata": {},
   "outputs": [
    {
     "name": "stdout",
     "output_type": "stream",
     "text": [
      "18.849539999999998\n"
     ]
    }
   ],
   "source": [
    "c = Circle(3)\n",
    "print(c.circumference())\n"
   ]
  },
  {
   "cell_type": "code",
   "execution_count": 21,
   "id": "b923dfea",
   "metadata": {},
   "outputs": [
    {
     "name": "stdout",
     "output_type": "stream",
     "text": [
      "Area: 12 Perimeter: 14\n"
     ]
    }
   ],
   "source": [
    "class Rectangle:\n",
    "    def __init__(self, width, height) :\n",
    "        self.width = width\n",
    "        self.height = height\n",
    "\n",
    "    def perimeter(self):\n",
    "        return 2 * (self.width + self.height)\n",
    "    \n",
    "    def area(self):\n",
    "        return self.width * self.height\n",
    "\n",
    "\n",
    "# Create a Rectangle object\n",
    "rect = Rectangle(3, 4)\n",
    "\n",
    "# Print the area and perimeter\n",
    "print(\"Area:\", rect.area(), \"Perimeter:\", rect.perimeter())\n",
    "\n",
    "\n"
   ]
  },
  {
   "cell_type": "code",
   "execution_count": 18,
   "id": "0d508c63",
   "metadata": {},
   "outputs": [
    {
     "name": "stdout",
     "output_type": "stream",
     "text": [
      "[1, 4, 9, 16, 25]\n"
     ]
    }
   ],
   "source": [
    "numbers = [1, 2, 3, 4, 5]\n",
    "result = map(lambda x: x**2, numbers)\n",
    "print(list(result))"
   ]
  },
  {
   "cell_type": "code",
   "execution_count": 22,
   "id": "ab81d8a5",
   "metadata": {},
   "outputs": [
    {
     "ename": "TypeError",
     "evalue": "unsupported operand type(s) for +: 'method' and 'method'",
     "output_type": "error",
     "traceback": [
      "\u001b[31m---------------------------------------------------------------------------\u001b[39m",
      "\u001b[31mTypeError\u001b[39m                                 Traceback (most recent call last)",
      "\u001b[36mCell\u001b[39m\u001b[36m \u001b[39m\u001b[32mIn[22]\u001b[39m\u001b[32m, line 22\u001b[39m\n\u001b[32m     20\u001b[39m circle = Circle(\u001b[32m3\u001b[39m)\n\u001b[32m     21\u001b[39m square = Square(\u001b[32m4\u001b[39m)\n\u001b[32m---> \u001b[39m\u001b[32m22\u001b[39m total_area = \u001b[43mcircle\u001b[49m\u001b[43m.\u001b[49m\u001b[43marea\u001b[49m\u001b[43m \u001b[49m\u001b[43m+\u001b[49m\u001b[43m \u001b[49m\u001b[43msquare\u001b[49m\u001b[43m.\u001b[49m\u001b[43marea\u001b[49m\n\u001b[32m     23\u001b[39m \u001b[38;5;28mprint\u001b[39m(\u001b[33m\"\u001b[39m\u001b[33mTotal Area:\u001b[39m\u001b[33m\"\u001b[39m, total_area)\n",
      "\u001b[31mTypeError\u001b[39m: unsupported operand type(s) for +: 'method' and 'method'"
     ]
    }
   ],
   "source": [
    "class Shape:\n",
    "    def __init__(self, name):\n",
    "        self.name = name\n",
    "\n",
    "class Circle(Shape):\n",
    "    def __init__(self, radius):\n",
    "        super().__init__(\"Circle\")\n",
    "        self.radius = radius\n",
    "\n",
    "    def area(self):\n",
    "        return 3.14 * self.radius * self.radius\n",
    "class Square(Shape):\n",
    "    def __init__(self, side):\n",
    "        super().__init__(\"Square\")\n",
    "        self.side = side\n",
    "\n",
    "    def area(self):\n",
    "        return self.side * self.side\n",
    "\n",
    "circle = Circle(3)\n",
    "square = Square(4)\n",
    "total_area = circle.area + square.area\n",
    "print(\"Total Area:\", total_area)"
   ]
  },
  {
   "cell_type": "code",
   "execution_count": null,
   "id": "9f39d92c",
   "metadata": {},
   "outputs": [],
   "source": []
  }
 ],
 "metadata": {
  "kernelspec": {
   "display_name": "Python_env",
   "language": "python",
   "name": "python3"
  },
  "language_info": {
   "codemirror_mode": {
    "name": "ipython",
    "version": 3
   },
   "file_extension": ".py",
   "mimetype": "text/x-python",
   "name": "python",
   "nbconvert_exporter": "python",
   "pygments_lexer": "ipython3",
   "version": "3.13.7"
  }
 },
 "nbformat": 4,
 "nbformat_minor": 5
}
