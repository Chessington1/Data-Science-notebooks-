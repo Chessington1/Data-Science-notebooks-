{
 "cells": [
  {
   "cell_type": "code",
   "execution_count": 1,
   "id": "8ae2d758-a023-4d47-8c61-23728fe0593a",
   "metadata": {},
   "outputs": [
    {
     "name": "stdout",
     "output_type": "stream",
     "text": [
      "Positive number\n"
     ]
    }
   ],
   "source": [
    "number= 5\n",
    "if number > 0:\n",
    "    print('Positive number')"
   ]
  },
  {
   "cell_type": "code",
   "execution_count": 3,
   "id": "a3a8da02-e629-4d4a-95a1-ed49aadf3af8",
   "metadata": {},
   "outputs": [
    {
     "name": "stdout",
     "output_type": "stream",
     "text": [
      "Negative number\n"
     ]
    }
   ],
   "source": [
    "number = -5\n",
    "if number > 0: \n",
    "    print ('Positive number')\n",
    "else: print('Negative number')"
   ]
  },
  {
   "cell_type": "code",
   "execution_count": 4,
   "id": "d155feba-4b6b-4adc-b395-4407c62179c8",
   "metadata": {},
   "outputs": [
    {
     "name": "stdout",
     "output_type": "stream",
     "text": [
      "Negative number\n"
     ]
    }
   ],
   "source": [
    "number = -5\n",
    "if number > 0: \n",
    "    print ('Positive number')\n",
    "elif number== 0 :\n",
    "    rint('Zero')\n",
    "else: print('Negative number')"
   ]
  },
  {
   "cell_type": "code",
   "execution_count": null,
   "id": "b81ec283-ef62-4f11-a0e5-4e49b295938b",
   "metadata": {},
   "outputs": [],
   "source": []
  }
 ],
 "metadata": {
  "kernelspec": {
   "display_name": "Python 3 (ipykernel)",
   "language": "python",
   "name": "python3"
  },
  "language_info": {
   "codemirror_mode": {
    "name": "ipython",
    "version": 3
   },
   "file_extension": ".py",
   "mimetype": "text/x-python",
   "name": "python",
   "nbconvert_exporter": "python",
   "pygments_lexer": "ipython3",
   "version": "3.13.7"
  }
 },
 "nbformat": 4,
 "nbformat_minor": 5
}
