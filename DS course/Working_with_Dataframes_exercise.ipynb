{
 "cells": [
  {
   "cell_type": "markdown",
   "metadata": {
    "id": "Ee-v8I_P8rfp"
   },
   "source": [
    "<div align=\"center\" style=\" font-size: 80%; text-align: center; margin: 0 auto\">\n",
    "<img src=\"https://raw.githubusercontent.com/Explore-AI/Pictures/master/Python-Notebook-Banners/Exercise.png\"  style=\"display: block; margin-left: auto; margin-right: auto;\";/>\n",
    "</div>\n",
    "\n",
    "# Exercise: Working with DataFrames\n",
    "\n",
    "\n",
    "In this exercise, we'll be exploring some ways in which we can manipulate the data stored within a Pandas DataFrame."
   ]
  },
  {
   "cell_type": "markdown",
   "metadata": {
    "id": "ITqrvAqq8xSC"
   },
   "source": [
    "## Learning objectives\n",
    "\n",
    "By the end of this train, you should be able to:\n",
    "* Sort, filter, and group a Pandas DataFrame.\n",
    "* Create and delete columns in a Pandas DataFrame.\n",
    "* Transform a Pandas DataFrame."
   ]
  },
  {
   "cell_type": "markdown",
   "metadata": {},
   "source": [
    "## Exercises"
   ]
  },
  {
   "cell_type": "markdown",
   "metadata": {},
   "source": [
    "### Import libraries and dataset"
   ]
  },
  {
   "cell_type": "code",
   "execution_count": 1,
   "metadata": {},
   "outputs": [],
   "source": [
    "import pandas as pd\n",
    "import numpy as np"
   ]
  },
  {
   "cell_type": "markdown",
   "metadata": {},
   "source": [
    "We are using a dataset named `Animals.csv` that stores information about a variety of animal species."
   ]
  },
  {
   "cell_type": "code",
   "execution_count": 4,
   "metadata": {},
   "outputs": [],
   "source": [
    "animal_df = pd.read_csv('https://raw.githubusercontent.com/Explore-AI/Public-Data/master/Data/Python/Animals.csv')\n",
    "df= animal_df"
   ]
  },
  {
   "cell_type": "code",
   "execution_count": 5,
   "metadata": {},
   "outputs": [
    {
     "data": {
      "application/vnd.microsoft.datawrangler.viewer.v0+json": {
       "columns": [
        {
         "name": "index",
         "rawType": "int64",
         "type": "integer"
        },
        {
         "name": "Species",
         "rawType": "object",
         "type": "string"
        },
        {
         "name": "Average Lifespan (Years)",
         "rawType": "int64",
         "type": "integer"
        },
        {
         "name": "Habitat",
         "rawType": "object",
         "type": "string"
        },
        {
         "name": "Conservation Status",
         "rawType": "object",
         "type": "string"
        }
       ],
       "ref": "80b6c584-abab-46dc-ac65-1179ab7907de",
       "rows": [
        [
         "0",
         "African Elephant",
         "60",
         "Grasslands",
         "Vulnerable"
        ],
        [
         "1",
         "Bengal Tiger",
         "15",
         "Forests",
         "Endangered"
        ],
        [
         "2",
         "Blue Whale",
         "80",
         "Ocean",
         "Endangered"
        ],
        [
         "3",
         "Giant Panda",
         "20",
         "Temperate Forest",
         "Vulnerable"
        ],
        [
         "4",
         "Komodo Dragon",
         "30",
         "Islands",
         "Vulnerable"
        ]
       ],
       "shape": {
        "columns": 4,
        "rows": 5
       }
      },
      "text/html": [
       "<div>\n",
       "<style scoped>\n",
       "    .dataframe tbody tr th:only-of-type {\n",
       "        vertical-align: middle;\n",
       "    }\n",
       "\n",
       "    .dataframe tbody tr th {\n",
       "        vertical-align: top;\n",
       "    }\n",
       "\n",
       "    .dataframe thead th {\n",
       "        text-align: right;\n",
       "    }\n",
       "</style>\n",
       "<table border=\"1\" class=\"dataframe\">\n",
       "  <thead>\n",
       "    <tr style=\"text-align: right;\">\n",
       "      <th></th>\n",
       "      <th>Species</th>\n",
       "      <th>Average Lifespan (Years)</th>\n",
       "      <th>Habitat</th>\n",
       "      <th>Conservation Status</th>\n",
       "    </tr>\n",
       "  </thead>\n",
       "  <tbody>\n",
       "    <tr>\n",
       "      <th>0</th>\n",
       "      <td>African Elephant</td>\n",
       "      <td>60</td>\n",
       "      <td>Grasslands</td>\n",
       "      <td>Vulnerable</td>\n",
       "    </tr>\n",
       "    <tr>\n",
       "      <th>1</th>\n",
       "      <td>Bengal Tiger</td>\n",
       "      <td>15</td>\n",
       "      <td>Forests</td>\n",
       "      <td>Endangered</td>\n",
       "    </tr>\n",
       "    <tr>\n",
       "      <th>2</th>\n",
       "      <td>Blue Whale</td>\n",
       "      <td>80</td>\n",
       "      <td>Ocean</td>\n",
       "      <td>Endangered</td>\n",
       "    </tr>\n",
       "    <tr>\n",
       "      <th>3</th>\n",
       "      <td>Giant Panda</td>\n",
       "      <td>20</td>\n",
       "      <td>Temperate Forest</td>\n",
       "      <td>Vulnerable</td>\n",
       "    </tr>\n",
       "    <tr>\n",
       "      <th>4</th>\n",
       "      <td>Komodo Dragon</td>\n",
       "      <td>30</td>\n",
       "      <td>Islands</td>\n",
       "      <td>Vulnerable</td>\n",
       "    </tr>\n",
       "  </tbody>\n",
       "</table>\n",
       "</div>"
      ],
      "text/plain": [
       "            Species  Average Lifespan (Years)           Habitat  \\\n",
       "0  African Elephant                        60        Grasslands   \n",
       "1      Bengal Tiger                        15           Forests   \n",
       "2        Blue Whale                        80             Ocean   \n",
       "3       Giant Panda                        20  Temperate Forest   \n",
       "4     Komodo Dragon                        30           Islands   \n",
       "\n",
       "  Conservation Status  \n",
       "0          Vulnerable  \n",
       "1          Endangered  \n",
       "2          Endangered  \n",
       "3          Vulnerable  \n",
       "4          Vulnerable  "
      ]
     },
     "execution_count": 5,
     "metadata": {},
     "output_type": "execute_result"
    }
   ],
   "source": [
    "df.head()"
   ]
  },
  {
   "cell_type": "markdown",
   "metadata": {},
   "source": [
    "### Exercise 1\n",
    "\n",
    "Filter the dataset to show only species that have an `Average Lifespan (Years)` **greater than 20** and are classified as `Vulnerable` in `Conservation Status`."
   ]
  },
  {
   "cell_type": "code",
   "execution_count": 6,
   "metadata": {},
   "outputs": [
    {
     "data": {
      "application/vnd.microsoft.datawrangler.viewer.v0+json": {
       "columns": [
        {
         "name": "index",
         "rawType": "int64",
         "type": "integer"
        },
        {
         "name": "Species",
         "rawType": "object",
         "type": "string"
        },
        {
         "name": "Average Lifespan (Years)",
         "rawType": "int64",
         "type": "integer"
        },
        {
         "name": "Habitat",
         "rawType": "object",
         "type": "string"
        },
        {
         "name": "Conservation Status",
         "rawType": "object",
         "type": "string"
        }
       ],
       "ref": "72070c00-975c-4f38-9c07-26f754d22c7a",
       "rows": [
        [
         "0",
         "African Elephant",
         "60",
         "Grasslands",
         "Vulnerable"
        ],
        [
         "4",
         "Komodo Dragon",
         "30",
         "Islands",
         "Vulnerable"
        ],
        [
         "5",
         "Polar Bear",
         "25",
         "Arctic",
         "Vulnerable"
        ]
       ],
       "shape": {
        "columns": 4,
        "rows": 3
       }
      },
      "text/html": [
       "<div>\n",
       "<style scoped>\n",
       "    .dataframe tbody tr th:only-of-type {\n",
       "        vertical-align: middle;\n",
       "    }\n",
       "\n",
       "    .dataframe tbody tr th {\n",
       "        vertical-align: top;\n",
       "    }\n",
       "\n",
       "    .dataframe thead th {\n",
       "        text-align: right;\n",
       "    }\n",
       "</style>\n",
       "<table border=\"1\" class=\"dataframe\">\n",
       "  <thead>\n",
       "    <tr style=\"text-align: right;\">\n",
       "      <th></th>\n",
       "      <th>Species</th>\n",
       "      <th>Average Lifespan (Years)</th>\n",
       "      <th>Habitat</th>\n",
       "      <th>Conservation Status</th>\n",
       "    </tr>\n",
       "  </thead>\n",
       "  <tbody>\n",
       "    <tr>\n",
       "      <th>0</th>\n",
       "      <td>African Elephant</td>\n",
       "      <td>60</td>\n",
       "      <td>Grasslands</td>\n",
       "      <td>Vulnerable</td>\n",
       "    </tr>\n",
       "    <tr>\n",
       "      <th>4</th>\n",
       "      <td>Komodo Dragon</td>\n",
       "      <td>30</td>\n",
       "      <td>Islands</td>\n",
       "      <td>Vulnerable</td>\n",
       "    </tr>\n",
       "    <tr>\n",
       "      <th>5</th>\n",
       "      <td>Polar Bear</td>\n",
       "      <td>25</td>\n",
       "      <td>Arctic</td>\n",
       "      <td>Vulnerable</td>\n",
       "    </tr>\n",
       "  </tbody>\n",
       "</table>\n",
       "</div>"
      ],
      "text/plain": [
       "            Species  Average Lifespan (Years)     Habitat Conservation Status\n",
       "0  African Elephant                        60  Grasslands          Vulnerable\n",
       "4     Komodo Dragon                        30     Islands          Vulnerable\n",
       "5        Polar Bear                        25      Arctic          Vulnerable"
      ]
     },
     "execution_count": 6,
     "metadata": {},
     "output_type": "execute_result"
    }
   ],
   "source": [
    "# Your solution here...\n",
    "df[(df['Average Lifespan (Years)'] > 20) & (df['Conservation Status']=='Vulnerable')]"
   ]
  },
  {
   "cell_type": "markdown",
   "metadata": {},
   "source": [
    "### Exercise 2\n",
    "\n",
    "**a)** Create a new column `Lifespan in Months` by converting the `Average Lifespan (Years)` to months.\n"
   ]
  },
  {
   "cell_type": "code",
   "execution_count": 7,
   "metadata": {},
   "outputs": [
    {
     "data": {
      "application/vnd.microsoft.datawrangler.viewer.v0+json": {
       "columns": [
        {
         "name": "index",
         "rawType": "int64",
         "type": "integer"
        },
        {
         "name": "Average Lifespan (Years)",
         "rawType": "int64",
         "type": "integer"
        }
       ],
       "ref": "6095fb74-bc2c-4e62-bb28-414ed15d89ae",
       "rows": [
        [
         "0",
         "720"
        ],
        [
         "1",
         "180"
        ],
        [
         "2",
         "960"
        ],
        [
         "3",
         "240"
        ],
        [
         "4",
         "360"
        ]
       ],
       "shape": {
        "columns": 1,
        "rows": 5
       }
      },
      "text/plain": [
       "0    720\n",
       "1    180\n",
       "2    960\n",
       "3    240\n",
       "4    360\n",
       "Name: Average Lifespan (Years), dtype: int64"
      ]
     },
     "execution_count": 7,
     "metadata": {},
     "output_type": "execute_result"
    }
   ],
   "source": [
    "# Your solution here...\n",
    "df['Average Lifespan (Years)'].apply(lambda x: x*12).head()"
   ]
  },
  {
   "cell_type": "markdown",
   "metadata": {},
   "source": [
    "**b)** Delete the `Lifespan in Months` column from the DataFrame."
   ]
  },
  {
   "cell_type": "code",
   "execution_count": 8,
   "metadata": {},
   "outputs": [
    {
     "data": {
      "application/vnd.microsoft.datawrangler.viewer.v0+json": {
       "columns": [
        {
         "name": "index",
         "rawType": "int64",
         "type": "integer"
        },
        {
         "name": "Species",
         "rawType": "object",
         "type": "string"
        },
        {
         "name": "Habitat",
         "rawType": "object",
         "type": "string"
        },
        {
         "name": "Conservation Status",
         "rawType": "object",
         "type": "string"
        }
       ],
       "ref": "847d0e53-2250-440c-95e0-2fa9349b5434",
       "rows": [
        [
         "0",
         "African Elephant",
         "Grasslands",
         "Vulnerable"
        ],
        [
         "1",
         "Bengal Tiger",
         "Forests",
         "Endangered"
        ],
        [
         "2",
         "Blue Whale",
         "Ocean",
         "Endangered"
        ],
        [
         "3",
         "Giant Panda",
         "Temperate Forest",
         "Vulnerable"
        ],
        [
         "4",
         "Komodo Dragon",
         "Islands",
         "Vulnerable"
        ]
       ],
       "shape": {
        "columns": 3,
        "rows": 5
       }
      },
      "text/html": [
       "<div>\n",
       "<style scoped>\n",
       "    .dataframe tbody tr th:only-of-type {\n",
       "        vertical-align: middle;\n",
       "    }\n",
       "\n",
       "    .dataframe tbody tr th {\n",
       "        vertical-align: top;\n",
       "    }\n",
       "\n",
       "    .dataframe thead th {\n",
       "        text-align: right;\n",
       "    }\n",
       "</style>\n",
       "<table border=\"1\" class=\"dataframe\">\n",
       "  <thead>\n",
       "    <tr style=\"text-align: right;\">\n",
       "      <th></th>\n",
       "      <th>Species</th>\n",
       "      <th>Habitat</th>\n",
       "      <th>Conservation Status</th>\n",
       "    </tr>\n",
       "  </thead>\n",
       "  <tbody>\n",
       "    <tr>\n",
       "      <th>0</th>\n",
       "      <td>African Elephant</td>\n",
       "      <td>Grasslands</td>\n",
       "      <td>Vulnerable</td>\n",
       "    </tr>\n",
       "    <tr>\n",
       "      <th>1</th>\n",
       "      <td>Bengal Tiger</td>\n",
       "      <td>Forests</td>\n",
       "      <td>Endangered</td>\n",
       "    </tr>\n",
       "    <tr>\n",
       "      <th>2</th>\n",
       "      <td>Blue Whale</td>\n",
       "      <td>Ocean</td>\n",
       "      <td>Endangered</td>\n",
       "    </tr>\n",
       "    <tr>\n",
       "      <th>3</th>\n",
       "      <td>Giant Panda</td>\n",
       "      <td>Temperate Forest</td>\n",
       "      <td>Vulnerable</td>\n",
       "    </tr>\n",
       "    <tr>\n",
       "      <th>4</th>\n",
       "      <td>Komodo Dragon</td>\n",
       "      <td>Islands</td>\n",
       "      <td>Vulnerable</td>\n",
       "    </tr>\n",
       "  </tbody>\n",
       "</table>\n",
       "</div>"
      ],
      "text/plain": [
       "            Species           Habitat Conservation Status\n",
       "0  African Elephant        Grasslands          Vulnerable\n",
       "1      Bengal Tiger           Forests          Endangered\n",
       "2        Blue Whale             Ocean          Endangered\n",
       "3       Giant Panda  Temperate Forest          Vulnerable\n",
       "4     Komodo Dragon           Islands          Vulnerable"
      ]
     },
     "execution_count": 8,
     "metadata": {},
     "output_type": "execute_result"
    }
   ],
   "source": [
    "# Your solution here...\n",
    "df = df.drop('Average Lifespan (Years)', axis=1)\n",
    "df.head()"
   ]
  },
  {
   "cell_type": "code",
   "execution_count": 11,
   "metadata": {},
   "outputs": [
    {
     "data": {
      "application/vnd.microsoft.datawrangler.viewer.v0+json": {
       "columns": [
        {
         "name": "index",
         "rawType": "int64",
         "type": "integer"
        },
        {
         "name": "Species",
         "rawType": "object",
         "type": "string"
        },
        {
         "name": "Average Lifespan (Years)",
         "rawType": "int64",
         "type": "integer"
        },
        {
         "name": "Habitat",
         "rawType": "object",
         "type": "string"
        },
        {
         "name": "Conservation Status",
         "rawType": "object",
         "type": "string"
        }
       ],
       "ref": "18775511-8a08-4a0b-9304-af764b6e9261",
       "rows": [
        [
         "0",
         "African Elephant",
         "60",
         "Grasslands",
         "Vulnerable"
        ],
        [
         "1",
         "Bengal Tiger",
         "15",
         "Forests",
         "Endangered"
        ],
        [
         "2",
         "Blue Whale",
         "80",
         "Ocean",
         "Endangered"
        ],
        [
         "3",
         "Giant Panda",
         "20",
         "Temperate Forest",
         "Vulnerable"
        ],
        [
         "4",
         "Komodo Dragon",
         "30",
         "Islands",
         "Vulnerable"
        ]
       ],
       "shape": {
        "columns": 4,
        "rows": 5
       }
      },
      "text/html": [
       "<div>\n",
       "<style scoped>\n",
       "    .dataframe tbody tr th:only-of-type {\n",
       "        vertical-align: middle;\n",
       "    }\n",
       "\n",
       "    .dataframe tbody tr th {\n",
       "        vertical-align: top;\n",
       "    }\n",
       "\n",
       "    .dataframe thead th {\n",
       "        text-align: right;\n",
       "    }\n",
       "</style>\n",
       "<table border=\"1\" class=\"dataframe\">\n",
       "  <thead>\n",
       "    <tr style=\"text-align: right;\">\n",
       "      <th></th>\n",
       "      <th>Species</th>\n",
       "      <th>Average Lifespan (Years)</th>\n",
       "      <th>Habitat</th>\n",
       "      <th>Conservation Status</th>\n",
       "    </tr>\n",
       "  </thead>\n",
       "  <tbody>\n",
       "    <tr>\n",
       "      <th>0</th>\n",
       "      <td>African Elephant</td>\n",
       "      <td>60</td>\n",
       "      <td>Grasslands</td>\n",
       "      <td>Vulnerable</td>\n",
       "    </tr>\n",
       "    <tr>\n",
       "      <th>1</th>\n",
       "      <td>Bengal Tiger</td>\n",
       "      <td>15</td>\n",
       "      <td>Forests</td>\n",
       "      <td>Endangered</td>\n",
       "    </tr>\n",
       "    <tr>\n",
       "      <th>2</th>\n",
       "      <td>Blue Whale</td>\n",
       "      <td>80</td>\n",
       "      <td>Ocean</td>\n",
       "      <td>Endangered</td>\n",
       "    </tr>\n",
       "    <tr>\n",
       "      <th>3</th>\n",
       "      <td>Giant Panda</td>\n",
       "      <td>20</td>\n",
       "      <td>Temperate Forest</td>\n",
       "      <td>Vulnerable</td>\n",
       "    </tr>\n",
       "    <tr>\n",
       "      <th>4</th>\n",
       "      <td>Komodo Dragon</td>\n",
       "      <td>30</td>\n",
       "      <td>Islands</td>\n",
       "      <td>Vulnerable</td>\n",
       "    </tr>\n",
       "  </tbody>\n",
       "</table>\n",
       "</div>"
      ],
      "text/plain": [
       "            Species  Average Lifespan (Years)           Habitat  \\\n",
       "0  African Elephant                        60        Grasslands   \n",
       "1      Bengal Tiger                        15           Forests   \n",
       "2        Blue Whale                        80             Ocean   \n",
       "3       Giant Panda                        20  Temperate Forest   \n",
       "4     Komodo Dragon                        30           Islands   \n",
       "\n",
       "  Conservation Status  \n",
       "0          Vulnerable  \n",
       "1          Endangered  \n",
       "2          Endangered  \n",
       "3          Vulnerable  \n",
       "4          Vulnerable  "
      ]
     },
     "execution_count": 11,
     "metadata": {},
     "output_type": "execute_result"
    }
   ],
   "source": [
    "animal_df = pd.read_csv('https://raw.githubusercontent.com/Explore-AI/Public-Data/master/Data/Python/Animals.csv')\n",
    "df = animal_df\n",
    "df.head()"
   ]
  },
  {
   "cell_type": "markdown",
   "metadata": {},
   "source": [
    "### Exercise 3\n",
    "\n",
    "**a)** Filter the DataFrame `animal_df` to include only species with an `Average Lifespan (Years)` **greater than 50 years**. Store the result in a new DataFrame `Long_lived_species`."
   ]
  },
  {
   "cell_type": "code",
   "execution_count": 20,
   "metadata": {},
   "outputs": [
    {
     "data": {
      "application/vnd.microsoft.datawrangler.viewer.v0+json": {
       "columns": [
        {
         "name": "index",
         "rawType": "int64",
         "type": "integer"
        },
        {
         "name": "Species",
         "rawType": "object",
         "type": "string"
        },
        {
         "name": "Average Lifespan (Years)",
         "rawType": "int64",
         "type": "integer"
        },
        {
         "name": "Habitat",
         "rawType": "object",
         "type": "string"
        },
        {
         "name": "Conservation Status",
         "rawType": "object",
         "type": "string"
        },
        {
         "name": "Long_lived_species",
         "rawType": "bool",
         "type": "boolean"
        }
       ],
       "ref": "57ffd3db-8ebe-44ab-b92a-513574711bf7",
       "rows": [
        [
         "0",
         "African Elephant",
         "60",
         "Grasslands",
         "Vulnerable",
         "True"
        ],
        [
         "1",
         "Bengal Tiger",
         "15",
         "Forests",
         "Endangered",
         "False"
        ],
        [
         "2",
         "Blue Whale",
         "80",
         "Ocean",
         "Endangered",
         "True"
        ],
        [
         "3",
         "Giant Panda",
         "20",
         "Temperate Forest",
         "Vulnerable",
         "False"
        ],
        [
         "4",
         "Komodo Dragon",
         "30",
         "Islands",
         "Vulnerable",
         "False"
        ]
       ],
       "shape": {
        "columns": 5,
        "rows": 5
       }
      },
      "text/html": [
       "<div>\n",
       "<style scoped>\n",
       "    .dataframe tbody tr th:only-of-type {\n",
       "        vertical-align: middle;\n",
       "    }\n",
       "\n",
       "    .dataframe tbody tr th {\n",
       "        vertical-align: top;\n",
       "    }\n",
       "\n",
       "    .dataframe thead th {\n",
       "        text-align: right;\n",
       "    }\n",
       "</style>\n",
       "<table border=\"1\" class=\"dataframe\">\n",
       "  <thead>\n",
       "    <tr style=\"text-align: right;\">\n",
       "      <th></th>\n",
       "      <th>Species</th>\n",
       "      <th>Average Lifespan (Years)</th>\n",
       "      <th>Habitat</th>\n",
       "      <th>Conservation Status</th>\n",
       "      <th>Long_lived_species</th>\n",
       "    </tr>\n",
       "  </thead>\n",
       "  <tbody>\n",
       "    <tr>\n",
       "      <th>0</th>\n",
       "      <td>African Elephant</td>\n",
       "      <td>60</td>\n",
       "      <td>Grasslands</td>\n",
       "      <td>Vulnerable</td>\n",
       "      <td>True</td>\n",
       "    </tr>\n",
       "    <tr>\n",
       "      <th>1</th>\n",
       "      <td>Bengal Tiger</td>\n",
       "      <td>15</td>\n",
       "      <td>Forests</td>\n",
       "      <td>Endangered</td>\n",
       "      <td>False</td>\n",
       "    </tr>\n",
       "    <tr>\n",
       "      <th>2</th>\n",
       "      <td>Blue Whale</td>\n",
       "      <td>80</td>\n",
       "      <td>Ocean</td>\n",
       "      <td>Endangered</td>\n",
       "      <td>True</td>\n",
       "    </tr>\n",
       "    <tr>\n",
       "      <th>3</th>\n",
       "      <td>Giant Panda</td>\n",
       "      <td>20</td>\n",
       "      <td>Temperate Forest</td>\n",
       "      <td>Vulnerable</td>\n",
       "      <td>False</td>\n",
       "    </tr>\n",
       "    <tr>\n",
       "      <th>4</th>\n",
       "      <td>Komodo Dragon</td>\n",
       "      <td>30</td>\n",
       "      <td>Islands</td>\n",
       "      <td>Vulnerable</td>\n",
       "      <td>False</td>\n",
       "    </tr>\n",
       "  </tbody>\n",
       "</table>\n",
       "</div>"
      ],
      "text/plain": [
       "            Species  Average Lifespan (Years)           Habitat  \\\n",
       "0  African Elephant                        60        Grasslands   \n",
       "1      Bengal Tiger                        15           Forests   \n",
       "2        Blue Whale                        80             Ocean   \n",
       "3       Giant Panda                        20  Temperate Forest   \n",
       "4     Komodo Dragon                        30           Islands   \n",
       "\n",
       "  Conservation Status  Long_lived_species  \n",
       "0          Vulnerable                True  \n",
       "1          Endangered               False  \n",
       "2          Endangered                True  \n",
       "3          Vulnerable               False  \n",
       "4          Vulnerable               False  "
      ]
     },
     "execution_count": 20,
     "metadata": {},
     "output_type": "execute_result"
    }
   ],
   "source": [
    "# Your solution here...\n",
    "df['Long_lived_species']= df['Average Lifespan (Years)']>50\n",
    "df.head()"
   ]
  },
  {
   "cell_type": "markdown",
   "metadata": {},
   "source": [
    "**b)** Using the `apply` and `lambda` functions, convert the `Average Lifespan (Years)` of all species into the float data type in `Long_lived_species`."
   ]
  },
  {
   "cell_type": "code",
   "execution_count": 21,
   "metadata": {},
   "outputs": [
    {
     "name": "stdout",
     "output_type": "stream",
     "text": [
      "<class 'pandas.core.frame.DataFrame'>\n",
      "RangeIndex: 15 entries, 0 to 14\n",
      "Data columns (total 5 columns):\n",
      " #   Column                    Non-Null Count  Dtype \n",
      "---  ------                    --------------  ----- \n",
      " 0   Species                   15 non-null     object\n",
      " 1   Average Lifespan (Years)  15 non-null     int64 \n",
      " 2   Habitat                   15 non-null     object\n",
      " 3   Conservation Status       15 non-null     object\n",
      " 4   Long_lived_species        15 non-null     bool  \n",
      "dtypes: bool(1), int64(1), object(3)\n",
      "memory usage: 627.0+ bytes\n"
     ]
    }
   ],
   "source": [
    "df.info()"
   ]
  },
  {
   "cell_type": "code",
   "execution_count": 23,
   "metadata": {},
   "outputs": [
    {
     "data": {
      "application/vnd.microsoft.datawrangler.viewer.v0+json": {
       "columns": [
        {
         "name": "index",
         "rawType": "int64",
         "type": "integer"
        },
        {
         "name": "Species",
         "rawType": "object",
         "type": "string"
        },
        {
         "name": "Average Lifespan (Years)",
         "rawType": "int64",
         "type": "integer"
        },
        {
         "name": "Habitat",
         "rawType": "object",
         "type": "string"
        },
        {
         "name": "Conservation Status",
         "rawType": "object",
         "type": "string"
        },
        {
         "name": "Long_lived_species",
         "rawType": "float64",
         "type": "float"
        }
       ],
       "ref": "6bf48f46-1e20-4c5a-9f9d-8f68ca61e6c2",
       "rows": [
        [
         "0",
         "African Elephant",
         "60",
         "Grasslands",
         "Vulnerable",
         "60.0"
        ],
        [
         "1",
         "Bengal Tiger",
         "15",
         "Forests",
         "Endangered",
         "15.0"
        ],
        [
         "2",
         "Blue Whale",
         "80",
         "Ocean",
         "Endangered",
         "80.0"
        ],
        [
         "3",
         "Giant Panda",
         "20",
         "Temperate Forest",
         "Vulnerable",
         "20.0"
        ],
        [
         "4",
         "Komodo Dragon",
         "30",
         "Islands",
         "Vulnerable",
         "30.0"
        ]
       ],
       "shape": {
        "columns": 5,
        "rows": 5
       }
      },
      "text/html": [
       "<div>\n",
       "<style scoped>\n",
       "    .dataframe tbody tr th:only-of-type {\n",
       "        vertical-align: middle;\n",
       "    }\n",
       "\n",
       "    .dataframe tbody tr th {\n",
       "        vertical-align: top;\n",
       "    }\n",
       "\n",
       "    .dataframe thead th {\n",
       "        text-align: right;\n",
       "    }\n",
       "</style>\n",
       "<table border=\"1\" class=\"dataframe\">\n",
       "  <thead>\n",
       "    <tr style=\"text-align: right;\">\n",
       "      <th></th>\n",
       "      <th>Species</th>\n",
       "      <th>Average Lifespan (Years)</th>\n",
       "      <th>Habitat</th>\n",
       "      <th>Conservation Status</th>\n",
       "      <th>Long_lived_species</th>\n",
       "    </tr>\n",
       "  </thead>\n",
       "  <tbody>\n",
       "    <tr>\n",
       "      <th>0</th>\n",
       "      <td>African Elephant</td>\n",
       "      <td>60</td>\n",
       "      <td>Grasslands</td>\n",
       "      <td>Vulnerable</td>\n",
       "      <td>60.0</td>\n",
       "    </tr>\n",
       "    <tr>\n",
       "      <th>1</th>\n",
       "      <td>Bengal Tiger</td>\n",
       "      <td>15</td>\n",
       "      <td>Forests</td>\n",
       "      <td>Endangered</td>\n",
       "      <td>15.0</td>\n",
       "    </tr>\n",
       "    <tr>\n",
       "      <th>2</th>\n",
       "      <td>Blue Whale</td>\n",
       "      <td>80</td>\n",
       "      <td>Ocean</td>\n",
       "      <td>Endangered</td>\n",
       "      <td>80.0</td>\n",
       "    </tr>\n",
       "    <tr>\n",
       "      <th>3</th>\n",
       "      <td>Giant Panda</td>\n",
       "      <td>20</td>\n",
       "      <td>Temperate Forest</td>\n",
       "      <td>Vulnerable</td>\n",
       "      <td>20.0</td>\n",
       "    </tr>\n",
       "    <tr>\n",
       "      <th>4</th>\n",
       "      <td>Komodo Dragon</td>\n",
       "      <td>30</td>\n",
       "      <td>Islands</td>\n",
       "      <td>Vulnerable</td>\n",
       "      <td>30.0</td>\n",
       "    </tr>\n",
       "  </tbody>\n",
       "</table>\n",
       "</div>"
      ],
      "text/plain": [
       "            Species  Average Lifespan (Years)           Habitat  \\\n",
       "0  African Elephant                        60        Grasslands   \n",
       "1      Bengal Tiger                        15           Forests   \n",
       "2        Blue Whale                        80             Ocean   \n",
       "3       Giant Panda                        20  Temperate Forest   \n",
       "4     Komodo Dragon                        30           Islands   \n",
       "\n",
       "  Conservation Status  Long_lived_species  \n",
       "0          Vulnerable                60.0  \n",
       "1          Endangered                15.0  \n",
       "2          Endangered                80.0  \n",
       "3          Vulnerable                20.0  \n",
       "4          Vulnerable                30.0  "
      ]
     },
     "execution_count": 23,
     "metadata": {},
     "output_type": "execute_result"
    }
   ],
   "source": [
    "# Your solution here...\n",
    "df['Long_lived_species'] = df['Average Lifespan (Years)'].apply(lambda x: float(x))\n",
    "df.head()\n",
    "\n"
   ]
  },
  {
   "cell_type": "markdown",
   "metadata": {},
   "source": [
    "### Exercise 4\n",
    "\n",
    "List all columns for species that have the string \"`Endangered`\" as part of their conservation status."
   ]
  },
  {
   "cell_type": "code",
   "execution_count": 25,
   "metadata": {},
   "outputs": [
    {
     "data": {
      "application/vnd.microsoft.datawrangler.viewer.v0+json": {
       "columns": [
        {
         "name": "index",
         "rawType": "int64",
         "type": "integer"
        },
        {
         "name": "Species",
         "rawType": "object",
         "type": "string"
        },
        {
         "name": "Average Lifespan (Years)",
         "rawType": "int64",
         "type": "integer"
        },
        {
         "name": "Habitat",
         "rawType": "object",
         "type": "string"
        },
        {
         "name": "Conservation Status",
         "rawType": "object",
         "type": "string"
        },
        {
         "name": "Long_lived_species",
         "rawType": "float64",
         "type": "float"
        }
       ],
       "ref": "e9731694-19f9-40ad-9006-cdfce5b8aff6",
       "rows": [
        [
         "1",
         "Bengal Tiger",
         "15",
         "Forests",
         "Endangered",
         "15.0"
        ],
        [
         "2",
         "Blue Whale",
         "80",
         "Ocean",
         "Endangered",
         "80.0"
        ],
        [
         "13",
         "Green Sea Turtle",
         "80",
         "Oceans, Beaches",
         "Endangered",
         "80.0"
        ]
       ],
       "shape": {
        "columns": 5,
        "rows": 3
       }
      },
      "text/html": [
       "<div>\n",
       "<style scoped>\n",
       "    .dataframe tbody tr th:only-of-type {\n",
       "        vertical-align: middle;\n",
       "    }\n",
       "\n",
       "    .dataframe tbody tr th {\n",
       "        vertical-align: top;\n",
       "    }\n",
       "\n",
       "    .dataframe thead th {\n",
       "        text-align: right;\n",
       "    }\n",
       "</style>\n",
       "<table border=\"1\" class=\"dataframe\">\n",
       "  <thead>\n",
       "    <tr style=\"text-align: right;\">\n",
       "      <th></th>\n",
       "      <th>Species</th>\n",
       "      <th>Average Lifespan (Years)</th>\n",
       "      <th>Habitat</th>\n",
       "      <th>Conservation Status</th>\n",
       "      <th>Long_lived_species</th>\n",
       "    </tr>\n",
       "  </thead>\n",
       "  <tbody>\n",
       "    <tr>\n",
       "      <th>1</th>\n",
       "      <td>Bengal Tiger</td>\n",
       "      <td>15</td>\n",
       "      <td>Forests</td>\n",
       "      <td>Endangered</td>\n",
       "      <td>15.0</td>\n",
       "    </tr>\n",
       "    <tr>\n",
       "      <th>2</th>\n",
       "      <td>Blue Whale</td>\n",
       "      <td>80</td>\n",
       "      <td>Ocean</td>\n",
       "      <td>Endangered</td>\n",
       "      <td>80.0</td>\n",
       "    </tr>\n",
       "    <tr>\n",
       "      <th>13</th>\n",
       "      <td>Green Sea Turtle</td>\n",
       "      <td>80</td>\n",
       "      <td>Oceans, Beaches</td>\n",
       "      <td>Endangered</td>\n",
       "      <td>80.0</td>\n",
       "    </tr>\n",
       "  </tbody>\n",
       "</table>\n",
       "</div>"
      ],
      "text/plain": [
       "             Species  Average Lifespan (Years)          Habitat  \\\n",
       "1       Bengal Tiger                        15          Forests   \n",
       "2         Blue Whale                        80            Ocean   \n",
       "13  Green Sea Turtle                        80  Oceans, Beaches   \n",
       "\n",
       "   Conservation Status  Long_lived_species  \n",
       "1           Endangered                15.0  \n",
       "2           Endangered                80.0  \n",
       "13          Endangered                80.0  "
      ]
     },
     "execution_count": 25,
     "metadata": {},
     "output_type": "execute_result"
    }
   ],
   "source": [
    "# Your solution here...\n",
    "df[df['Conservation Status']=='Endangered']"
   ]
  },
  {
   "cell_type": "markdown",
   "metadata": {},
   "source": [
    "### Exercise 5\n",
    "\n",
    "List the mean `Average Lifespan (Years)` of species for each `Habitat` in descending order."
   ]
  },
  {
   "cell_type": "code",
   "execution_count": 30,
   "metadata": {},
   "outputs": [
    {
     "data": {
      "application/vnd.microsoft.datawrangler.viewer.v0+json": {
       "columns": [
        {
         "name": "Habitat",
         "rawType": "object",
         "type": "string"
        },
        {
         "name": "Average Lifespan (Years)",
         "rawType": "float64",
         "type": "float"
        }
       ],
       "ref": "f733c114-abb1-4543-9952-a56de898987d",
       "rows": [
        [
         "Ocean",
         "80.0"
        ],
        [
         "Oceans, Beaches",
         "80.0"
        ],
        [
         "Grasslands",
         "60.0"
        ],
        [
         "Rainforests",
         "35.0"
        ],
        [
         "Islands",
         "30.0"
        ],
        [
         "Arctic",
         "25.0"
        ],
        [
         "Antarctic",
         "20.0"
        ],
        [
         "Forests, Seacoasts",
         "20.0"
        ],
        [
         "Temperate Forest",
         "20.0"
        ],
        [
         "Forests",
         "15.0"
        ],
        [
         "Mountain Ranges",
         "15.0"
        ],
        [
         "Savanna",
         "14.0"
        ],
        [
         "Eucalyptus Forests",
         "13.0"
        ],
        [
         "Forests, Tundra",
         "8.0"
        ],
        [
         "Various",
         "5.0"
        ]
       ],
       "shape": {
        "columns": 1,
        "rows": 15
       }
      },
      "text/plain": [
       "Habitat\n",
       "Ocean                 80.0\n",
       "Oceans, Beaches       80.0\n",
       "Grasslands            60.0\n",
       "Rainforests           35.0\n",
       "Islands               30.0\n",
       "Arctic                25.0\n",
       "Antarctic             20.0\n",
       "Forests, Seacoasts    20.0\n",
       "Temperate Forest      20.0\n",
       "Forests               15.0\n",
       "Mountain Ranges       15.0\n",
       "Savanna               14.0\n",
       "Eucalyptus Forests    13.0\n",
       "Forests, Tundra        8.0\n",
       "Various                5.0\n",
       "Name: Average Lifespan (Years), dtype: float64"
      ]
     },
     "execution_count": 30,
     "metadata": {},
     "output_type": "execute_result"
    }
   ],
   "source": [
    "# Your solution here...\n",
    "df.groupby('Habitat')['Average Lifespan (Years)'].mean().sort_values(ascending=False)\n",
    "\n"
   ]
  },
  {
   "cell_type": "markdown",
   "metadata": {},
   "source": [
    "### Exercise 6\n",
    "\n",
    "Create a column `Threat Level` that categorises species into `High`, `Medium`, or `Low` based on their `Conservation Status`: \n",
    "- **High** for `Critically Endangered` and `Endangered` \n",
    "- **Medium** for `Vulnerable` and `Near Threatened`\n",
    "- **Low** for `Least Concern`"
   ]
  },
  {
   "cell_type": "code",
   "execution_count": 31,
   "metadata": {},
   "outputs": [
    {
     "data": {
      "application/vnd.microsoft.datawrangler.viewer.v0+json": {
       "columns": [
        {
         "name": "index",
         "rawType": "int64",
         "type": "integer"
        },
        {
         "name": "Species",
         "rawType": "object",
         "type": "string"
        },
        {
         "name": "Average Lifespan (Years)",
         "rawType": "int64",
         "type": "integer"
        },
        {
         "name": "Habitat",
         "rawType": "object",
         "type": "string"
        },
        {
         "name": "Conservation Status",
         "rawType": "object",
         "type": "string"
        },
        {
         "name": "Long_lived_species",
         "rawType": "float64",
         "type": "float"
        },
        {
         "name": "Threat Level",
         "rawType": "object",
         "type": "string"
        }
       ],
       "ref": "cb0e7690-d554-4d11-9896-39098e89965d",
       "rows": [
        [
         "0",
         "African Elephant",
         "60",
         "Grasslands",
         "Vulnerable",
         "60.0",
         "Medium"
        ],
        [
         "1",
         "Bengal Tiger",
         "15",
         "Forests",
         "Endangered",
         "15.0",
         "High"
        ],
        [
         "2",
         "Blue Whale",
         "80",
         "Ocean",
         "Endangered",
         "80.0",
         "High"
        ],
        [
         "3",
         "Giant Panda",
         "20",
         "Temperate Forest",
         "Vulnerable",
         "20.0",
         "Medium"
        ],
        [
         "4",
         "Komodo Dragon",
         "30",
         "Islands",
         "Vulnerable",
         "30.0",
         "Medium"
        ]
       ],
       "shape": {
        "columns": 6,
        "rows": 5
       }
      },
      "text/html": [
       "<div>\n",
       "<style scoped>\n",
       "    .dataframe tbody tr th:only-of-type {\n",
       "        vertical-align: middle;\n",
       "    }\n",
       "\n",
       "    .dataframe tbody tr th {\n",
       "        vertical-align: top;\n",
       "    }\n",
       "\n",
       "    .dataframe thead th {\n",
       "        text-align: right;\n",
       "    }\n",
       "</style>\n",
       "<table border=\"1\" class=\"dataframe\">\n",
       "  <thead>\n",
       "    <tr style=\"text-align: right;\">\n",
       "      <th></th>\n",
       "      <th>Species</th>\n",
       "      <th>Average Lifespan (Years)</th>\n",
       "      <th>Habitat</th>\n",
       "      <th>Conservation Status</th>\n",
       "      <th>Long_lived_species</th>\n",
       "      <th>Threat Level</th>\n",
       "    </tr>\n",
       "  </thead>\n",
       "  <tbody>\n",
       "    <tr>\n",
       "      <th>0</th>\n",
       "      <td>African Elephant</td>\n",
       "      <td>60</td>\n",
       "      <td>Grasslands</td>\n",
       "      <td>Vulnerable</td>\n",
       "      <td>60.0</td>\n",
       "      <td>Medium</td>\n",
       "    </tr>\n",
       "    <tr>\n",
       "      <th>1</th>\n",
       "      <td>Bengal Tiger</td>\n",
       "      <td>15</td>\n",
       "      <td>Forests</td>\n",
       "      <td>Endangered</td>\n",
       "      <td>15.0</td>\n",
       "      <td>High</td>\n",
       "    </tr>\n",
       "    <tr>\n",
       "      <th>2</th>\n",
       "      <td>Blue Whale</td>\n",
       "      <td>80</td>\n",
       "      <td>Ocean</td>\n",
       "      <td>Endangered</td>\n",
       "      <td>80.0</td>\n",
       "      <td>High</td>\n",
       "    </tr>\n",
       "    <tr>\n",
       "      <th>3</th>\n",
       "      <td>Giant Panda</td>\n",
       "      <td>20</td>\n",
       "      <td>Temperate Forest</td>\n",
       "      <td>Vulnerable</td>\n",
       "      <td>20.0</td>\n",
       "      <td>Medium</td>\n",
       "    </tr>\n",
       "    <tr>\n",
       "      <th>4</th>\n",
       "      <td>Komodo Dragon</td>\n",
       "      <td>30</td>\n",
       "      <td>Islands</td>\n",
       "      <td>Vulnerable</td>\n",
       "      <td>30.0</td>\n",
       "      <td>Medium</td>\n",
       "    </tr>\n",
       "  </tbody>\n",
       "</table>\n",
       "</div>"
      ],
      "text/plain": [
       "            Species  Average Lifespan (Years)           Habitat  \\\n",
       "0  African Elephant                        60        Grasslands   \n",
       "1      Bengal Tiger                        15           Forests   \n",
       "2        Blue Whale                        80             Ocean   \n",
       "3       Giant Panda                        20  Temperate Forest   \n",
       "4     Komodo Dragon                        30           Islands   \n",
       "\n",
       "  Conservation Status  Long_lived_species Threat Level  \n",
       "0          Vulnerable                60.0       Medium  \n",
       "1          Endangered                15.0         High  \n",
       "2          Endangered                80.0         High  \n",
       "3          Vulnerable                20.0       Medium  \n",
       "4          Vulnerable                30.0       Medium  "
      ]
     },
     "execution_count": 31,
     "metadata": {},
     "output_type": "execute_result"
    }
   ],
   "source": [
    "# Your solution here...\n",
    "df['Threat Level'] = df['Conservation Status'].apply(\n",
    "    lambda x: 'High' if x in ['Critically Endangered', 'Endangered']\n",
    "    else 'Medium' if x in ['Vulnerable', 'Near Threatened']\n",
    "    else 'Low'\n",
    ")\n",
    "df.head()"
   ]
  },
  {
   "cell_type": "markdown",
   "metadata": {},
   "source": [
    "## Solutions"
   ]
  },
  {
   "cell_type": "markdown",
   "metadata": {},
   "source": [
    "### Exercise 1"
   ]
  },
  {
   "cell_type": "code",
   "execution_count": null,
   "metadata": {},
   "outputs": [],
   "source": [
    "# Filter the DataFrame based on two conditions\n",
    "filtered_df = animal_df[(animal_df['Average Lifespan (Years)'] > 20) & (animal_df['Conservation Status'] == 'Vulnerable')]\n",
    "\n",
    "# Display the filtered DataFrame\n",
    "filtered_df"
   ]
  },
  {
   "cell_type": "markdown",
   "metadata": {},
   "source": [
    "We filter our DataFrame based on two conditions that are combined using the `&` operator:\n",
    "- The first part of the condition, `(animal_df['Average Lifespan (Years)'] > 20)`, selects rows where the average lifespan is over 20 years.\n",
    "- The second part, `(animal_df['Conservation Status'] == 'Vulnerable')`, selects rows where the conservation status is equal to 'Vulnerable'."
   ]
  },
  {
   "cell_type": "markdown",
   "metadata": {},
   "source": [
    "### Exercise 2"
   ]
  },
  {
   "cell_type": "markdown",
   "metadata": {},
   "source": [
    "**a)**"
   ]
  },
  {
   "cell_type": "code",
   "execution_count": null,
   "metadata": {},
   "outputs": [],
   "source": [
    "# Creating 'Lifespan in Months'\n",
    "animal_df['Lifespan in Months'] = animal_df['Average Lifespan (Years)'] * 12\n",
    "animal_df"
   ]
  },
  {
   "cell_type": "markdown",
   "metadata": {},
   "source": [
    "We add a new column named `Lifespan in Months` calculated by multiplying each value in `Average Lifespan (Years)` by 12 to convert from years to months."
   ]
  },
  {
   "cell_type": "markdown",
   "metadata": {},
   "source": [
    "**b)**"
   ]
  },
  {
   "cell_type": "code",
   "execution_count": null,
   "metadata": {},
   "outputs": [],
   "source": [
    "# Deleting 'Lifespan in Months'\n",
    "animal_df.drop('Lifespan in Months', axis=1, inplace=True)\n",
    "animal_df"
   ]
  },
  {
   "cell_type": "markdown",
   "metadata": {},
   "source": [
    "We remove the newly created `Lifespan in Months` from the DataFrame using the `drop` method. `axis=1` indicates the deletion of a column while `inplace=True` is used to ensure that the change is applied directly to `animal_df`."
   ]
  },
  {
   "cell_type": "markdown",
   "metadata": {},
   "source": [
    "### Exercise 3"
   ]
  },
  {
   "cell_type": "markdown",
   "metadata": {},
   "source": [
    "**a)**"
   ]
  },
  {
   "cell_type": "code",
   "execution_count": null,
   "metadata": {},
   "outputs": [],
   "source": [
    "# Filtering to find long-lived species whose 'Average Lifespan (Years)' is greater than 50 years.\n",
    "Long_lived_species = animal_df[animal_df['Average Lifespan (Years)'] > 50]\n",
    "\n",
    "# Display the filtered DataFrame\n",
    "Long_lived_species"
   ]
  },
  {
   "cell_type": "markdown",
   "metadata": {},
   "source": [
    "**b)**"
   ]
  },
  {
   "cell_type": "code",
   "execution_count": null,
   "metadata": {},
   "outputs": [],
   "source": [
    "# Transform the Average Lifespan (Years) column to the floats\n",
    "Long_lived_species['Average Lifespan (Years)'] = Long_lived_species['Average Lifespan (Years)'].apply(lambda x: float(x))\n",
    "\n",
    "# Display the updated DataFrame \n",
    "Long_lived_species"
   ]
  },
  {
   "cell_type": "markdown",
   "metadata": {},
   "source": [
    "We use a **lambda** function to **apply** the operation of converting to float across all values in the `Average Lifespan (Years)` column in the `Long_lived_species` DataFrame."
   ]
  },
  {
   "cell_type": "markdown",
   "metadata": {},
   "source": [
    "### Exercise 4"
   ]
  },
  {
   "cell_type": "code",
   "execution_count": null,
   "metadata": {},
   "outputs": [],
   "source": [
    "# Filtering to find species with 'Endangered' in their conservation status\n",
    "Endangered_species = animal_df[animal_df['Conservation Status'].str.contains('Endangered')]\n",
    "\n",
    "# Display the filtered DataFrame\n",
    "Endangered_species"
   ]
  },
  {
   "cell_type": "markdown",
   "metadata": {},
   "source": [
    "We use the method `.str.contains('Endangered')` to identify species whose `Conservation Status` contains the substring `Endangered`. \n",
    "The result is stored in a new DataFrame, `Endangered_species`."
   ]
  },
  {
   "cell_type": "markdown",
   "metadata": {},
   "source": [
    "### Exercise 5"
   ]
  },
  {
   "cell_type": "code",
   "execution_count": null,
   "metadata": {},
   "outputs": [],
   "source": [
    "Mean_lifespan_by_habitat = animal_df.groupby('Habitat')['Average Lifespan (Years)'].mean().sort_values(ascending=False)\n",
    "\n",
    "Mean_lifespan_by_habitat"
   ]
  },
  {
   "cell_type": "markdown",
   "metadata": {},
   "source": [
    "The `groupby('Habitat')` groups the data in the DataFrame `animal_df`, where each group corresponds to a unique habitat.\n",
    "\n",
    "Within each group, the `.mean()` method is applied to find the average lifespan of species within that habitat.\n",
    "\n",
    "The `sort_values(ascending=False)` method then sorts these average values in descending order. "
   ]
  },
  {
   "cell_type": "markdown",
   "metadata": {},
   "source": [
    "### Exercise 6"
   ]
  },
  {
   "cell_type": "code",
   "execution_count": null,
   "metadata": {},
   "outputs": [],
   "source": [
    "# Function to categorise species based on their conservation status.\n",
    "def categorise_threat(status):\n",
    "    if status in ['Critically Endangered', 'Endangered']:\n",
    "        return 'High'\n",
    "    elif status in ['Vulnerable', 'Near Threatened']:\n",
    "        return 'Medium'\n",
    "    else:\n",
    "        return 'Low'\n",
    "# Apply the 'categorise_threat' function to the 'Conservation Status' column\n",
    "animal_df['Threat Level'] = animal_df['Conservation Status'].apply(categorise_threat)\n",
    "\n",
    "animal_df"
   ]
  },
  {
   "cell_type": "markdown",
   "metadata": {},
   "source": [
    "We define the `categorise_threat` function which uses conditional statements to categorise species based on their conservation status.\n",
    "\n",
    "We then use the `apply` method to apply the function to each row in the `Conservation Status` column.\n",
    "\n",
    "The results are stored in a new column, `Threat Level`."
   ]
  },
  {
   "cell_type": "markdown",
   "metadata": {},
   "source": [
    "<div align=\"center\" style=\" font-size: 80%; text-align: center; margin: 0 auto\">\n",
    "<img src=\"https://raw.githubusercontent.com/Explore-AI/Pictures/refs/heads/master/ALX_banners/ALX_Navy.png\"  style=\"width:140px\";/>\n",
    "</div>"
   ]
  }
 ],
 "metadata": {
  "colab": {
   "authorship_tag": "ABX9TyPZFCZhaikX+N2/Bg7W6SY+",
   "collapsed_sections": [],
   "name": "Search_algorithms.ipynb",
   "provenance": [],
   "toc_visible": true
  },
  "kernelspec": {
   "display_name": "Python_env",
   "language": "python",
   "name": "python3"
  },
  "language_info": {
   "codemirror_mode": {
    "name": "ipython",
    "version": 3
   },
   "file_extension": ".py",
   "mimetype": "text/x-python",
   "name": "python",
   "nbconvert_exporter": "python",
   "pygments_lexer": "ipython3",
   "version": "3.13.7"
  }
 },
 "nbformat": 4,
 "nbformat_minor": 2
}
