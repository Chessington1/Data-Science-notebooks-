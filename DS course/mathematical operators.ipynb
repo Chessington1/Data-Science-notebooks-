{
 "cells": [
  {
   "cell_type": "markdown",
   "id": "58e05def-db74-4bac-8bc7-0a8984981288",
   "metadata": {},
   "source": [
    "# Arithmetic operators"
   ]
  },
  {
   "cell_type": "code",
   "execution_count": 2,
   "id": "8fb87c2e-b7d6-4e13-a1c2-a10bb572fe04",
   "metadata": {},
   "outputs": [
    {
     "name": "stdout",
     "output_type": "stream",
     "text": [
      "multiplication: 20\n"
     ]
    }
   ],
   "source": [
    "print('multiplication:', 5*4)"
   ]
  },
  {
   "cell_type": "code",
   "execution_count": 1,
   "id": "ef415267-4c89-459a-aa71-18e7b54b27ce",
   "metadata": {},
   "outputs": [
    {
     "name": "stdout",
     "output_type": "stream",
     "text": [
      "Addition: 8\n"
     ]
    }
   ],
   "source": [
    "print('Addition:', 5+3)"
   ]
  },
  {
   "cell_type": "code",
   "execution_count": 3,
   "id": "e9ed5422-8c52-4a57-883f-658c0da00c16",
   "metadata": {},
   "outputs": [
    {
     "name": "stdout",
     "output_type": "stream",
     "text": [
      "subtraction: 4\n"
     ]
    }
   ],
   "source": [
    "print('subtraction:', 8-4)"
   ]
  },
  {
   "cell_type": "code",
   "execution_count": 4,
   "id": "c7b4e324-073f-4d0c-9666-dd8aa086a09a",
   "metadata": {},
   "outputs": [
    {
     "name": "stdout",
     "output_type": "stream",
     "text": [
      "division: 5.0\n"
     ]
    }
   ],
   "source": [
    "print('division:', 20/4)"
   ]
  },
  {
   "cell_type": "code",
   "execution_count": 5,
   "id": "a0e8db85-df11-4878-a666-428d3c35bc2c",
   "metadata": {},
   "outputs": [
    {
     "name": "stdout",
     "output_type": "stream",
     "text": [
      "Corrected variable: 8\n"
     ]
    }
   ],
   "source": [
    "print('Corrected variable:', 5+ int('3'))"
   ]
  },
  {
   "cell_type": "markdown",
   "id": "616d0127-2efb-45f2-9396-c1cae5f85708",
   "metadata": {},
   "source": [
    "# Assignment operators"
   ]
  },
  {
   "cell_type": "code",
   "execution_count": 6,
   "id": "99589c04-d172-43cc-8186-2ae9dd88eb0b",
   "metadata": {},
   "outputs": [
    {
     "name": "stdout",
     "output_type": "stream",
     "text": [
      "Assignment operator: 10\n"
     ]
    }
   ],
   "source": [
    "x = 10\n",
    "print('Assignment operator:', x)"
   ]
  },
  {
   "cell_type": "code",
   "execution_count": 7,
   "id": "afa563e0-d4d1-40f6-9c0d-22bd9bf16e7f",
   "metadata": {},
   "outputs": [
    {
     "name": "stdout",
     "output_type": "stream",
     "text": [
      "Assignment operator: 15\n"
     ]
    }
   ],
   "source": [
    "x += 5\n",
    "print('Assignment operator:', x)"
   ]
  },
  {
   "cell_type": "code",
   "execution_count": 8,
   "id": "3ae76f28-fbc1-4453-a208-32a29913b2fb",
   "metadata": {},
   "outputs": [
    {
     "name": "stdout",
     "output_type": "stream",
     "text": [
      "assignment  operator: 8\n"
     ]
    }
   ],
   "source": [
    "x -= 7\n",
    "print('assignment  operator:', x)"
   ]
  },
  {
   "cell_type": "code",
   "execution_count": 9,
   "id": "a456dbaf-144d-40a1-9fbd-0df2f8b29563",
   "metadata": {},
   "outputs": [
    {
     "name": "stdout",
     "output_type": "stream",
     "text": [
      "Assignment operator: 16\n"
     ]
    }
   ],
   "source": [
    "x *= 2\n",
    "print('Assignment operator:', x)"
   ]
  },
  {
   "cell_type": "code",
   "execution_count": 15,
   "id": "75cefb18-4fb9-4b48-aeb5-f1b0604841c6",
   "metadata": {},
   "outputs": [
    {
     "name": "stdout",
     "output_type": "stream",
     "text": [
      "16.0\n"
     ]
    }
   ],
   "source": [
    "\n",
    "print(int('256')/x)"
   ]
  },
  {
   "cell_type": "markdown",
   "id": "6fcb5ba7-339b-4be6-a27e-fb7e7738bf56",
   "metadata": {},
   "source": [
    "# Comparison operators"
   ]
  },
  {
   "cell_type": "code",
   "execution_count": 20,
   "id": "2b7537c7-a93a-4145-be00-7addaed6a1cc",
   "metadata": {},
   "outputs": [
    {
     "name": "stdout",
     "output_type": "stream",
     "text": [
      "Not equal to: True\n"
     ]
    }
   ],
   "source": [
    "a= 15\n",
    "b= 10\n",
    "print(\"Not equal to:\", a != b)"
   ]
  },
  {
   "cell_type": "code",
   "execution_count": 21,
   "id": "d9e9733f-2f26-41f4-adc0-8e27f0b3a194",
   "metadata": {},
   "outputs": [
    {
     "name": "stdout",
     "output_type": "stream",
     "text": [
      "Greater than: True\n"
     ]
    }
   ],
   "source": [
    "print('Greater than:', a > b)"
   ]
  },
  {
   "cell_type": "code",
   "execution_count": 22,
   "id": "5c6df96a-38fd-486e-b115-2606c84d4a96",
   "metadata": {},
   "outputs": [
    {
     "name": "stdout",
     "output_type": "stream",
     "text": [
      "Less than or equal to: False\n"
     ]
    }
   ],
   "source": [
    "print('Less than or equal to:', a <=b)"
   ]
  },
  {
   "cell_type": "markdown",
   "id": "ad6464a2-baa7-48ee-a141-86ca13628c21",
   "metadata": {},
   "source": [
    "# logical operators"
   ]
  },
  {
   "cell_type": "code",
   "execution_count": 25,
   "id": "a35d41d5-39d9-414b-82dd-a6216acca3ad",
   "metadata": {},
   "outputs": [
    {
     "name": "stdout",
     "output_type": "stream",
     "text": [
      "Result of And: False\n"
     ]
    }
   ],
   "source": [
    "statement1= True\n",
    "statement2 = False\n",
    "print('Result of And:', (statement1 and statement2))"
   ]
  },
  {
   "cell_type": "code",
   "execution_count": 27,
   "id": "f67265a4-5b36-44f3-8236-da7a5d917c01",
   "metadata": {},
   "outputs": [
    {
     "name": "stdout",
     "output_type": "stream",
     "text": [
      "Result of Or: True\n"
     ]
    }
   ],
   "source": [
    "print('Result of Or:', (statement1 or statement2))"
   ]
  },
  {
   "cell_type": "markdown",
   "id": "2493af54-6529-4f90-aff4-5681c169a54d",
   "metadata": {},
   "source": [
    "## Bitwise operators"
   ]
  },
  {
   "cell_type": "code",
   "execution_count": null,
   "id": "77f93dd8-2bed-406c-b9f6-0cf268bc1695",
   "metadata": {},
   "outputs": [],
   "source": []
  }
 ],
 "metadata": {
  "kernelspec": {
   "display_name": "Python 3 (ipykernel)",
   "language": "python",
   "name": "python3"
  },
  "language_info": {
   "codemirror_mode": {
    "name": "ipython",
    "version": 3
   },
   "file_extension": ".py",
   "mimetype": "text/x-python",
   "name": "python",
   "nbconvert_exporter": "python",
   "pygments_lexer": "ipython3",
   "version": "3.13.7"
  }
 },
 "nbformat": 4,
 "nbformat_minor": 5
}
